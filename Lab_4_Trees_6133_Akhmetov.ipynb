{
  "cells": [
    {
      "cell_type": "markdown",
      "metadata": {
        "id": "view-in-github",
        "colab_type": "text"
      },
      "source": [
        "<a href=\"https://colab.research.google.com/github/LinarKulinar/Data-Analysis-Tools-SSAU/blob/main/Lab_4_Trees_6133_Akhmetov.ipynb\" target=\"_parent\"><img src=\"https://colab.research.google.com/assets/colab-badge.svg\" alt=\"Open In Colab\"/></a>"
      ]
    },
    {
      "cell_type": "markdown",
      "metadata": {
        "id": "4D8KhJ456sX3"
      },
      "source": [
        "# **Лабораторная работа 4**\n",
        "\n",
        "# Деревья решений\n",
        "\n",
        "Выполнил: 6133, Ахметов Линар"
      ]
    },
    {
      "cell_type": "code",
      "execution_count": 1,
      "metadata": {
        "id": "mzf99ssf6sYD"
      },
      "outputs": [],
      "source": [
        "import seaborn as sns\n",
        "import pandas as pd\n",
        "import numpy as np\n",
        "from sklearn.preprocessing import StandardScaler\n",
        "from sklearn.neighbors import KNeighborsClassifier\n",
        "import sklearn.model_selection\n",
        "from sklearn.model_selection import train_test_split\n",
        "import sklearn.metrics as metr\n",
        "from sklearn.metrics import classification_report\n",
        "import sklearn.pipeline\n",
        "from sklearn.tree import DecisionTreeClassifier\n",
        "from sklearn.model_selection import GridSearchCV\n",
        "import matplotlib.pyplot as plt\n",
        "from sklearn.ensemble import RandomForestClassifier"
      ]
    },
    {
      "cell_type": "markdown",
      "source": [
        "Данные представляет размеченый датасет с различными генетическими мутациями.\n",
        "\n",
        "Скачать можно на [kaggle](https://www.kaggle.com/datasets/kevinarvai/clinvar-conflicting)."
      ],
      "metadata": {
        "id": "3w59pliNAqqn"
      }
    },
    {
      "cell_type": "code",
      "execution_count": 2,
      "metadata": {
        "id": "vaEvSlHQ6sYG",
        "outputId": "841c2ace-1ee6-49d8-dcfa-6c1fd8079e2e",
        "colab": {
          "base_uri": "https://localhost:8080/",
          "height": 300
        }
      },
      "outputs": [
        {
          "output_type": "execute_result",
          "data": {
            "text/plain": [
              "  CHROM      POS REF ALT  AF_ESP  AF_EXAC  AF_TGP  \\\n",
              "0     1  1168180   G   C  0.0771  0.10020  0.1066   \n",
              "1     1  1470752   G   A  0.0000  0.00000  0.0000   \n",
              "2     1  1737942   A   G  0.0000  0.00001  0.0000   \n",
              "3     1  2160305   G   A  0.0000  0.00000  0.0000   \n",
              "4     1  2160305   G   T  0.0000  0.00000  0.0000   \n",
              "\n",
              "                                            CLNDISDB CLNDISDBINCL  \\\n",
              "0                                    MedGen:CN169374          NaN   \n",
              "1  MedGen:C1843891,OMIM:607454,Orphanet:ORPHA9877...          NaN   \n",
              "2  Human_Phenotype_Ontology:HP:0000486,MedGen:C00...          NaN   \n",
              "3  MedGen:C1321551,OMIM:182212,SNOMED_CT:83092002...          NaN   \n",
              "4     MedGen:C1321551,OMIM:182212,SNOMED_CT:83092002          NaN   \n",
              "\n",
              "                                               CLNDN  ...  \\\n",
              "0                                      not_specified  ...   \n",
              "1             Spinocerebellar_ataxia_21|not_provided  ...   \n",
              "2  Strabismus|Nystagmus|Hypothyroidism|Intellectu...  ...   \n",
              "3          Shprintzen-Goldberg_syndrome|not_provided  ...   \n",
              "4                       Shprintzen-Goldberg_syndrome  ...   \n",
              "\n",
              "                         SIFT           PolyPhen MOTIF_NAME MOTIF_POS  \\\n",
              "0                   tolerated             benign        NaN       NaN   \n",
              "1  deleterious_low_confidence             benign        NaN       NaN   \n",
              "2                 deleterious  probably_damaging        NaN       NaN   \n",
              "3                         NaN                NaN        NaN       NaN   \n",
              "4                         NaN                NaN        NaN       NaN   \n",
              "\n",
              "  HIGH_INF_POS MOTIF_SCORE_CHANGE  LoFtool  CADD_PHRED  CADD_RAW BLOSUM62  \n",
              "0          NaN                NaN      NaN       1.053 -0.208682      2.0  \n",
              "1          NaN                NaN      NaN      31.000  6.517838     -3.0  \n",
              "2          NaN                NaN      NaN      28.100  6.061752     -1.0  \n",
              "3          NaN                NaN      NaN      22.500  3.114491      NaN  \n",
              "4          NaN                NaN      NaN      24.700  4.766224     -3.0  \n",
              "\n",
              "[5 rows x 46 columns]"
            ],
            "text/html": [
              "\n",
              "  <div id=\"df-12799808-112b-4c92-bfaa-fa24df6ced37\">\n",
              "    <div class=\"colab-df-container\">\n",
              "      <div>\n",
              "<style scoped>\n",
              "    .dataframe tbody tr th:only-of-type {\n",
              "        vertical-align: middle;\n",
              "    }\n",
              "\n",
              "    .dataframe tbody tr th {\n",
              "        vertical-align: top;\n",
              "    }\n",
              "\n",
              "    .dataframe thead th {\n",
              "        text-align: right;\n",
              "    }\n",
              "</style>\n",
              "<table border=\"1\" class=\"dataframe\">\n",
              "  <thead>\n",
              "    <tr style=\"text-align: right;\">\n",
              "      <th></th>\n",
              "      <th>CHROM</th>\n",
              "      <th>POS</th>\n",
              "      <th>REF</th>\n",
              "      <th>ALT</th>\n",
              "      <th>AF_ESP</th>\n",
              "      <th>AF_EXAC</th>\n",
              "      <th>AF_TGP</th>\n",
              "      <th>CLNDISDB</th>\n",
              "      <th>CLNDISDBINCL</th>\n",
              "      <th>CLNDN</th>\n",
              "      <th>...</th>\n",
              "      <th>SIFT</th>\n",
              "      <th>PolyPhen</th>\n",
              "      <th>MOTIF_NAME</th>\n",
              "      <th>MOTIF_POS</th>\n",
              "      <th>HIGH_INF_POS</th>\n",
              "      <th>MOTIF_SCORE_CHANGE</th>\n",
              "      <th>LoFtool</th>\n",
              "      <th>CADD_PHRED</th>\n",
              "      <th>CADD_RAW</th>\n",
              "      <th>BLOSUM62</th>\n",
              "    </tr>\n",
              "  </thead>\n",
              "  <tbody>\n",
              "    <tr>\n",
              "      <th>0</th>\n",
              "      <td>1</td>\n",
              "      <td>1168180</td>\n",
              "      <td>G</td>\n",
              "      <td>C</td>\n",
              "      <td>0.0771</td>\n",
              "      <td>0.10020</td>\n",
              "      <td>0.1066</td>\n",
              "      <td>MedGen:CN169374</td>\n",
              "      <td>NaN</td>\n",
              "      <td>not_specified</td>\n",
              "      <td>...</td>\n",
              "      <td>tolerated</td>\n",
              "      <td>benign</td>\n",
              "      <td>NaN</td>\n",
              "      <td>NaN</td>\n",
              "      <td>NaN</td>\n",
              "      <td>NaN</td>\n",
              "      <td>NaN</td>\n",
              "      <td>1.053</td>\n",
              "      <td>-0.208682</td>\n",
              "      <td>2.0</td>\n",
              "    </tr>\n",
              "    <tr>\n",
              "      <th>1</th>\n",
              "      <td>1</td>\n",
              "      <td>1470752</td>\n",
              "      <td>G</td>\n",
              "      <td>A</td>\n",
              "      <td>0.0000</td>\n",
              "      <td>0.00000</td>\n",
              "      <td>0.0000</td>\n",
              "      <td>MedGen:C1843891,OMIM:607454,Orphanet:ORPHA9877...</td>\n",
              "      <td>NaN</td>\n",
              "      <td>Spinocerebellar_ataxia_21|not_provided</td>\n",
              "      <td>...</td>\n",
              "      <td>deleterious_low_confidence</td>\n",
              "      <td>benign</td>\n",
              "      <td>NaN</td>\n",
              "      <td>NaN</td>\n",
              "      <td>NaN</td>\n",
              "      <td>NaN</td>\n",
              "      <td>NaN</td>\n",
              "      <td>31.000</td>\n",
              "      <td>6.517838</td>\n",
              "      <td>-3.0</td>\n",
              "    </tr>\n",
              "    <tr>\n",
              "      <th>2</th>\n",
              "      <td>1</td>\n",
              "      <td>1737942</td>\n",
              "      <td>A</td>\n",
              "      <td>G</td>\n",
              "      <td>0.0000</td>\n",
              "      <td>0.00001</td>\n",
              "      <td>0.0000</td>\n",
              "      <td>Human_Phenotype_Ontology:HP:0000486,MedGen:C00...</td>\n",
              "      <td>NaN</td>\n",
              "      <td>Strabismus|Nystagmus|Hypothyroidism|Intellectu...</td>\n",
              "      <td>...</td>\n",
              "      <td>deleterious</td>\n",
              "      <td>probably_damaging</td>\n",
              "      <td>NaN</td>\n",
              "      <td>NaN</td>\n",
              "      <td>NaN</td>\n",
              "      <td>NaN</td>\n",
              "      <td>NaN</td>\n",
              "      <td>28.100</td>\n",
              "      <td>6.061752</td>\n",
              "      <td>-1.0</td>\n",
              "    </tr>\n",
              "    <tr>\n",
              "      <th>3</th>\n",
              "      <td>1</td>\n",
              "      <td>2160305</td>\n",
              "      <td>G</td>\n",
              "      <td>A</td>\n",
              "      <td>0.0000</td>\n",
              "      <td>0.00000</td>\n",
              "      <td>0.0000</td>\n",
              "      <td>MedGen:C1321551,OMIM:182212,SNOMED_CT:83092002...</td>\n",
              "      <td>NaN</td>\n",
              "      <td>Shprintzen-Goldberg_syndrome|not_provided</td>\n",
              "      <td>...</td>\n",
              "      <td>NaN</td>\n",
              "      <td>NaN</td>\n",
              "      <td>NaN</td>\n",
              "      <td>NaN</td>\n",
              "      <td>NaN</td>\n",
              "      <td>NaN</td>\n",
              "      <td>NaN</td>\n",
              "      <td>22.500</td>\n",
              "      <td>3.114491</td>\n",
              "      <td>NaN</td>\n",
              "    </tr>\n",
              "    <tr>\n",
              "      <th>4</th>\n",
              "      <td>1</td>\n",
              "      <td>2160305</td>\n",
              "      <td>G</td>\n",
              "      <td>T</td>\n",
              "      <td>0.0000</td>\n",
              "      <td>0.00000</td>\n",
              "      <td>0.0000</td>\n",
              "      <td>MedGen:C1321551,OMIM:182212,SNOMED_CT:83092002</td>\n",
              "      <td>NaN</td>\n",
              "      <td>Shprintzen-Goldberg_syndrome</td>\n",
              "      <td>...</td>\n",
              "      <td>NaN</td>\n",
              "      <td>NaN</td>\n",
              "      <td>NaN</td>\n",
              "      <td>NaN</td>\n",
              "      <td>NaN</td>\n",
              "      <td>NaN</td>\n",
              "      <td>NaN</td>\n",
              "      <td>24.700</td>\n",
              "      <td>4.766224</td>\n",
              "      <td>-3.0</td>\n",
              "    </tr>\n",
              "  </tbody>\n",
              "</table>\n",
              "<p>5 rows × 46 columns</p>\n",
              "</div>\n",
              "      <button class=\"colab-df-convert\" onclick=\"convertToInteractive('df-12799808-112b-4c92-bfaa-fa24df6ced37')\"\n",
              "              title=\"Convert this dataframe to an interactive table.\"\n",
              "              style=\"display:none;\">\n",
              "        \n",
              "  <svg xmlns=\"http://www.w3.org/2000/svg\" height=\"24px\"viewBox=\"0 0 24 24\"\n",
              "       width=\"24px\">\n",
              "    <path d=\"M0 0h24v24H0V0z\" fill=\"none\"/>\n",
              "    <path d=\"M18.56 5.44l.94 2.06.94-2.06 2.06-.94-2.06-.94-.94-2.06-.94 2.06-2.06.94zm-11 1L8.5 8.5l.94-2.06 2.06-.94-2.06-.94L8.5 2.5l-.94 2.06-2.06.94zm10 10l.94 2.06.94-2.06 2.06-.94-2.06-.94-.94-2.06-.94 2.06-2.06.94z\"/><path d=\"M17.41 7.96l-1.37-1.37c-.4-.4-.92-.59-1.43-.59-.52 0-1.04.2-1.43.59L10.3 9.45l-7.72 7.72c-.78.78-.78 2.05 0 2.83L4 21.41c.39.39.9.59 1.41.59.51 0 1.02-.2 1.41-.59l7.78-7.78 2.81-2.81c.8-.78.8-2.07 0-2.86zM5.41 20L4 18.59l7.72-7.72 1.47 1.35L5.41 20z\"/>\n",
              "  </svg>\n",
              "      </button>\n",
              "      \n",
              "  <style>\n",
              "    .colab-df-container {\n",
              "      display:flex;\n",
              "      flex-wrap:wrap;\n",
              "      gap: 12px;\n",
              "    }\n",
              "\n",
              "    .colab-df-convert {\n",
              "      background-color: #E8F0FE;\n",
              "      border: none;\n",
              "      border-radius: 50%;\n",
              "      cursor: pointer;\n",
              "      display: none;\n",
              "      fill: #1967D2;\n",
              "      height: 32px;\n",
              "      padding: 0 0 0 0;\n",
              "      width: 32px;\n",
              "    }\n",
              "\n",
              "    .colab-df-convert:hover {\n",
              "      background-color: #E2EBFA;\n",
              "      box-shadow: 0px 1px 2px rgba(60, 64, 67, 0.3), 0px 1px 3px 1px rgba(60, 64, 67, 0.15);\n",
              "      fill: #174EA6;\n",
              "    }\n",
              "\n",
              "    [theme=dark] .colab-df-convert {\n",
              "      background-color: #3B4455;\n",
              "      fill: #D2E3FC;\n",
              "    }\n",
              "\n",
              "    [theme=dark] .colab-df-convert:hover {\n",
              "      background-color: #434B5C;\n",
              "      box-shadow: 0px 1px 3px 1px rgba(0, 0, 0, 0.15);\n",
              "      filter: drop-shadow(0px 1px 2px rgba(0, 0, 0, 0.3));\n",
              "      fill: #FFFFFF;\n",
              "    }\n",
              "  </style>\n",
              "\n",
              "      <script>\n",
              "        const buttonEl =\n",
              "          document.querySelector('#df-12799808-112b-4c92-bfaa-fa24df6ced37 button.colab-df-convert');\n",
              "        buttonEl.style.display =\n",
              "          google.colab.kernel.accessAllowed ? 'block' : 'none';\n",
              "\n",
              "        async function convertToInteractive(key) {\n",
              "          const element = document.querySelector('#df-12799808-112b-4c92-bfaa-fa24df6ced37');\n",
              "          const dataTable =\n",
              "            await google.colab.kernel.invokeFunction('convertToInteractive',\n",
              "                                                     [key], {});\n",
              "          if (!dataTable) return;\n",
              "\n",
              "          const docLinkHtml = 'Like what you see? Visit the ' +\n",
              "            '<a target=\"_blank\" href=https://colab.research.google.com/notebooks/data_table.ipynb>data table notebook</a>'\n",
              "            + ' to learn more about interactive tables.';\n",
              "          element.innerHTML = '';\n",
              "          dataTable['output_type'] = 'display_data';\n",
              "          await google.colab.output.renderOutput(dataTable, element);\n",
              "          const docLink = document.createElement('div');\n",
              "          docLink.innerHTML = docLinkHtml;\n",
              "          element.appendChild(docLink);\n",
              "        }\n",
              "      </script>\n",
              "    </div>\n",
              "  </div>\n",
              "  "
            ]
          },
          "metadata": {},
          "execution_count": 2
        }
      ],
      "source": [
        "df = pd.read_csv('clinvar_conflicting.csv', dtype={0: object, 38: str, 40: object})\n",
        "df.head()"
      ]
    },
    {
      "cell_type": "code",
      "execution_count": 3,
      "metadata": {
        "id": "qR1eF6s46sYI",
        "outputId": "1e6ac580-62be-480b-b0f7-5a61348b6e5b",
        "colab": {
          "base_uri": "https://localhost:8080/",
          "height": 300
        }
      },
      "outputs": [
        {
          "output_type": "execute_result",
          "data": {
            "text/plain": [
              "  CHROM      POS REF ALT  AF_ESP  AF_EXAC  AF_TGP                      CLNVC  \\\n",
              "0     1  1168180   G   C  0.0771  0.10020  0.1066  single_nucleotide_variant   \n",
              "1     1  1470752   G   A  0.0000  0.00000  0.0000  single_nucleotide_variant   \n",
              "2     1  1737942   A   G  0.0000  0.00001  0.0000  single_nucleotide_variant   \n",
              "3     1  2160305   G   A  0.0000  0.00000  0.0000  single_nucleotide_variant   \n",
              "4     1  2160305   G   T  0.0000  0.00000  0.0000  single_nucleotide_variant   \n",
              "\n",
              "   ORIGIN  CLASS  ...       Consequence    IMPACT         BIOTYPE STRAND  \\\n",
              "0       1      0  ...  missense_variant  MODERATE  protein_coding    1.0   \n",
              "1       1      0  ...  missense_variant  MODERATE  protein_coding   -1.0   \n",
              "2      35      1  ...  missense_variant  MODERATE  protein_coding   -1.0   \n",
              "3      33      0  ...  missense_variant  MODERATE  protein_coding    1.0   \n",
              "4      33      0  ...  missense_variant  MODERATE  protein_coding    1.0   \n",
              "\n",
              "                         SIFT           PolyPhen LoFtool  CADD_PHRED  \\\n",
              "0                   tolerated             benign     NaN       1.053   \n",
              "1  deleterious_low_confidence             benign     NaN      31.000   \n",
              "2                 deleterious  probably_damaging     NaN      28.100   \n",
              "3                         NaN                NaN     NaN      22.500   \n",
              "4                         NaN                NaN     NaN      24.700   \n",
              "\n",
              "   CADD_RAW  BLOSUM62  \n",
              "0 -0.208682       2.0  \n",
              "1  6.517838      -3.0  \n",
              "2  6.061752      -1.0  \n",
              "3  3.114491       NaN  \n",
              "4  4.766224      -3.0  \n",
              "\n",
              "[5 rows x 21 columns]"
            ],
            "text/html": [
              "\n",
              "  <div id=\"df-638c68fa-5176-4097-928f-031896631246\">\n",
              "    <div class=\"colab-df-container\">\n",
              "      <div>\n",
              "<style scoped>\n",
              "    .dataframe tbody tr th:only-of-type {\n",
              "        vertical-align: middle;\n",
              "    }\n",
              "\n",
              "    .dataframe tbody tr th {\n",
              "        vertical-align: top;\n",
              "    }\n",
              "\n",
              "    .dataframe thead th {\n",
              "        text-align: right;\n",
              "    }\n",
              "</style>\n",
              "<table border=\"1\" class=\"dataframe\">\n",
              "  <thead>\n",
              "    <tr style=\"text-align: right;\">\n",
              "      <th></th>\n",
              "      <th>CHROM</th>\n",
              "      <th>POS</th>\n",
              "      <th>REF</th>\n",
              "      <th>ALT</th>\n",
              "      <th>AF_ESP</th>\n",
              "      <th>AF_EXAC</th>\n",
              "      <th>AF_TGP</th>\n",
              "      <th>CLNVC</th>\n",
              "      <th>ORIGIN</th>\n",
              "      <th>CLASS</th>\n",
              "      <th>...</th>\n",
              "      <th>Consequence</th>\n",
              "      <th>IMPACT</th>\n",
              "      <th>BIOTYPE</th>\n",
              "      <th>STRAND</th>\n",
              "      <th>SIFT</th>\n",
              "      <th>PolyPhen</th>\n",
              "      <th>LoFtool</th>\n",
              "      <th>CADD_PHRED</th>\n",
              "      <th>CADD_RAW</th>\n",
              "      <th>BLOSUM62</th>\n",
              "    </tr>\n",
              "  </thead>\n",
              "  <tbody>\n",
              "    <tr>\n",
              "      <th>0</th>\n",
              "      <td>1</td>\n",
              "      <td>1168180</td>\n",
              "      <td>G</td>\n",
              "      <td>C</td>\n",
              "      <td>0.0771</td>\n",
              "      <td>0.10020</td>\n",
              "      <td>0.1066</td>\n",
              "      <td>single_nucleotide_variant</td>\n",
              "      <td>1</td>\n",
              "      <td>0</td>\n",
              "      <td>...</td>\n",
              "      <td>missense_variant</td>\n",
              "      <td>MODERATE</td>\n",
              "      <td>protein_coding</td>\n",
              "      <td>1.0</td>\n",
              "      <td>tolerated</td>\n",
              "      <td>benign</td>\n",
              "      <td>NaN</td>\n",
              "      <td>1.053</td>\n",
              "      <td>-0.208682</td>\n",
              "      <td>2.0</td>\n",
              "    </tr>\n",
              "    <tr>\n",
              "      <th>1</th>\n",
              "      <td>1</td>\n",
              "      <td>1470752</td>\n",
              "      <td>G</td>\n",
              "      <td>A</td>\n",
              "      <td>0.0000</td>\n",
              "      <td>0.00000</td>\n",
              "      <td>0.0000</td>\n",
              "      <td>single_nucleotide_variant</td>\n",
              "      <td>1</td>\n",
              "      <td>0</td>\n",
              "      <td>...</td>\n",
              "      <td>missense_variant</td>\n",
              "      <td>MODERATE</td>\n",
              "      <td>protein_coding</td>\n",
              "      <td>-1.0</td>\n",
              "      <td>deleterious_low_confidence</td>\n",
              "      <td>benign</td>\n",
              "      <td>NaN</td>\n",
              "      <td>31.000</td>\n",
              "      <td>6.517838</td>\n",
              "      <td>-3.0</td>\n",
              "    </tr>\n",
              "    <tr>\n",
              "      <th>2</th>\n",
              "      <td>1</td>\n",
              "      <td>1737942</td>\n",
              "      <td>A</td>\n",
              "      <td>G</td>\n",
              "      <td>0.0000</td>\n",
              "      <td>0.00001</td>\n",
              "      <td>0.0000</td>\n",
              "      <td>single_nucleotide_variant</td>\n",
              "      <td>35</td>\n",
              "      <td>1</td>\n",
              "      <td>...</td>\n",
              "      <td>missense_variant</td>\n",
              "      <td>MODERATE</td>\n",
              "      <td>protein_coding</td>\n",
              "      <td>-1.0</td>\n",
              "      <td>deleterious</td>\n",
              "      <td>probably_damaging</td>\n",
              "      <td>NaN</td>\n",
              "      <td>28.100</td>\n",
              "      <td>6.061752</td>\n",
              "      <td>-1.0</td>\n",
              "    </tr>\n",
              "    <tr>\n",
              "      <th>3</th>\n",
              "      <td>1</td>\n",
              "      <td>2160305</td>\n",
              "      <td>G</td>\n",
              "      <td>A</td>\n",
              "      <td>0.0000</td>\n",
              "      <td>0.00000</td>\n",
              "      <td>0.0000</td>\n",
              "      <td>single_nucleotide_variant</td>\n",
              "      <td>33</td>\n",
              "      <td>0</td>\n",
              "      <td>...</td>\n",
              "      <td>missense_variant</td>\n",
              "      <td>MODERATE</td>\n",
              "      <td>protein_coding</td>\n",
              "      <td>1.0</td>\n",
              "      <td>NaN</td>\n",
              "      <td>NaN</td>\n",
              "      <td>NaN</td>\n",
              "      <td>22.500</td>\n",
              "      <td>3.114491</td>\n",
              "      <td>NaN</td>\n",
              "    </tr>\n",
              "    <tr>\n",
              "      <th>4</th>\n",
              "      <td>1</td>\n",
              "      <td>2160305</td>\n",
              "      <td>G</td>\n",
              "      <td>T</td>\n",
              "      <td>0.0000</td>\n",
              "      <td>0.00000</td>\n",
              "      <td>0.0000</td>\n",
              "      <td>single_nucleotide_variant</td>\n",
              "      <td>33</td>\n",
              "      <td>0</td>\n",
              "      <td>...</td>\n",
              "      <td>missense_variant</td>\n",
              "      <td>MODERATE</td>\n",
              "      <td>protein_coding</td>\n",
              "      <td>1.0</td>\n",
              "      <td>NaN</td>\n",
              "      <td>NaN</td>\n",
              "      <td>NaN</td>\n",
              "      <td>24.700</td>\n",
              "      <td>4.766224</td>\n",
              "      <td>-3.0</td>\n",
              "    </tr>\n",
              "  </tbody>\n",
              "</table>\n",
              "<p>5 rows × 21 columns</p>\n",
              "</div>\n",
              "      <button class=\"colab-df-convert\" onclick=\"convertToInteractive('df-638c68fa-5176-4097-928f-031896631246')\"\n",
              "              title=\"Convert this dataframe to an interactive table.\"\n",
              "              style=\"display:none;\">\n",
              "        \n",
              "  <svg xmlns=\"http://www.w3.org/2000/svg\" height=\"24px\"viewBox=\"0 0 24 24\"\n",
              "       width=\"24px\">\n",
              "    <path d=\"M0 0h24v24H0V0z\" fill=\"none\"/>\n",
              "    <path d=\"M18.56 5.44l.94 2.06.94-2.06 2.06-.94-2.06-.94-.94-2.06-.94 2.06-2.06.94zm-11 1L8.5 8.5l.94-2.06 2.06-.94-2.06-.94L8.5 2.5l-.94 2.06-2.06.94zm10 10l.94 2.06.94-2.06 2.06-.94-2.06-.94-.94-2.06-.94 2.06-2.06.94z\"/><path d=\"M17.41 7.96l-1.37-1.37c-.4-.4-.92-.59-1.43-.59-.52 0-1.04.2-1.43.59L10.3 9.45l-7.72 7.72c-.78.78-.78 2.05 0 2.83L4 21.41c.39.39.9.59 1.41.59.51 0 1.02-.2 1.41-.59l7.78-7.78 2.81-2.81c.8-.78.8-2.07 0-2.86zM5.41 20L4 18.59l7.72-7.72 1.47 1.35L5.41 20z\"/>\n",
              "  </svg>\n",
              "      </button>\n",
              "      \n",
              "  <style>\n",
              "    .colab-df-container {\n",
              "      display:flex;\n",
              "      flex-wrap:wrap;\n",
              "      gap: 12px;\n",
              "    }\n",
              "\n",
              "    .colab-df-convert {\n",
              "      background-color: #E8F0FE;\n",
              "      border: none;\n",
              "      border-radius: 50%;\n",
              "      cursor: pointer;\n",
              "      display: none;\n",
              "      fill: #1967D2;\n",
              "      height: 32px;\n",
              "      padding: 0 0 0 0;\n",
              "      width: 32px;\n",
              "    }\n",
              "\n",
              "    .colab-df-convert:hover {\n",
              "      background-color: #E2EBFA;\n",
              "      box-shadow: 0px 1px 2px rgba(60, 64, 67, 0.3), 0px 1px 3px 1px rgba(60, 64, 67, 0.15);\n",
              "      fill: #174EA6;\n",
              "    }\n",
              "\n",
              "    [theme=dark] .colab-df-convert {\n",
              "      background-color: #3B4455;\n",
              "      fill: #D2E3FC;\n",
              "    }\n",
              "\n",
              "    [theme=dark] .colab-df-convert:hover {\n",
              "      background-color: #434B5C;\n",
              "      box-shadow: 0px 1px 3px 1px rgba(0, 0, 0, 0.15);\n",
              "      filter: drop-shadow(0px 1px 2px rgba(0, 0, 0, 0.3));\n",
              "      fill: #FFFFFF;\n",
              "    }\n",
              "  </style>\n",
              "\n",
              "      <script>\n",
              "        const buttonEl =\n",
              "          document.querySelector('#df-638c68fa-5176-4097-928f-031896631246 button.colab-df-convert');\n",
              "        buttonEl.style.display =\n",
              "          google.colab.kernel.accessAllowed ? 'block' : 'none';\n",
              "\n",
              "        async function convertToInteractive(key) {\n",
              "          const element = document.querySelector('#df-638c68fa-5176-4097-928f-031896631246');\n",
              "          const dataTable =\n",
              "            await google.colab.kernel.invokeFunction('convertToInteractive',\n",
              "                                                     [key], {});\n",
              "          if (!dataTable) return;\n",
              "\n",
              "          const docLinkHtml = 'Like what you see? Visit the ' +\n",
              "            '<a target=\"_blank\" href=https://colab.research.google.com/notebooks/data_table.ipynb>data table notebook</a>'\n",
              "            + ' to learn more about interactive tables.';\n",
              "          element.innerHTML = '';\n",
              "          dataTable['output_type'] = 'display_data';\n",
              "          await google.colab.output.renderOutput(dataTable, element);\n",
              "          const docLink = document.createElement('div');\n",
              "          docLink.innerHTML = docLinkHtml;\n",
              "          element.appendChild(docLink);\n",
              "        }\n",
              "      </script>\n",
              "    </div>\n",
              "  </div>\n",
              "  "
            ]
          },
          "metadata": {},
          "execution_count": 3
        }
      ],
      "source": [
        "df = df.drop([\"CLNDN\",'CLNDISDBINCL','MOTIF_NAME','MOTIF_POS','HIGH_INF_POS','MOTIF_SCORE_CHANGE','DISTANCE','CLNHGVS','CLNDISDB',\"CLNDNINCL\",'CLNSIGINCL','SSR','INTRON','Codons','MC','CLNVI','SYMBOL','Amino_acids','Protein_position','CDS_position','EXON','cDNA_position','Feature', 'Feature_type','BAM_EDIT'], axis=1)\n",
        "df.head()"
      ]
    },
    {
      "cell_type": "code",
      "execution_count": 4,
      "metadata": {
        "id": "74wZ5MV86sYJ",
        "outputId": "63276591-6ff7-4d88-bde3-063434571874",
        "colab": {
          "base_uri": "https://localhost:8080/"
        }
      },
      "outputs": [
        {
          "output_type": "stream",
          "name": "stdout",
          "text": [
            "<class 'pandas.core.frame.DataFrame'>\n",
            "RangeIndex: 65188 entries, 0 to 65187\n",
            "Data columns (total 21 columns):\n",
            " #   Column       Non-Null Count  Dtype  \n",
            "---  ------       --------------  -----  \n",
            " 0   CHROM        65188 non-null  object \n",
            " 1   POS          65188 non-null  int64  \n",
            " 2   REF          65188 non-null  object \n",
            " 3   ALT          65188 non-null  object \n",
            " 4   AF_ESP       65188 non-null  float64\n",
            " 5   AF_EXAC      65188 non-null  float64\n",
            " 6   AF_TGP       65188 non-null  float64\n",
            " 7   CLNVC        65188 non-null  object \n",
            " 8   ORIGIN       65188 non-null  int64  \n",
            " 9   CLASS        65188 non-null  int64  \n",
            " 10  Allele       65188 non-null  object \n",
            " 11  Consequence  65188 non-null  object \n",
            " 12  IMPACT       65188 non-null  object \n",
            " 13  BIOTYPE      65172 non-null  object \n",
            " 14  STRAND       65174 non-null  float64\n",
            " 15  SIFT         24836 non-null  object \n",
            " 16  PolyPhen     24796 non-null  object \n",
            " 17  LoFtool      60975 non-null  float64\n",
            " 18  CADD_PHRED   64096 non-null  float64\n",
            " 19  CADD_RAW     64096 non-null  float64\n",
            " 20  BLOSUM62     25593 non-null  float64\n",
            "dtypes: float64(8), int64(3), object(10)\n",
            "memory usage: 10.4+ MB\n"
          ]
        }
      ],
      "source": [
        "df.info()"
      ]
    },
    {
      "cell_type": "markdown",
      "metadata": {
        "id": "4_Y7_5iq6sYK"
      },
      "source": [
        "# 1.0. Для вашего датасета преобразовать категориальные признаки в бинарные с помощью `pd.factorize` / `pd.get_dummies`"
      ]
    },
    {
      "cell_type": "code",
      "execution_count": 5,
      "metadata": {
        "id": "R03qtE8Q6sYM"
      },
      "outputs": [],
      "source": [
        "df = pd.concat([df, pd.get_dummies(df['CHROM'], drop_first=True)], axis=1)\n",
        "df = pd.concat([df, pd.get_dummies(df['IMPACT'], drop_first=True)], axis=1)\n",
        "df = pd.concat([df, pd.get_dummies(df['BIOTYPE'], drop_first=True)], axis=1)\n",
        "df = pd.concat([df, pd.get_dummies(df['CLNVC'], drop_first=True)], axis=1)\n",
        "df = pd.concat([df, pd.get_dummies(df['PolyPhen'], drop_first=True)], axis=1)\n",
        "\n",
        "df = df.drop(['CHROM', 'IMPACT', 'BIOTYPE', 'CLNVC', 'PolyPhen'], axis=1)"
      ]
    },
    {
      "cell_type": "code",
      "source": [
        "df.head()"
      ],
      "metadata": {
        "colab": {
          "base_uri": "https://localhost:8080/",
          "height": 300
        },
        "id": "cBZ3GVjmCOjD",
        "outputId": "ce487451-58d2-4e5f-a24a-618f53fffc8a"
      },
      "execution_count": 6,
      "outputs": [
        {
          "output_type": "execute_result",
          "data": {
            "text/plain": [
              "       POS REF ALT  AF_ESP  AF_EXAC  AF_TGP  ORIGIN  CLASS Allele  \\\n",
              "0  1168180   G   C  0.0771  0.10020  0.1066       1      0      C   \n",
              "1  1470752   G   A  0.0000  0.00000  0.0000       1      0      A   \n",
              "2  1737942   A   G  0.0000  0.00001  0.0000      35      1      G   \n",
              "3  2160305   G   A  0.0000  0.00000  0.0000      33      0      A   \n",
              "4  2160305   G   T  0.0000  0.00000  0.0000      33      0      T   \n",
              "\n",
              "        Consequence  ...  protein_coding Duplication  Indel  Insertion  \\\n",
              "0  missense_variant  ...               1           0      0          0   \n",
              "1  missense_variant  ...               1           0      0          0   \n",
              "2  missense_variant  ...               1           0      0          0   \n",
              "3  missense_variant  ...               1           0      0          0   \n",
              "4  missense_variant  ...               1           0      0          0   \n",
              "\n",
              "   Inversion  Microsatellite  single_nucleotide_variant  possibly_damaging  \\\n",
              "0          0               0                          1                  0   \n",
              "1          0               0                          1                  0   \n",
              "2          0               0                          1                  0   \n",
              "3          0               0                          1                  0   \n",
              "4          0               0                          1                  0   \n",
              "\n",
              "   probably_damaging  unknown  \n",
              "0                  0        0  \n",
              "1                  0        0  \n",
              "2                  1        0  \n",
              "3                  0        0  \n",
              "4                  0        0  \n",
              "\n",
              "[5 rows x 52 columns]"
            ],
            "text/html": [
              "\n",
              "  <div id=\"df-44d5401b-4b5c-48a6-b955-8fe42ac6f421\">\n",
              "    <div class=\"colab-df-container\">\n",
              "      <div>\n",
              "<style scoped>\n",
              "    .dataframe tbody tr th:only-of-type {\n",
              "        vertical-align: middle;\n",
              "    }\n",
              "\n",
              "    .dataframe tbody tr th {\n",
              "        vertical-align: top;\n",
              "    }\n",
              "\n",
              "    .dataframe thead th {\n",
              "        text-align: right;\n",
              "    }\n",
              "</style>\n",
              "<table border=\"1\" class=\"dataframe\">\n",
              "  <thead>\n",
              "    <tr style=\"text-align: right;\">\n",
              "      <th></th>\n",
              "      <th>POS</th>\n",
              "      <th>REF</th>\n",
              "      <th>ALT</th>\n",
              "      <th>AF_ESP</th>\n",
              "      <th>AF_EXAC</th>\n",
              "      <th>AF_TGP</th>\n",
              "      <th>ORIGIN</th>\n",
              "      <th>CLASS</th>\n",
              "      <th>Allele</th>\n",
              "      <th>Consequence</th>\n",
              "      <th>...</th>\n",
              "      <th>protein_coding</th>\n",
              "      <th>Duplication</th>\n",
              "      <th>Indel</th>\n",
              "      <th>Insertion</th>\n",
              "      <th>Inversion</th>\n",
              "      <th>Microsatellite</th>\n",
              "      <th>single_nucleotide_variant</th>\n",
              "      <th>possibly_damaging</th>\n",
              "      <th>probably_damaging</th>\n",
              "      <th>unknown</th>\n",
              "    </tr>\n",
              "  </thead>\n",
              "  <tbody>\n",
              "    <tr>\n",
              "      <th>0</th>\n",
              "      <td>1168180</td>\n",
              "      <td>G</td>\n",
              "      <td>C</td>\n",
              "      <td>0.0771</td>\n",
              "      <td>0.10020</td>\n",
              "      <td>0.1066</td>\n",
              "      <td>1</td>\n",
              "      <td>0</td>\n",
              "      <td>C</td>\n",
              "      <td>missense_variant</td>\n",
              "      <td>...</td>\n",
              "      <td>1</td>\n",
              "      <td>0</td>\n",
              "      <td>0</td>\n",
              "      <td>0</td>\n",
              "      <td>0</td>\n",
              "      <td>0</td>\n",
              "      <td>1</td>\n",
              "      <td>0</td>\n",
              "      <td>0</td>\n",
              "      <td>0</td>\n",
              "    </tr>\n",
              "    <tr>\n",
              "      <th>1</th>\n",
              "      <td>1470752</td>\n",
              "      <td>G</td>\n",
              "      <td>A</td>\n",
              "      <td>0.0000</td>\n",
              "      <td>0.00000</td>\n",
              "      <td>0.0000</td>\n",
              "      <td>1</td>\n",
              "      <td>0</td>\n",
              "      <td>A</td>\n",
              "      <td>missense_variant</td>\n",
              "      <td>...</td>\n",
              "      <td>1</td>\n",
              "      <td>0</td>\n",
              "      <td>0</td>\n",
              "      <td>0</td>\n",
              "      <td>0</td>\n",
              "      <td>0</td>\n",
              "      <td>1</td>\n",
              "      <td>0</td>\n",
              "      <td>0</td>\n",
              "      <td>0</td>\n",
              "    </tr>\n",
              "    <tr>\n",
              "      <th>2</th>\n",
              "      <td>1737942</td>\n",
              "      <td>A</td>\n",
              "      <td>G</td>\n",
              "      <td>0.0000</td>\n",
              "      <td>0.00001</td>\n",
              "      <td>0.0000</td>\n",
              "      <td>35</td>\n",
              "      <td>1</td>\n",
              "      <td>G</td>\n",
              "      <td>missense_variant</td>\n",
              "      <td>...</td>\n",
              "      <td>1</td>\n",
              "      <td>0</td>\n",
              "      <td>0</td>\n",
              "      <td>0</td>\n",
              "      <td>0</td>\n",
              "      <td>0</td>\n",
              "      <td>1</td>\n",
              "      <td>0</td>\n",
              "      <td>1</td>\n",
              "      <td>0</td>\n",
              "    </tr>\n",
              "    <tr>\n",
              "      <th>3</th>\n",
              "      <td>2160305</td>\n",
              "      <td>G</td>\n",
              "      <td>A</td>\n",
              "      <td>0.0000</td>\n",
              "      <td>0.00000</td>\n",
              "      <td>0.0000</td>\n",
              "      <td>33</td>\n",
              "      <td>0</td>\n",
              "      <td>A</td>\n",
              "      <td>missense_variant</td>\n",
              "      <td>...</td>\n",
              "      <td>1</td>\n",
              "      <td>0</td>\n",
              "      <td>0</td>\n",
              "      <td>0</td>\n",
              "      <td>0</td>\n",
              "      <td>0</td>\n",
              "      <td>1</td>\n",
              "      <td>0</td>\n",
              "      <td>0</td>\n",
              "      <td>0</td>\n",
              "    </tr>\n",
              "    <tr>\n",
              "      <th>4</th>\n",
              "      <td>2160305</td>\n",
              "      <td>G</td>\n",
              "      <td>T</td>\n",
              "      <td>0.0000</td>\n",
              "      <td>0.00000</td>\n",
              "      <td>0.0000</td>\n",
              "      <td>33</td>\n",
              "      <td>0</td>\n",
              "      <td>T</td>\n",
              "      <td>missense_variant</td>\n",
              "      <td>...</td>\n",
              "      <td>1</td>\n",
              "      <td>0</td>\n",
              "      <td>0</td>\n",
              "      <td>0</td>\n",
              "      <td>0</td>\n",
              "      <td>0</td>\n",
              "      <td>1</td>\n",
              "      <td>0</td>\n",
              "      <td>0</td>\n",
              "      <td>0</td>\n",
              "    </tr>\n",
              "  </tbody>\n",
              "</table>\n",
              "<p>5 rows × 52 columns</p>\n",
              "</div>\n",
              "      <button class=\"colab-df-convert\" onclick=\"convertToInteractive('df-44d5401b-4b5c-48a6-b955-8fe42ac6f421')\"\n",
              "              title=\"Convert this dataframe to an interactive table.\"\n",
              "              style=\"display:none;\">\n",
              "        \n",
              "  <svg xmlns=\"http://www.w3.org/2000/svg\" height=\"24px\"viewBox=\"0 0 24 24\"\n",
              "       width=\"24px\">\n",
              "    <path d=\"M0 0h24v24H0V0z\" fill=\"none\"/>\n",
              "    <path d=\"M18.56 5.44l.94 2.06.94-2.06 2.06-.94-2.06-.94-.94-2.06-.94 2.06-2.06.94zm-11 1L8.5 8.5l.94-2.06 2.06-.94-2.06-.94L8.5 2.5l-.94 2.06-2.06.94zm10 10l.94 2.06.94-2.06 2.06-.94-2.06-.94-.94-2.06-.94 2.06-2.06.94z\"/><path d=\"M17.41 7.96l-1.37-1.37c-.4-.4-.92-.59-1.43-.59-.52 0-1.04.2-1.43.59L10.3 9.45l-7.72 7.72c-.78.78-.78 2.05 0 2.83L4 21.41c.39.39.9.59 1.41.59.51 0 1.02-.2 1.41-.59l7.78-7.78 2.81-2.81c.8-.78.8-2.07 0-2.86zM5.41 20L4 18.59l7.72-7.72 1.47 1.35L5.41 20z\"/>\n",
              "  </svg>\n",
              "      </button>\n",
              "      \n",
              "  <style>\n",
              "    .colab-df-container {\n",
              "      display:flex;\n",
              "      flex-wrap:wrap;\n",
              "      gap: 12px;\n",
              "    }\n",
              "\n",
              "    .colab-df-convert {\n",
              "      background-color: #E8F0FE;\n",
              "      border: none;\n",
              "      border-radius: 50%;\n",
              "      cursor: pointer;\n",
              "      display: none;\n",
              "      fill: #1967D2;\n",
              "      height: 32px;\n",
              "      padding: 0 0 0 0;\n",
              "      width: 32px;\n",
              "    }\n",
              "\n",
              "    .colab-df-convert:hover {\n",
              "      background-color: #E2EBFA;\n",
              "      box-shadow: 0px 1px 2px rgba(60, 64, 67, 0.3), 0px 1px 3px 1px rgba(60, 64, 67, 0.15);\n",
              "      fill: #174EA6;\n",
              "    }\n",
              "\n",
              "    [theme=dark] .colab-df-convert {\n",
              "      background-color: #3B4455;\n",
              "      fill: #D2E3FC;\n",
              "    }\n",
              "\n",
              "    [theme=dark] .colab-df-convert:hover {\n",
              "      background-color: #434B5C;\n",
              "      box-shadow: 0px 1px 3px 1px rgba(0, 0, 0, 0.15);\n",
              "      filter: drop-shadow(0px 1px 2px rgba(0, 0, 0, 0.3));\n",
              "      fill: #FFFFFF;\n",
              "    }\n",
              "  </style>\n",
              "\n",
              "      <script>\n",
              "        const buttonEl =\n",
              "          document.querySelector('#df-44d5401b-4b5c-48a6-b955-8fe42ac6f421 button.colab-df-convert');\n",
              "        buttonEl.style.display =\n",
              "          google.colab.kernel.accessAllowed ? 'block' : 'none';\n",
              "\n",
              "        async function convertToInteractive(key) {\n",
              "          const element = document.querySelector('#df-44d5401b-4b5c-48a6-b955-8fe42ac6f421');\n",
              "          const dataTable =\n",
              "            await google.colab.kernel.invokeFunction('convertToInteractive',\n",
              "                                                     [key], {});\n",
              "          if (!dataTable) return;\n",
              "\n",
              "          const docLinkHtml = 'Like what you see? Visit the ' +\n",
              "            '<a target=\"_blank\" href=https://colab.research.google.com/notebooks/data_table.ipynb>data table notebook</a>'\n",
              "            + ' to learn more about interactive tables.';\n",
              "          element.innerHTML = '';\n",
              "          dataTable['output_type'] = 'display_data';\n",
              "          await google.colab.output.renderOutput(dataTable, element);\n",
              "          const docLink = document.createElement('div');\n",
              "          docLink.innerHTML = docLinkHtml;\n",
              "          element.appendChild(docLink);\n",
              "        }\n",
              "      </script>\n",
              "    </div>\n",
              "  </div>\n",
              "  "
            ]
          },
          "metadata": {},
          "execution_count": 6
        }
      ]
    },
    {
      "cell_type": "code",
      "execution_count": 7,
      "metadata": {
        "id": "J7zrOXQL6sYP"
      },
      "outputs": [],
      "source": [
        "df['Consequence'] = pd.factorize(df['Consequence'])[0]\n",
        "df['REF'] = pd.factorize(df['REF'])[0]\n",
        "df['ALT'] = pd.factorize(df['ALT'])[0]\n",
        "df['SIFT'] = pd.factorize(df['SIFT'])[0]\n",
        "df['Allele'] = pd.factorize(df['Allele'])[0]"
      ]
    },
    {
      "cell_type": "code",
      "execution_count": 8,
      "metadata": {
        "id": "h7aNX_pi6sYR",
        "outputId": "8b33c54d-4b73-43ec-b80b-77dbae1a4050",
        "colab": {
          "base_uri": "https://localhost:8080/"
        }
      },
      "outputs": [
        {
          "output_type": "stream",
          "name": "stdout",
          "text": [
            "<class 'pandas.core.frame.DataFrame'>\n",
            "RangeIndex: 65188 entries, 0 to 65187\n",
            "Data columns (total 52 columns):\n",
            " #   Column                     Non-Null Count  Dtype  \n",
            "---  ------                     --------------  -----  \n",
            " 0   POS                        65188 non-null  int64  \n",
            " 1   REF                        65188 non-null  int64  \n",
            " 2   ALT                        65188 non-null  int64  \n",
            " 3   AF_ESP                     65188 non-null  float64\n",
            " 4   AF_EXAC                    65188 non-null  float64\n",
            " 5   AF_TGP                     65188 non-null  float64\n",
            " 6   ORIGIN                     65188 non-null  int64  \n",
            " 7   CLASS                      65188 non-null  int64  \n",
            " 8   Allele                     65188 non-null  int64  \n",
            " 9   Consequence                65188 non-null  int64  \n",
            " 10  STRAND                     65188 non-null  float64\n",
            " 11  SIFT                       65188 non-null  int64  \n",
            " 12  LoFtool                    65188 non-null  float64\n",
            " 13  CADD_PHRED                 65188 non-null  float64\n",
            " 14  CADD_RAW                   65188 non-null  float64\n",
            " 15  BLOSUM62                   65188 non-null  float64\n",
            " 16  10                         65188 non-null  uint8  \n",
            " 17  11                         65188 non-null  uint8  \n",
            " 18  12                         65188 non-null  uint8  \n",
            " 19  13                         65188 non-null  uint8  \n",
            " 20  14                         65188 non-null  uint8  \n",
            " 21  15                         65188 non-null  uint8  \n",
            " 22  16                         65188 non-null  uint8  \n",
            " 23  17                         65188 non-null  uint8  \n",
            " 24  18                         65188 non-null  uint8  \n",
            " 25  19                         65188 non-null  uint8  \n",
            " 26  2                          65188 non-null  uint8  \n",
            " 27  20                         65188 non-null  uint8  \n",
            " 28  21                         65188 non-null  uint8  \n",
            " 29  22                         65188 non-null  uint8  \n",
            " 30  3                          65188 non-null  uint8  \n",
            " 31  4                          65188 non-null  uint8  \n",
            " 32  5                          65188 non-null  uint8  \n",
            " 33  6                          65188 non-null  uint8  \n",
            " 34  7                          65188 non-null  uint8  \n",
            " 35  8                          65188 non-null  uint8  \n",
            " 36  9                          65188 non-null  uint8  \n",
            " 37  MT                         65188 non-null  uint8  \n",
            " 38  X                          65188 non-null  uint8  \n",
            " 39  LOW                        65188 non-null  uint8  \n",
            " 40  MODERATE                   65188 non-null  uint8  \n",
            " 41  MODIFIER                   65188 non-null  uint8  \n",
            " 42  protein_coding             65188 non-null  uint8  \n",
            " 43  Duplication                65188 non-null  uint8  \n",
            " 44  Indel                      65188 non-null  uint8  \n",
            " 45  Insertion                  65188 non-null  uint8  \n",
            " 46  Inversion                  65188 non-null  uint8  \n",
            " 47  Microsatellite             65188 non-null  uint8  \n",
            " 48  single_nucleotide_variant  65188 non-null  uint8  \n",
            " 49  possibly_damaging          65188 non-null  uint8  \n",
            " 50  probably_damaging          65188 non-null  uint8  \n",
            " 51  unknown                    65188 non-null  uint8  \n",
            "dtypes: float64(8), int64(8), uint8(36)\n",
            "memory usage: 10.2 MB\n"
          ]
        }
      ],
      "source": [
        "df = df.fillna(0)\n",
        "df.info()"
      ]
    },
    {
      "cell_type": "markdown",
      "metadata": {
        "id": "5Zz3Rr716sYS"
      },
      "source": [
        "# 1.1. С помощью `sklearn.preprocessing.StandardScaler` нормализовать значения признаков и построить для нормализовапнного датасета `KNeighborsClassifier` (без использования конвееров)"
      ]
    },
    {
      "cell_type": "code",
      "execution_count": 9,
      "metadata": {
        "id": "S30y5Ez06sYT"
      },
      "outputs": [],
      "source": [
        "scaler = StandardScaler()"
      ]
    },
    {
      "cell_type": "code",
      "execution_count": 10,
      "metadata": {
        "id": "ly5rDJLu6sYU"
      },
      "outputs": [],
      "source": [
        "X = df.drop(columns=['CLASS'])\n",
        "y = df.CLASS\n",
        "X_train, X_test, y_train, y_test = train_test_split(X, y, test_size = 0.25, random_state=42)"
      ]
    },
    {
      "cell_type": "code",
      "execution_count": 11,
      "metadata": {
        "id": "HAgRvHkM6sYU"
      },
      "outputs": [],
      "source": [
        "#нормируем данные:\n",
        "scaler.fit(X_train) \n",
        "tdtr = scaler.transform(X_train)\n",
        "tdt = scaler.transform(X_test)"
      ]
    },
    {
      "cell_type": "code",
      "execution_count": 12,
      "metadata": {
        "id": "OOn0aNjD6sYV"
      },
      "outputs": [],
      "source": [
        "clf = KNeighborsClassifier(n_neighbors=5) \n",
        "clf.fit(tdtr, y_train)\n",
        "cl1 = clf.predict(tdt)"
      ]
    },
    {
      "cell_type": "code",
      "execution_count": 13,
      "metadata": {
        "id": "Mq-iV7du6sYW",
        "outputId": "60d05903-0834-46a7-8c62-03ad1ca75a5f",
        "colab": {
          "base_uri": "https://localhost:8080/"
        }
      },
      "outputs": [
        {
          "output_type": "execute_result",
          "data": {
            "text/plain": [
              "0.7188439590108608"
            ]
          },
          "metadata": {},
          "execution_count": 13
        }
      ],
      "source": [
        "#доля правильных ответов:\n",
        "metr.accuracy_score(y_test, cl1) "
      ]
    },
    {
      "cell_type": "markdown",
      "metadata": {
        "id": "1RyPA0xe6sYW"
      },
      "source": [
        "# 1.2. То же самое и использованием `sklearn.pipeline.Pipeline`"
      ]
    },
    {
      "cell_type": "code",
      "execution_count": 14,
      "metadata": {
        "id": "4F8jciSn6sYX",
        "outputId": "42506385-9197-4137-d00d-dae4671379d4",
        "colab": {
          "base_uri": "https://localhost:8080/"
        }
      },
      "outputs": [
        {
          "output_type": "execute_result",
          "data": {
            "text/plain": [
              "0.7188439590108608"
            ]
          },
          "metadata": {},
          "execution_count": 14
        }
      ],
      "source": [
        "knn_pipe = sklearn.pipeline.Pipeline([ \n",
        "    ('scaler', sklearn.preprocessing.StandardScaler()), \n",
        "    ('knn', sklearn.neighbors.KNeighborsClassifier(n_jobs=-1))\n",
        "])\n",
        "knn_pipe.fit(tdtr,y_train) #вызываемые методы должны совпадать у всех объектов пайплайна\n",
        "cl2 = knn_pipe.predict(tdt)\n",
        "metr.accuracy_score(y_test, cl2) #доля правильных ответов"
      ]
    },
    {
      "cell_type": "markdown",
      "metadata": {
        "id": "e73z5SCE6sYX"
      },
      "source": [
        "# 1.3. С помощью `GridSearchCV` произвести подбор гиперпараметра KNeighborsClassifier (n_neighbors) и выведите значение гиперпараметра и метрику для наилучшей модели"
      ]
    },
    {
      "cell_type": "code",
      "execution_count": 15,
      "metadata": {
        "id": "S35O9vuQ6sYY",
        "outputId": "0611ce20-1c36-431d-cce2-04f5bfe7e084",
        "colab": {
          "base_uri": "https://localhost:8080/"
        }
      },
      "outputs": [
        {
          "output_type": "execute_result",
          "data": {
            "text/plain": [
              "GridSearchCV(estimator=KNeighborsClassifier(n_jobs=-1),\n",
              "             param_grid={'n_neighbors': range(3, 17)})"
            ]
          },
          "metadata": {},
          "execution_count": 15
        }
      ],
      "source": [
        "knn = sklearn.neighbors.KNeighborsClassifier(n_jobs=-1)\n",
        "\n",
        "knn_params = { 'n_neighbors': range(3, 17) } \n",
        "\n",
        "knn_grid = sklearn.model_selection.GridSearchCV(knn, knn_params) \n",
        "\n",
        "knn_grid.fit(tdtr, y_train)"
      ]
    },
    {
      "cell_type": "code",
      "execution_count": 16,
      "metadata": {
        "id": "FWvezKx46sYY",
        "outputId": "23ba8ee0-6711-4b08-d904-2b9559264db8",
        "colab": {
          "base_uri": "https://localhost:8080/"
        }
      },
      "outputs": [
        {
          "output_type": "execute_result",
          "data": {
            "text/plain": [
              "({'n_neighbors': 16}, 0.7415679563976479)"
            ]
          },
          "metadata": {},
          "execution_count": 16
        }
      ],
      "source": [
        "#получаем оптимальные параметры для заданного классификатора:\n",
        "knn_grid.best_params_, knn_grid.best_score_ "
      ]
    },
    {
      "cell_type": "code",
      "execution_count": 17,
      "metadata": {
        "id": "0sKsLIDx6sYZ",
        "outputId": "fc8af7c0-d42b-4f20-af77-2d3ffd856cd6",
        "colab": {
          "base_uri": "https://localhost:8080/"
        }
      },
      "outputs": [
        {
          "output_type": "execute_result",
          "data": {
            "text/plain": [
              "0.7469472909124378"
            ]
          },
          "metadata": {},
          "execution_count": 17
        }
      ],
      "source": [
        "#доля правильных ответов:\n",
        "metr.accuracy_score(y_test, knn_grid.predict(tdt)) "
      ]
    },
    {
      "cell_type": "markdown",
      "metadata": {
        "id": "66L-3Inj6sYa"
      },
      "source": [
        "# 2.1. Продемонстрировать работу `DecisionTreeClassifier`, посчитать метрики качества на отложенной выборке"
      ]
    },
    {
      "cell_type": "code",
      "execution_count": null,
      "metadata": {
        "id": "6Frtu30a6sYa",
        "outputId": "fed7cc89-98ca-42ea-80c3-e04a0b254332"
      },
      "outputs": [
        {
          "data": {
            "text/plain": [
              "0.7493403693931399"
            ]
          },
          "execution_count": 17,
          "metadata": {},
          "output_type": "execute_result"
        }
      ],
      "source": [
        "clf_tree = DecisionTreeClassifier( \n",
        "    criterion = 'entropy', max_depth = 3, random_state = 42\n",
        ")\n",
        "clf_tree.fit(tdtr, y_train)\n",
        "cl_t = clf_tree.predict(tdt)\n",
        "metr.accuracy_score(y_test, cl_t)"
      ]
    },
    {
      "cell_type": "code",
      "execution_count": null,
      "metadata": {
        "id": "M91FtCxU6sYb",
        "outputId": "4a343937-c4d2-4a3b-ccea-f771d3a7086b"
      },
      "outputs": [
        {
          "name": "stdout",
          "output_type": "stream",
          "text": [
            "Classification Report :\n",
            "                precision    recall  f1-score   support\n",
            "\n",
            "           0       1.00      0.75      0.86     16297\n",
            "           1       0.00      0.00      0.00         0\n",
            "\n",
            "    accuracy                           0.75     16297\n",
            "   macro avg       0.50      0.37      0.43     16297\n",
            "weighted avg       1.00      0.75      0.86     16297\n",
            "\n"
          ]
        },
        {
          "name": "stderr",
          "output_type": "stream",
          "text": [
            "/Library/Frameworks/Python.framework/Versions/3.7/lib/python3.7/site-packages/sklearn/metrics/classification.py:1439: UndefinedMetricWarning: Recall and F-score are ill-defined and being set to 0.0 in labels with no true samples.\n",
            "  'recall', 'true', average, warn_for)\n"
          ]
        }
      ],
      "source": [
        "print(\"Classification Report :\\n \", classification_report(cl_t, y_test))"
      ]
    },
    {
      "cell_type": "markdown",
      "metadata": {
        "id": "olkriU-p6sYc"
      },
      "source": [
        "# 2.2. С помощью `GridSearchCV` произвести подбор гиперпараметров для поиск наилучшего дерева (перебрать `max_depth`, `max_features` и может быть что-то ещё)"
      ]
    },
    {
      "cell_type": "code",
      "execution_count": null,
      "metadata": {
        "id": "ytwxLQmb6sYc",
        "outputId": "316dfda1-37d1-4940-88be-08ad9d57a6c9"
      },
      "outputs": [
        {
          "name": "stderr",
          "output_type": "stream",
          "text": [
            "/Library/Frameworks/Python.framework/Versions/3.7/lib/python3.7/site-packages/sklearn/model_selection/_split.py:1978: FutureWarning: The default value of cv will change from 3 to 5 in version 0.22. Specify it explicitly to silence this warning.\n",
            "  warnings.warn(CV_WARNING, FutureWarning)\n"
          ]
        },
        {
          "data": {
            "text/plain": [
              "GridSearchCV(cv='warn', error_score='raise-deprecating',\n",
              "             estimator=DecisionTreeClassifier(class_weight=None,\n",
              "                                              criterion='gini', max_depth=None,\n",
              "                                              max_features=None,\n",
              "                                              max_leaf_nodes=None,\n",
              "                                              min_impurity_decrease=0.0,\n",
              "                                              min_impurity_split=None,\n",
              "                                              min_samples_leaf=1,\n",
              "                                              min_samples_split=2,\n",
              "                                              min_weight_fraction_leaf=0.0,\n",
              "                                              presort=False, random_state=42,\n",
              "                                              splitter='best'),\n",
              "             iid='warn', n_jobs=None,\n",
              "             param_grid={'max_depth': range(1, 25),\n",
              "                         'max_features': range(2, 20)},\n",
              "             pre_dispatch='2*n_jobs', refit=True, return_train_score=False,\n",
              "             scoring=None, verbose=0)"
            ]
          },
          "execution_count": 19,
          "metadata": {},
          "output_type": "execute_result"
        }
      ],
      "source": [
        "tree = DecisionTreeClassifier(random_state=42)\n",
        "tree_params = {'max_depth': range(1, 25),\n",
        "              'max_features': range(2, 20)}\n",
        "\n",
        "tree_grid = GridSearchCV(tree, tree_params) #подбираем параметры для дерева\n",
        "\n",
        "tree_grid.fit( tdtr, y_train )"
      ]
    },
    {
      "cell_type": "code",
      "execution_count": null,
      "metadata": {
        "id": "Vpy-wGTA6sYd",
        "outputId": "062f62ad-9a24-4308-eefc-4d81adc7ac7d"
      },
      "outputs": [
        {
          "data": {
            "text/plain": [
              "({'max_depth': 10, 'max_features': 13}, 0.7492994620686834)"
            ]
          },
          "execution_count": 20,
          "metadata": {},
          "output_type": "execute_result"
        }
      ],
      "source": [
        "#оптимальные параметры:\n",
        "tree_grid.best_params_, tree_grid.best_score_ "
      ]
    },
    {
      "cell_type": "code",
      "execution_count": null,
      "metadata": {
        "id": "43hbM_346sYe",
        "outputId": "80a2f7cc-dc6f-4883-e93e-fb0e48f51767"
      },
      "outputs": [
        {
          "data": {
            "text/plain": [
              "0.7471927348591766"
            ]
          },
          "execution_count": 21,
          "metadata": {},
          "output_type": "execute_result"
        }
      ],
      "source": [
        "#доля правильных ответов:\n",
        "metr.accuracy_score(y_test, tree_grid.predict(tdt)) "
      ]
    },
    {
      "cell_type": "markdown",
      "metadata": {
        "id": "Yn03FHTd6sYe"
      },
      "source": [
        "# 2.3 Для полученного наилучшего дерева построить график `feature_importances` и дополнительно напечатать 3 наиболее важных признака, отсортиров их по убыванию по важности"
      ]
    },
    {
      "cell_type": "code",
      "execution_count": null,
      "metadata": {
        "id": "A2uQCLc56sYf",
        "outputId": "a139496e-f588-4be0-e456-72d8bde4127f"
      },
      "outputs": [
        {
          "data": {
            "text/plain": [
              "array([0.        , 0.        , 0.        , 0.05649671, 0.45452733,\n",
              "       0.42117943, 0.        , 0.        , 0.06779653, 0.        ,\n",
              "       0.        , 0.        , 0.        , 0.        , 0.        ,\n",
              "       0.        , 0.        , 0.        , 0.        , 0.        ,\n",
              "       0.        , 0.        , 0.        , 0.        , 0.        ,\n",
              "       0.        , 0.        , 0.        , 0.        , 0.        ,\n",
              "       0.        , 0.        , 0.        , 0.        , 0.        ,\n",
              "       0.        , 0.        , 0.        , 0.        , 0.        ,\n",
              "       0.        , 0.        , 0.        , 0.        , 0.        ,\n",
              "       0.        , 0.        , 0.        , 0.        , 0.        ,\n",
              "       0.        ])"
            ]
          },
          "execution_count": 22,
          "metadata": {},
          "output_type": "execute_result"
        }
      ],
      "source": [
        "clf_tree.feature_importances_ "
      ]
    },
    {
      "cell_type": "code",
      "execution_count": null,
      "metadata": {
        "id": "wCOYrfjf6sYf"
      },
      "outputs": [],
      "source": [
        "y = pd.Series(data=clf_tree.feature_importances_, index=X.columns)\n",
        "ind = y[:] == 0\n",
        "y = y[~ind]"
      ]
    },
    {
      "cell_type": "code",
      "execution_count": null,
      "metadata": {
        "id": "_HNFdoHL6sYf",
        "outputId": "8dd6fff7-b457-4e49-d038-d10aaa2775e7"
      },
      "outputs": [
        {
          "data": {
            "text/plain": [
              "([<matplotlib.axis.XTick at 0x7fe1712a4208>,\n",
              "  <matplotlib.axis.XTick at 0x7fe171b56668>,\n",
              "  <matplotlib.axis.XTick at 0x7fe171b56940>,\n",
              "  <matplotlib.axis.XTick at 0x7fe170b61cc0>],\n",
              " <a list of 4 Text xticklabel objects>)"
            ]
          },
          "execution_count": 27,
          "metadata": {},
          "output_type": "execute_result"
        },
        {
          "data": {
            "image/png": "[encoded data removed]",
            "text/plain": [
              "<Figure size 432x288 with 1 Axes>"
            ]
          },
          "metadata": {
            "needs_background": "light"
          },
          "output_type": "display_data"
        }
      ],
      "source": [
        "x = range(len(y))\n",
        "plt.bar(x, y)\n",
        "plt.xticks(x, y.index,rotation = 45)"
      ]
    },
    {
      "cell_type": "code",
      "execution_count": null,
      "metadata": {
        "id": "3Xgqys0W6sYg",
        "outputId": "817f688c-79d3-444b-e2d0-9d2c300fabbf"
      },
      "outputs": [
        {
          "data": {
            "text/plain": [
              "AF_ESP         0.056497\n",
              "Consequence    0.067797\n",
              "AF_TGP         0.421179\n",
              "AF_EXAC        0.454527\n",
              "dtype: float64"
            ]
          },
          "execution_count": 28,
          "metadata": {},
          "output_type": "execute_result"
        }
      ],
      "source": [
        "y.sort_values()"
      ]
    },
    {
      "cell_type": "markdown",
      "metadata": {
        "id": "xX_fvl2a6sYg"
      },
      "source": [
        "# 3.1. Продемонстрировать работу случайного леса `RandomForestClassifier`"
      ]
    },
    {
      "cell_type": "code",
      "execution_count": null,
      "metadata": {
        "id": "B1Ob1GtN6sYh",
        "outputId": "c6c25dbf-6761-4926-e6ac-c39275012f51"
      },
      "outputs": [
        {
          "data": {
            "text/plain": [
              "RandomForestClassifier(bootstrap=True, class_weight=None, criterion='gini',\n",
              "                       max_depth=None, max_features='auto', max_leaf_nodes=None,\n",
              "                       min_impurity_decrease=0.0, min_impurity_split=None,\n",
              "                       min_samples_leaf=1, min_samples_split=2,\n",
              "                       min_weight_fraction_leaf=0.0, n_estimators=8,\n",
              "                       n_jobs=None, oob_score=False, random_state=42, verbose=0,\n",
              "                       warm_start=False)"
            ]
          },
          "execution_count": 31,
          "metadata": {},
          "output_type": "execute_result"
        }
      ],
      "source": [
        "rf_clf = RandomForestClassifier(n_estimators=8, random_state=42)\n",
        "rf_clf.fit(tdtr, y_train)"
      ]
    },
    {
      "cell_type": "code",
      "execution_count": null,
      "metadata": {
        "id": "obYoEGCT6sYh",
        "outputId": "0c62b1a5-7920-42e9-9714-849682450ffd"
      },
      "outputs": [
        {
          "data": {
            "text/plain": [
              "0.7487881205129778"
            ]
          },
          "execution_count": 32,
          "metadata": {},
          "output_type": "execute_result"
        }
      ],
      "source": [
        "metr.accuracy_score(y_test, rf_clf.predict(tdt))"
      ]
    },
    {
      "cell_type": "markdown",
      "metadata": {
        "id": "_INue5sJ6sYi"
      },
      "source": [
        "# 3.2. С помощью `GridSearchCV` произвести подбор гиперпараметров для поиск наилучшего леса, посмотреть насколько улучшились метрики"
      ]
    },
    {
      "cell_type": "code",
      "execution_count": null,
      "metadata": {
        "id": "hyc206_O6sYi",
        "outputId": "3492166b-5ba8-49ca-c13b-9cac5f90c11d"
      },
      "outputs": [
        {
          "data": {
            "text/plain": [
              "GridSearchCV(cv=5, error_score='raise-deprecating',\n",
              "             estimator=RandomForestClassifier(bootstrap=True, class_weight=None,\n",
              "                                              criterion='gini', max_depth=None,\n",
              "                                              max_features='auto',\n",
              "                                              max_leaf_nodes=None,\n",
              "                                              min_impurity_decrease=0.0,\n",
              "                                              min_impurity_split=None,\n",
              "                                              min_samples_leaf=1,\n",
              "                                              min_samples_split=2,\n",
              "                                              min_weight_fraction_leaf=0.0,\n",
              "                                              n_estimators=8, n_jobs=None,\n",
              "                                              oob_score=False, random_state=42,\n",
              "                                              verbose=0, warm_start=False),\n",
              "             iid='warn', n_jobs=None,\n",
              "             param_grid={'max_depth': range(1, 24),\n",
              "                         'max_features': range(3, 15)},\n",
              "             pre_dispatch='2*n_jobs', refit=True, return_train_score=False,\n",
              "             scoring=None, verbose=0)"
            ]
          },
          "execution_count": 33,
          "metadata": {},
          "output_type": "execute_result"
        }
      ],
      "source": [
        "forest_params = {\n",
        "    'max_depth': range(1,24),\n",
        "    'max_features': range(3,15)\n",
        "}\n",
        "\n",
        "forest_grid = sklearn.model_selection.GridSearchCV(rf_clf, forest_params, cv=5)\n",
        "\n",
        "forest_grid.fit(tdtr, y_train)"
      ]
    },
    {
      "cell_type": "code",
      "execution_count": null,
      "metadata": {
        "id": "k-H_C3rX6sYi",
        "outputId": "7ef151cf-0d37-4d89-f90c-b50a807715eb"
      },
      "outputs": [
        {
          "data": {
            "text/plain": [
              "({'max_depth': 16, 'max_features': 13}, 0.7597308298050766)"
            ]
          },
          "execution_count": 34,
          "metadata": {},
          "output_type": "execute_result"
        }
      ],
      "source": [
        "#оптимальные параметры\n",
        "forest_grid.best_params_, forest_grid.best_score_ "
      ]
    },
    {
      "cell_type": "markdown",
      "source": [
        "# 4. Сделать выводы. Какой классификатор и с камими гиперпараметрами дал в итоге наилучший результат для выбранного датасета на отложенной выборке."
      ],
      "metadata": {
        "id": "lkyIU0dsEljp"
      }
    },
    {
      "cell_type": "markdown",
      "metadata": {
        "id": "EJJy-BTa6sYj"
      },
      "source": [
        "Ответ: наилучший результат дал алгоритм случайного леса с точностью: 0.76 при параметрах глубины дерева: 16 и максимальным набором параметров для рассмотрения 13."
      ]
    },
    {
      "cell_type": "code",
      "execution_count": null,
      "metadata": {
        "id": "QCEWV4lv6sYj"
      },
      "outputs": [],
      "source": [
        ""
      ]
    }
  ],
  "metadata": {
    "kernelspec": {
      "display_name": "Python 3",
      "language": "python",
      "name": "python3"
    },
    "language_info": {
      "codemirror_mode": {
        "name": "ipython",
        "version": 3
      },
      "file_extension": ".py",
      "mimetype": "text/x-python",
      "name": "python",
      "nbconvert_exporter": "python",
      "pygments_lexer": "ipython3",
      "version": "3.7.2"
    },
    "colab": {
      "name": "Lab_4_Trees_6133_Akhmetov.ipynb",
      "provenance": [],
      "include_colab_link": true
    }
  },
  "nbformat": 4,
  "nbformat_minor": 0
}