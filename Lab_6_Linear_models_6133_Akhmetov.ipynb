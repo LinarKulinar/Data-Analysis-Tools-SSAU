{
  "cells": [
    {
      "cell_type": "markdown",
      "metadata": {
        "id": "view-in-github",
        "colab_type": "text"
      },
      "source": [
        "<a href=\"https://colab.research.google.com/github/LinarKulinar/Data-Analysis-Tools-SSAU/blob/main/Lab_6_Linear_models_6133_Akhmetov.ipynb\" target=\"_parent\"><img src=\"https://colab.research.google.com/assets/colab-badge.svg\" alt=\"Open In Colab\"/></a>"
      ]
    },
    {
      "cell_type": "markdown",
      "source": [
        "# **Лабораторная работа 6**\n",
        "\n",
        "# Линейная Регрессия в sklearn\n",
        "\n",
        "Выполнил: 6133, Ахметов Линар Габдуллаевич"
      ],
      "metadata": {
        "id": "Gbv9HgYNSFBd"
      },
      "id": "Gbv9HgYNSFBd"
    },
    {
      "cell_type": "code",
      "execution_count": 1,
      "id": "7ffbc465",
      "metadata": {
        "id": "7ffbc465"
      },
      "outputs": [],
      "source": [
        "import pandas as pd\n",
        "import seaborn as sns\n",
        "import numpy as np\n",
        "from sklearn.model_selection import train_test_split, GridSearchCV\n",
        "from sklearn.linear_model import LinearRegression, Lasso, Ridge, ElasticNet\n",
        "from sklearn.metrics import mean_absolute_error as mae\n",
        "from sklearn.metrics import mean_squared_error as mse\n",
        "from sklearn.metrics import r2_score as r2\n",
        "import matplotlib.pyplot as plt\n",
        "from sklearn.preprocessing import StandardScaler"
      ]
    },
    {
      "cell_type": "markdown",
      "id": "9fafea74",
      "metadata": {
        "id": "9fafea74"
      },
      "source": [
        "### 0. Найти и загрузить датасет, подходящий для регрессии "
      ]
    },
    {
      "cell_type": "markdown",
      "source": [
        "Датасет является результатом химического анализа вин, выращенных в одном регионе Италии, но полученных из трех разных сортов винограда. Анализ определил количество 13 компонентов, содержащихся в каждом из трех типов вин.\n",
        "Таргетом будет процент алкоголя.\n",
        "\n",
        "Данные представлены на [Kaggle](https://www.kaggle.com/harrywang/wine-dataset-for-clustering)."
      ],
      "metadata": {
        "id": "sCb7NmtYWcoi"
      },
      "id": "sCb7NmtYWcoi"
    },
    {
      "cell_type": "code",
      "execution_count": null,
      "id": "b09545e2",
      "metadata": {
        "id": "b09545e2"
      },
      "outputs": [],
      "source": [
        "df = pd.read_csv('wine-clustering.csv')"
      ]
    },
    {
      "cell_type": "markdown",
      "id": "5ef19e12",
      "metadata": {
        "id": "5ef19e12"
      },
      "source": [
        "## Набор признаков"
      ]
    },
    {
      "cell_type": "markdown",
      "id": "5b6c8e17",
      "metadata": {
        "id": "5b6c8e17"
      },
      "source": [
        "Признаки:\n",
        "\n",
        "|   №   | EN                           | RU                                                 |\n",
        "| :---: | :--------------------------- | :------------------------------------------------- |\n",
        "|   1   | Alcohol                      | Алкоголь                                           |\n",
        "|   2   | Malic acid                   | Яблочная кислота                                   |\n",
        "|   3   | Ash                          | Зола (после испарения и сжигания)                  |\n",
        "|   4   | Alcalinity of ash            | Щелочность золы                                    |\n",
        "|   5   | Magnesium                    | Магний                                             |\n",
        "|   6   | Total phenols                | Количество фенолов                                 |\n",
        "|   7   | Flavanoids                   | Флавоноиды                                         |\n",
        "|   8   | Nonflavanoid phenols         | Нефлаваноидные фенолы                              |\n",
        "|   9   | Proanthocyanins              | Проантоцианы                                       |\n",
        "|  10   | Color intensity              | Интенсивность цвета                                |\n",
        "|  11   | Hue                          | Оттенок                                            |\n",
        "|  12   | OD280/OD315 of diluted wines | OD280/OD315 разбавленных вин (разбавленность вина) |\n",
        "|  13   | Proline                      | Пролин                                             |"
      ]
    },
    {
      "cell_type": "code",
      "execution_count": null,
      "id": "b8013e9d",
      "metadata": {
        "id": "b8013e9d",
        "outputId": "adc5e2cd-3e9b-4a70-859d-cbe0cacd57fc"
      },
      "outputs": [
        {
          "name": "stdout",
          "output_type": "stream",
          "text": [
            "<class 'pandas.core.frame.DataFrame'>\n",
            "RangeIndex: 178 entries, 0 to 177\n",
            "Data columns (total 13 columns):\n",
            " #   Column                Non-Null Count  Dtype  \n",
            "---  ------                --------------  -----  \n",
            " 0   Alcohol               178 non-null    float64\n",
            " 1   Malic_Acid            178 non-null    float64\n",
            " 2   Ash                   178 non-null    float64\n",
            " 3   Ash_Alcanity          178 non-null    float64\n",
            " 4   Magnesium             178 non-null    int64  \n",
            " 5   Total_Phenols         178 non-null    float64\n",
            " 6   Flavanoids            178 non-null    float64\n",
            " 7   Nonflavanoid_Phenols  178 non-null    float64\n",
            " 8   Proanthocyanins       178 non-null    float64\n",
            " 9   Color_Intensity       178 non-null    float64\n",
            " 10  Hue                   178 non-null    float64\n",
            " 11  OD280                 178 non-null    float64\n",
            " 12  Proline               178 non-null    int64  \n",
            "dtypes: float64(11), int64(2)\n",
            "memory usage: 18.2 KB\n"
          ]
        }
      ],
      "source": [
        "df.info()"
      ]
    },
    {
      "cell_type": "code",
      "execution_count": null,
      "id": "b6fe8748",
      "metadata": {
        "id": "b6fe8748",
        "outputId": "249f24a3-d272-4265-c365-46a5998d574f"
      },
      "outputs": [
        {
          "data": {
            "text/html": [
              "<div>\n",
              "<style scoped>\n",
              "    .dataframe tbody tr th:only-of-type {\n",
              "        vertical-align: middle;\n",
              "    }\n",
              "\n",
              "    .dataframe tbody tr th {\n",
              "        vertical-align: top;\n",
              "    }\n",
              "\n",
              "    .dataframe thead th {\n",
              "        text-align: right;\n",
              "    }\n",
              "</style>\n",
              "<table border=\"1\" class=\"dataframe\">\n",
              "  <thead>\n",
              "    <tr style=\"text-align: right;\">\n",
              "      <th></th>\n",
              "      <th>Alcohol</th>\n",
              "      <th>Malic_Acid</th>\n",
              "      <th>Ash</th>\n",
              "      <th>Ash_Alcanity</th>\n",
              "      <th>Magnesium</th>\n",
              "      <th>Total_Phenols</th>\n",
              "      <th>Flavanoids</th>\n",
              "      <th>Nonflavanoid_Phenols</th>\n",
              "      <th>Proanthocyanins</th>\n",
              "      <th>Color_Intensity</th>\n",
              "      <th>Hue</th>\n",
              "      <th>OD280</th>\n",
              "      <th>Proline</th>\n",
              "    </tr>\n",
              "  </thead>\n",
              "  <tbody>\n",
              "    <tr>\n",
              "      <th>0</th>\n",
              "      <td>14.23</td>\n",
              "      <td>1.71</td>\n",
              "      <td>2.43</td>\n",
              "      <td>15.6</td>\n",
              "      <td>127</td>\n",
              "      <td>2.80</td>\n",
              "      <td>3.06</td>\n",
              "      <td>0.28</td>\n",
              "      <td>2.29</td>\n",
              "      <td>5.64</td>\n",
              "      <td>1.04</td>\n",
              "      <td>3.92</td>\n",
              "      <td>1065</td>\n",
              "    </tr>\n",
              "    <tr>\n",
              "      <th>1</th>\n",
              "      <td>13.20</td>\n",
              "      <td>1.78</td>\n",
              "      <td>2.14</td>\n",
              "      <td>11.2</td>\n",
              "      <td>100</td>\n",
              "      <td>2.65</td>\n",
              "      <td>2.76</td>\n",
              "      <td>0.26</td>\n",
              "      <td>1.28</td>\n",
              "      <td>4.38</td>\n",
              "      <td>1.05</td>\n",
              "      <td>3.40</td>\n",
              "      <td>1050</td>\n",
              "    </tr>\n",
              "    <tr>\n",
              "      <th>2</th>\n",
              "      <td>13.16</td>\n",
              "      <td>2.36</td>\n",
              "      <td>2.67</td>\n",
              "      <td>18.6</td>\n",
              "      <td>101</td>\n",
              "      <td>2.80</td>\n",
              "      <td>3.24</td>\n",
              "      <td>0.30</td>\n",
              "      <td>2.81</td>\n",
              "      <td>5.68</td>\n",
              "      <td>1.03</td>\n",
              "      <td>3.17</td>\n",
              "      <td>1185</td>\n",
              "    </tr>\n",
              "    <tr>\n",
              "      <th>3</th>\n",
              "      <td>14.37</td>\n",
              "      <td>1.95</td>\n",
              "      <td>2.50</td>\n",
              "      <td>16.8</td>\n",
              "      <td>113</td>\n",
              "      <td>3.85</td>\n",
              "      <td>3.49</td>\n",
              "      <td>0.24</td>\n",
              "      <td>2.18</td>\n",
              "      <td>7.80</td>\n",
              "      <td>0.86</td>\n",
              "      <td>3.45</td>\n",
              "      <td>1480</td>\n",
              "    </tr>\n",
              "    <tr>\n",
              "      <th>4</th>\n",
              "      <td>13.24</td>\n",
              "      <td>2.59</td>\n",
              "      <td>2.87</td>\n",
              "      <td>21.0</td>\n",
              "      <td>118</td>\n",
              "      <td>2.80</td>\n",
              "      <td>2.69</td>\n",
              "      <td>0.39</td>\n",
              "      <td>1.82</td>\n",
              "      <td>4.32</td>\n",
              "      <td>1.04</td>\n",
              "      <td>2.93</td>\n",
              "      <td>735</td>\n",
              "    </tr>\n",
              "  </tbody>\n",
              "</table>\n",
              "</div>"
            ],
            "text/plain": [
              "   Alcohol  Malic_Acid   Ash  Ash_Alcanity  Magnesium  Total_Phenols  \\\n",
              "0    14.23        1.71  2.43          15.6        127           2.80   \n",
              "1    13.20        1.78  2.14          11.2        100           2.65   \n",
              "2    13.16        2.36  2.67          18.6        101           2.80   \n",
              "3    14.37        1.95  2.50          16.8        113           3.85   \n",
              "4    13.24        2.59  2.87          21.0        118           2.80   \n",
              "\n",
              "   Flavanoids  Nonflavanoid_Phenols  Proanthocyanins  Color_Intensity   Hue  \\\n",
              "0        3.06                  0.28             2.29             5.64  1.04   \n",
              "1        2.76                  0.26             1.28             4.38  1.05   \n",
              "2        3.24                  0.30             2.81             5.68  1.03   \n",
              "3        3.49                  0.24             2.18             7.80  0.86   \n",
              "4        2.69                  0.39             1.82             4.32  1.04   \n",
              "\n",
              "   OD280  Proline  \n",
              "0   3.92     1065  \n",
              "1   3.40     1050  \n",
              "2   3.17     1185  \n",
              "3   3.45     1480  \n",
              "4   2.93      735  "
            ]
          },
          "execution_count": 31,
          "metadata": {},
          "output_type": "execute_result"
        }
      ],
      "source": [
        "df.head()"
      ]
    },
    {
      "cell_type": "markdown",
      "id": "ae9cf812",
      "metadata": {
        "id": "ae9cf812"
      },
      "source": [
        "# 1. Временно удалить категориальные / бинарные признаки, оставив только вещественные"
      ]
    },
    {
      "cell_type": "code",
      "execution_count": null,
      "id": "54b99bd8",
      "metadata": {
        "id": "54b99bd8"
      },
      "outputs": [],
      "source": [
        "X = df.drop(['Alcohol'], axis=1)\n",
        "y = df['Alcohol']"
      ]
    },
    {
      "cell_type": "markdown",
      "id": "8658ca03",
      "metadata": {
        "id": "8658ca03"
      },
      "source": [
        "# 2. Визуализировать heatmap-матрицу кореллированности признаков."
      ]
    },
    {
      "cell_type": "code",
      "execution_count": null,
      "id": "e6fceced",
      "metadata": {
        "id": "e6fceced",
        "outputId": "b9812cbf-7c04-4c6d-9d75-b0817f06686f"
      },
      "outputs": [
        {
          "data": {
            "text/plain": [
              "<AxesSubplot:>"
            ]
          },
          "execution_count": 33,
          "metadata": {},
          "output_type": "execute_result"
        },
        {
          "data": {
            "image/png": "[encoded data removed]",
            "text/plain": [
              "<Figure size 432x288 with 2 Axes>"
            ]
          },
          "metadata": {
            "needs_background": "light"
          },
          "output_type": "display_data"
        }
      ],
      "source": [
        "sns.heatmap(X.corr())"
      ]
    },
    {
      "cell_type": "markdown",
      "id": "36235719",
      "metadata": {
        "id": "36235719"
      },
      "source": [
        "# 3. Визуализировать взаимосвязь между target-переменной и каждым из признаком "
      ]
    },
    {
      "cell_type": "code",
      "execution_count": null,
      "id": "b4d2a417",
      "metadata": {
        "id": "b4d2a417",
        "outputId": "a26d89c5-9a16-4480-99ac-1ed8380fd9e9"
      },
      "outputs": [
        {
          "data": {
            "text/plain": [
              "<seaborn.axisgrid.PairGrid at 0x7fdceb607bb0>"
            ]
          },
          "execution_count": 34,
          "metadata": {},
          "output_type": "execute_result"
        },
        {
          "data": {
            "image/png": "[encoded data removed]",
            "text/plain": [
              "<Figure size 2160x180 with 12 Axes>"
            ]
          },
          "metadata": {
            "needs_background": "light"
          },
          "output_type": "display_data"
        }
      ],
      "source": [
        "sns.pairplot(data=df, y_vars=['Alcohol'], x_vars=X.columns)"
      ]
    },
    {
      "cell_type": "markdown",
      "id": "007e55b3",
      "metadata": {
        "id": "007e55b3"
      },
      "source": [
        "# 4. Разделить набор данных на обучающую и тестовую выборки"
      ]
    },
    {
      "cell_type": "code",
      "execution_count": null,
      "id": "ea62d18c",
      "metadata": {
        "id": "ea62d18c"
      },
      "outputs": [],
      "source": [
        "X_train, X_test, y_train, y_test = train_test_split(X, y, test_size = 0.25)"
      ]
    },
    {
      "cell_type": "markdown",
      "id": "3fe8aa10",
      "metadata": {
        "id": "3fe8aa10"
      },
      "source": [
        "# 5. Опробовать линейную регрессию"
      ]
    },
    {
      "cell_type": "markdown",
      "id": "a0af9e1c",
      "metadata": {
        "id": "a0af9e1c"
      },
      "source": [
        "### 5.1 Обучить модель линейной регрессии "
      ]
    },
    {
      "cell_type": "code",
      "execution_count": null,
      "id": "e2a58517",
      "metadata": {
        "id": "e2a58517",
        "outputId": "653e7c9f-3c63-44b5-99ce-3b2c2005ba26"
      },
      "outputs": [
        {
          "data": {
            "text/plain": [
              "LinearRegression(n_jobs=-1)"
            ]
          },
          "execution_count": 36,
          "metadata": {},
          "output_type": "execute_result"
        }
      ],
      "source": [
        "lin_reg = LinearRegression(n_jobs=-1)\n",
        "lin_reg.fit(X_train, y_train)"
      ]
    },
    {
      "cell_type": "markdown",
      "id": "2a6418fc",
      "metadata": {
        "id": "2a6418fc"
      },
      "source": [
        "### 5.2 Вывести метрики MAE, MSE и R2 на обущающем и тестовом наборе"
      ]
    },
    {
      "cell_type": "code",
      "execution_count": null,
      "id": "5c0c4bd2",
      "metadata": {
        "id": "5c0c4bd2",
        "outputId": "bef791be-bb44-4abc-8996-c99335c4b4f5"
      },
      "outputs": [
        {
          "name": "stdout",
          "output_type": "stream",
          "text": [
            "------------train-------------\n",
            "|MAE: | 0.3959422763193077\n",
            "|MSE: | 0.25751652904520117\n",
            "|R2:  | 0.573631186358676\n",
            "------------test--------------\n",
            "|MAE: | 0.47507213938335613\n",
            "|MSE: | 0.320233029909692\n",
            "|R2:  | 0.47507213938335613\n",
            "------------------------------\n"
          ]
        }
      ],
      "source": [
        "print('------------train-------------')\n",
        "print('|MAE: |', mae(y_train, lin_reg.predict(X_train)))\n",
        "print('|MSE: |', mse(y_train, lin_reg.predict(X_train)))\n",
        "print('|R2:  |', r2(y_train, lin_reg.predict(X_train)))\n",
        "print('------------test--------------')\n",
        "print('|MAE: |', mae(y_test, lin_reg.predict(X_test)))\n",
        "print('|MSE: |', mse(y_test, lin_reg.predict(X_test)))\n",
        "print('|R2:  |', mae(y_test, lin_reg.predict(X_test)))\n",
        "print('------------------------------')"
      ]
    },
    {
      "cell_type": "markdown",
      "id": "a02aa1e5",
      "metadata": {
        "id": "a02aa1e5"
      },
      "source": [
        "### 5.3 Вывести model.coef_ и model.intercept_"
      ]
    },
    {
      "cell_type": "code",
      "execution_count": null,
      "id": "f9ceac9e",
      "metadata": {
        "id": "f9ceac9e",
        "outputId": "e602ed2e-5a73-48f2-857b-c57e5dc141eb"
      },
      "outputs": [
        {
          "name": "stdout",
          "output_type": "stream",
          "text": [
            "Intercept: 10.59013164020931\n",
            "Coef: [ 0.10811009  0.16484466 -0.0230253  -0.00101382  0.12008154 -0.04409122\n",
            "  0.05545038 -0.15465124  0.15143527  0.37845568  0.1652691   0.0010842 ]\n"
          ]
        }
      ],
      "source": [
        "print('Intercept:', lin_reg.intercept_)\n",
        "print('Coef:', lin_reg.coef_)"
      ]
    },
    {
      "cell_type": "markdown",
      "id": "c83df9d0",
      "metadata": {
        "id": "c83df9d0"
      },
      "source": [
        "### 5.4  Построить график (barh) с важностью коэфициентов при соответствующих признаках "
      ]
    },
    {
      "cell_type": "code",
      "execution_count": null,
      "id": "9275269a",
      "metadata": {
        "id": "9275269a",
        "outputId": "60834a51-4b29-44f9-90ef-d84246190f52"
      },
      "outputs": [
        {
          "data": {
            "text/plain": [
              "Text(0, 0.5, 'feature')"
            ]
          },
          "execution_count": 40,
          "metadata": {},
          "output_type": "execute_result"
        },
        {
          "data": {
            "image/png": "[encoded data removed]",
            "text/plain": [
              "<Figure size 432x288 with 1 Axes>"
            ]
          },
          "metadata": {
            "needs_background": "light"
          },
          "output_type": "display_data"
        }
      ],
      "source": [
        "importances = pd.DataFrame(lin_reg.coef_, \n",
        "                           index = X.columns, \n",
        "                           columns=['importance']).sort_values('importance', ascending=False)\n",
        "\n",
        "importances = importances.sort_values('importance', ascending=True)\n",
        "plt.barh(range(len(X.columns)), importances['importance'])\n",
        "plt.yticks(range(len(X.columns)), importances.index)\n",
        "plt.xlabel(\"importances\")\n",
        "plt.ylabel(\"feature\")"
      ]
    },
    {
      "cell_type": "markdown",
      "id": "5998a0e8",
      "metadata": {
        "id": "5998a0e8"
      },
      "source": [
        "# 6. Модель Lasso"
      ]
    },
    {
      "cell_type": "markdown",
      "id": "3f896938",
      "metadata": {
        "id": "3f896938"
      },
      "source": [
        "### 6.1. Обучить модель регрессии (Lasso), с помощью GridSearchCV найти наилучший параметр alpha, дальше работаем с лучше моделью"
      ]
    },
    {
      "cell_type": "code",
      "execution_count": null,
      "id": "05e0fc73",
      "metadata": {
        "id": "05e0fc73",
        "outputId": "277e3b97-ec07-455d-9228-aa28d0368351"
      },
      "outputs": [
        {
          "data": {
            "text/plain": [
              "GridSearchCV(estimator=Lasso(), n_jobs=-1,\n",
              "             param_grid={'alpha': array([0.        , 0.01010101, 0.02020202, 0.03030303, 0.04040404,\n",
              "       0.05050505, 0.06060606, 0.07070707, 0.08080808, 0.09090909,\n",
              "       0.1010101 , 0.11111111, 0.12121212, 0.13131313, 0.14141414,\n",
              "       0.15151515, 0.16161616, 0.17171717, 0.18181818, 0.19191919,\n",
              "       0.2020202 , 0.21212121, 0.22222222, 0.23232323, 0.24242424,\n",
              "       0.25252525, 0.2626...\n",
              "       0.65656566, 0.66666667, 0.67676768, 0.68686869, 0.6969697 ,\n",
              "       0.70707071, 0.71717172, 0.72727273, 0.73737374, 0.74747475,\n",
              "       0.75757576, 0.76767677, 0.77777778, 0.78787879, 0.7979798 ,\n",
              "       0.80808081, 0.81818182, 0.82828283, 0.83838384, 0.84848485,\n",
              "       0.85858586, 0.86868687, 0.87878788, 0.88888889, 0.8989899 ,\n",
              "       0.90909091, 0.91919192, 0.92929293, 0.93939394, 0.94949495,\n",
              "       0.95959596, 0.96969697, 0.97979798, 0.98989899, 1.        ])})"
            ]
          },
          "execution_count": 41,
          "metadata": {},
          "output_type": "execute_result"
        }
      ],
      "source": [
        "lasso = Lasso()\n",
        "\n",
        "parameters = {'alpha': np.linspace(0, 1, 100)}\n",
        "lasso_grid = GridSearchCV(lasso, parameters, n_jobs=-1)\n",
        "lasso_grid.fit(X_train, y_train)"
      ]
    },
    {
      "cell_type": "code",
      "execution_count": null,
      "id": "cdfe1560",
      "metadata": {
        "id": "cdfe1560"
      },
      "outputs": [],
      "source": [
        "lasso = lasso_grid.best_estimator_ "
      ]
    },
    {
      "cell_type": "markdown",
      "id": "11644915",
      "metadata": {
        "id": "11644915"
      },
      "source": [
        "### 6.2. Для наилучшей модели вывести метрики MAE, MSE и R2 на обущающем и тестовом наборе"
      ]
    },
    {
      "cell_type": "code",
      "execution_count": null,
      "id": "6a73ac2d",
      "metadata": {
        "id": "6a73ac2d",
        "outputId": "210e07af-88d8-4633-cf98-22871f5dbd1e"
      },
      "outputs": [
        {
          "name": "stdout",
          "output_type": "stream",
          "text": [
            "--------------train-----------\n",
            "|MAE: | 0.42014660374443175\n",
            "|MSE: | 0.2913549521666579\n",
            "|R2:  | 0.5176050804800268\n",
            "---------------test-----------\n",
            "|MAE: | 0.5035770134932578\n",
            "|MSE: | 0.3641731557066184\n",
            "|R2:  | 0.5035770134932578\n",
            "------------------------------\n"
          ]
        }
      ],
      "source": [
        "print('--------------train-----------')\n",
        "print('|MAE: |', mae(y_train, lasso.predict(X_train)))\n",
        "print('|MSE: |', mse(y_train, lasso.predict(X_train)))\n",
        "print('|R2:  |', r2(y_train, lasso.predict(X_train)))\n",
        "print('---------------test-----------')\n",
        "print('|MAE: |', mae(y_test, lasso.predict(X_test)))\n",
        "print('|MSE: |', mse(y_test, lasso.predict(X_test)))\n",
        "print('|R2:  |', mae(y_test, lasso.predict(X_test)))\n",
        "print('------------------------------')"
      ]
    },
    {
      "cell_type": "markdown",
      "id": "72a73531",
      "metadata": {
        "id": "72a73531"
      },
      "source": [
        "### 6.3. Для наилучшей модели вывести model.coef_ и model.intercept_"
      ]
    },
    {
      "cell_type": "code",
      "execution_count": null,
      "id": "92f7729f",
      "metadata": {
        "id": "92f7729f",
        "outputId": "bf5f8c39-c823-409b-fd40-608ed16897f0"
      },
      "outputs": [
        {
          "name": "stdout",
          "output_type": "stream",
          "text": [
            "Intercept: 11.546586430673518\n",
            "Coef: [ 0.          0.         -0.         -0.00032626  0.          0.\n",
            "  0.         -0.          0.08500823 -0.          0.          0.00141293]\n"
          ]
        }
      ],
      "source": [
        "print('Intercept:', lasso.intercept_)\n",
        "print('Coef:', lasso.coef_)"
      ]
    },
    {
      "cell_type": "markdown",
      "id": "04c8e32a",
      "metadata": {
        "id": "04c8e32a"
      },
      "source": [
        "### 6.4 Для наилучшей модели построить график (barh) с важностью коэфициентов при соответствующих признаках"
      ]
    },
    {
      "cell_type": "code",
      "execution_count": null,
      "id": "427505a0",
      "metadata": {
        "id": "427505a0",
        "outputId": "3f4d2529-5452-4019-ac31-0cef391bb182"
      },
      "outputs": [
        {
          "data": {
            "text/plain": [
              "Text(0, 0.5, 'feature')"
            ]
          },
          "execution_count": 46,
          "metadata": {},
          "output_type": "execute_result"
        },
        {
          "data": {
            "image/png": "[encoded data removed]",
            "text/plain": [
              "<Figure size 432x288 with 1 Axes>"
            ]
          },
          "metadata": {
            "needs_background": "light"
          },
          "output_type": "display_data"
        }
      ],
      "source": [
        "importances = pd.DataFrame(lasso.coef_, \n",
        "                           index = X.columns, \n",
        "                           columns=['importance']).sort_values('importance', ascending=False)\n",
        "\n",
        "importances = importances.sort_values('importance', ascending=True)\n",
        "plt.barh(range(len(X.columns)), importances['importance'])\n",
        "plt.yticks(range(len(X.columns)), importances.index)\n",
        "plt.xlabel(\"importances\")\n",
        "plt.ylabel(\"feature\")"
      ]
    },
    {
      "cell_type": "markdown",
      "id": "87b5a7f2",
      "metadata": {
        "id": "87b5a7f2"
      },
      "source": [
        "# 7. Модель Ridge"
      ]
    },
    {
      "cell_type": "markdown",
      "id": "46d8764b",
      "metadata": {
        "id": "46d8764b"
      },
      "source": [
        "### 7.1. Обучить модель регрессии (Ridge), с помощью GridSearchCV найти наилучший параметр alpha"
      ]
    },
    {
      "cell_type": "code",
      "execution_count": null,
      "id": "b970f888",
      "metadata": {
        "id": "b970f888",
        "outputId": "1bb83c52-2026-46e0-b769-e2e074b979f6"
      },
      "outputs": [
        {
          "data": {
            "text/plain": [
              "GridSearchCV(estimator=Ridge(), n_jobs=-1,\n",
              "             param_grid={'alpha': array([0.        , 0.01010101, 0.02020202, 0.03030303, 0.04040404,\n",
              "       0.05050505, 0.06060606, 0.07070707, 0.08080808, 0.09090909,\n",
              "       0.1010101 , 0.11111111, 0.12121212, 0.13131313, 0.14141414,\n",
              "       0.15151515, 0.16161616, 0.17171717, 0.18181818, 0.19191919,\n",
              "       0.2020202 , 0.21212121, 0.22222222, 0.23232323, 0.24242424,\n",
              "       0.25252525, 0.2626...\n",
              "       0.65656566, 0.66666667, 0.67676768, 0.68686869, 0.6969697 ,\n",
              "       0.70707071, 0.71717172, 0.72727273, 0.73737374, 0.74747475,\n",
              "       0.75757576, 0.76767677, 0.77777778, 0.78787879, 0.7979798 ,\n",
              "       0.80808081, 0.81818182, 0.82828283, 0.83838384, 0.84848485,\n",
              "       0.85858586, 0.86868687, 0.87878788, 0.88888889, 0.8989899 ,\n",
              "       0.90909091, 0.91919192, 0.92929293, 0.93939394, 0.94949495,\n",
              "       0.95959596, 0.96969697, 0.97979798, 0.98989899, 1.        ])})"
            ]
          },
          "execution_count": 48,
          "metadata": {},
          "output_type": "execute_result"
        }
      ],
      "source": [
        "ridge = Ridge()\n",
        "parameters = {'alpha': np.linspace(0, 1, 100)}\n",
        "ridge_grid = GridSearchCV(ridge, parameters, n_jobs=-1)\n",
        "ridge_grid.fit(X_train, y_train)"
      ]
    },
    {
      "cell_type": "code",
      "execution_count": null,
      "id": "6712fb4e",
      "metadata": {
        "id": "6712fb4e"
      },
      "outputs": [],
      "source": [
        "ridge = ridge_grid.best_estimator_"
      ]
    },
    {
      "cell_type": "markdown",
      "id": "65894445",
      "metadata": {
        "id": "65894445"
      },
      "source": [
        "### 7.2. Для наилучшей модели вывести метрики MAE, MSE и R2 на обущающем и тестовом наборе"
      ]
    },
    {
      "cell_type": "code",
      "execution_count": null,
      "id": "0d83b9d5",
      "metadata": {
        "id": "0d83b9d5",
        "outputId": "00eee4f0-11bd-46a9-f416-81ed66ae5bd4"
      },
      "outputs": [
        {
          "name": "stdout",
          "output_type": "stream",
          "text": [
            "--------------train-----------\n",
            "|MAE: | 0.3945563347024452\n",
            "|MSE: | 0.25780051963978673\n",
            "|R2:  | 0.573160984568726\n",
            "--------------test------------\n",
            "|MAE: | 0.4718416024866051\n",
            "|MSE: | 0.3148861608386861\n",
            "|R2:  | 0.4718416024866051\n",
            "------------------------------\n"
          ]
        }
      ],
      "source": [
        "print('--------------train-----------')\n",
        "print('|MAE: |', mae(y_train, ridge.predict(X_train)))\n",
        "print('|MSE: |', mse(y_train, ridge.predict(X_train)))\n",
        "print('|R2:  |', r2(y_train, ridge.predict(X_train)))\n",
        "print('--------------test------------')\n",
        "print('|MAE: |', mae(y_test, ridge.predict(X_test)))\n",
        "print('|MSE: |', mse(y_test, ridge.predict(X_test)))\n",
        "print('|R2:  |', mae(y_test, ridge.predict(X_test)))\n",
        "print('------------------------------')"
      ]
    },
    {
      "cell_type": "markdown",
      "id": "7d8dfddb",
      "metadata": {
        "id": "7d8dfddb"
      },
      "source": [
        "### 7.3 Для наилучшей модели вывести model.coef_ и model.intercept_"
      ]
    },
    {
      "cell_type": "code",
      "execution_count": null,
      "id": "c462f895",
      "metadata": {
        "id": "c462f895",
        "outputId": "4654a598-340f-4ba2-98bc-e4d873f003c8"
      },
      "outputs": [
        {
          "name": "stdout",
          "output_type": "stream",
          "text": [
            "Intercept: 10.738383131122877\n",
            "Coef: [ 0.10280146  0.14529445 -0.02200488 -0.00093941  0.11357467 -0.02913174\n",
            "  0.0460009  -0.15107721  0.14631068  0.26349706  0.15784744  0.00111088]\n"
          ]
        }
      ],
      "source": [
        "print('Intercept:', ridge.intercept_)\n",
        "print('Coef:', ridge.coef_)"
      ]
    },
    {
      "cell_type": "markdown",
      "id": "0abad3bf",
      "metadata": {
        "id": "0abad3bf"
      },
      "source": [
        "### 7.4 Для наилучшей модели построить график (barh) с важностью коэфициентов при соответствующих признаках"
      ]
    },
    {
      "cell_type": "code",
      "execution_count": null,
      "id": "042eba50",
      "metadata": {
        "id": "042eba50",
        "outputId": "48f9913c-7545-4bd4-e75b-b74b513bf23d"
      },
      "outputs": [
        {
          "data": {
            "text/plain": [
              "Text(0, 0.5, 'feature')"
            ]
          },
          "execution_count": 52,
          "metadata": {},
          "output_type": "execute_result"
        },
        {
          "data": {
            "image/png": "[encoded data removed]",
            "text/plain": [
              "<Figure size 432x288 with 1 Axes>"
            ]
          },
          "metadata": {
            "needs_background": "light"
          },
          "output_type": "display_data"
        }
      ],
      "source": [
        "importances = pd.DataFrame(ridge.coef_, \n",
        "                           index = X.columns, \n",
        "                           columns=['importance']).sort_values('importance', ascending=False)\n",
        "\n",
        "importances = importances.sort_values('importance', ascending=True)\n",
        "plt.barh(range(len(X.columns)), importances['importance'])\n",
        "plt.yticks(range(len(X.columns)), importances.index)\n",
        "plt.xlabel(\"importances\")\n",
        "plt.ylabel(\"feature\")"
      ]
    },
    {
      "cell_type": "markdown",
      "id": "80c94b40",
      "metadata": {
        "id": "80c94b40"
      },
      "source": [
        "# 8. Опробовать регрессию ElasticNet"
      ]
    },
    {
      "cell_type": "markdown",
      "id": "f9da285c",
      "metadata": {
        "id": "f9da285c"
      },
      "source": [
        "### 8.1. Обучить модель регрессии (ElasticNet), с помощью GridSearchCV подобрать параметры alpha и l1_ratio (в пределах 0:1), дальше работаем с лучшей моделью"
      ]
    },
    {
      "cell_type": "code",
      "execution_count": null,
      "id": "50fcd2d5",
      "metadata": {
        "id": "50fcd2d5",
        "outputId": "d3d45996-7089-4079-c6ee-89f5f4dfc5c7"
      },
      "outputs": [
        {
          "data": {
            "text/plain": [
              "ElasticNet(l1_ratio=0.10101010101010102)"
            ]
          },
          "execution_count": 53,
          "metadata": {},
          "output_type": "execute_result"
        }
      ],
      "source": [
        "el_net = ElasticNet()\n",
        "parameters = {'alpha': np.linspace(0, 1, 100),\n",
        "              'l1_ratio': np.linspace(0, 1, 100)}\n",
        "\n",
        "el_net_grid = GridSearchCV(el_net,parameters, n_jobs=-1)\n",
        "el_net_grid.fit(X_train, y_train)\n",
        "el_net_grid.best_estimator_"
      ]
    },
    {
      "cell_type": "markdown",
      "id": "30d6c9d7",
      "metadata": {
        "id": "30d6c9d7"
      },
      "source": [
        "### 8.2. Для наилучшей модели вывести метрики MAE, MSE и R2 на обущающем и тестовом наборе"
      ]
    },
    {
      "cell_type": "code",
      "execution_count": null,
      "id": "195c654f",
      "metadata": {
        "id": "195c654f",
        "outputId": "8228765a-0c02-42fc-8654-ec4638f328ef"
      },
      "outputs": [
        {
          "name": "stdout",
          "output_type": "stream",
          "text": [
            "--------------train-----------\n",
            "|MAE: | 0.42021798875923466\n",
            "|MSE: | 0.29063917383860177\n",
            "|R2:  | 0.5187901910346581\n",
            "--------------test------------\n",
            "|MAE: | 0.5032492088336009\n",
            "|MSE: | 0.3635929620000424\n",
            "|R2:  | 0.5032492088336009\n",
            "------------------------------\n"
          ]
        }
      ],
      "source": [
        "el_net = el_net_grid.best_estimator_\n",
        "\n",
        "print('--------------train-----------')\n",
        "print('|MAE: |', mae(y_train, el_net.predict(X_train)))\n",
        "print('|MSE: |', mse(y_train, el_net.predict(X_train)))\n",
        "print('|R2:  |', r2(y_train, el_net.predict(X_train)))\n",
        "print('--------------test------------')\n",
        "print('|MAE: |', mae(y_test, el_net.predict(X_test)))\n",
        "print('|MSE: |', mse(y_test, el_net.predict(X_test)))\n",
        "print('|R2:  |', mae(y_test, el_net.predict(X_test)))\n",
        "print('------------------------------')"
      ]
    },
    {
      "cell_type": "markdown",
      "id": "6e1b6fdc",
      "metadata": {
        "id": "6e1b6fdc"
      },
      "source": [
        "### 8.3. Для наилучшей модели вывести model.coef_ и model.intercept_"
      ]
    },
    {
      "cell_type": "code",
      "execution_count": null,
      "id": "b0e2bb30",
      "metadata": {
        "id": "b0e2bb30",
        "outputId": "aaae83fe-1f34-4515-8116-adf214b657ed"
      },
      "outputs": [
        {
          "name": "stdout",
          "output_type": "stream",
          "text": [
            "Intercept: 11.575853336769157\n",
            "Coef: [ 0.00191927  0.         -0.         -0.00075217  0.          0.\n",
            "  0.         -0.          0.08554482 -0.          0.          0.00142171]\n"
          ]
        }
      ],
      "source": [
        "print('Intercept:', el_net.intercept_)\n",
        "print('Coef:', el_net.coef_)"
      ]
    },
    {
      "cell_type": "markdown",
      "id": "eb1476aa",
      "metadata": {
        "id": "eb1476aa"
      },
      "source": [
        "### 8.4. Для наилучшей модели построить график (barh) с важностью коэфициентов при соответствующих признаках"
      ]
    },
    {
      "cell_type": "code",
      "execution_count": null,
      "id": "92d2d627",
      "metadata": {
        "id": "92d2d627",
        "outputId": "0edae310-9178-4104-e2f1-32edffbba816"
      },
      "outputs": [
        {
          "data": {
            "text/plain": [
              "Text(0, 0.5, 'feature')"
            ]
          },
          "execution_count": 56,
          "metadata": {},
          "output_type": "execute_result"
        },
        {
          "data": {
            "image/png": "[encoded data removed]",
            "text/plain": [
              "<Figure size 432x288 with 1 Axes>"
            ]
          },
          "metadata": {
            "needs_background": "light"
          },
          "output_type": "display_data"
        }
      ],
      "source": [
        "importances = pd.DataFrame(el_net.coef_, \n",
        "                           index = X.columns, \n",
        "                           columns=['importance']).sort_values('importance', ascending=False)\n",
        "\n",
        "importances = importances.sort_values('importance', ascending=True)\n",
        "plt.barh(range(len(X.columns)), importances['importance'])\n",
        "plt.yticks(range(len(X.columns)), importances.index)\n",
        "plt.xlabel(\"importances\")\n",
        "plt.ylabel(\"feature\")"
      ]
    },
    {
      "cell_type": "code",
      "execution_count": null,
      "id": "4c5f23b2",
      "metadata": {
        "id": "4c5f23b2",
        "outputId": "6ccc56ad-e691-4b85-ea26-14667fce61f4"
      },
      "outputs": [
        {
          "name": "stdout",
          "output_type": "stream",
          "text": [
            "name     | dataset  | mae      | mse       | r2       \n",
            "-----------------------------------------------------\n",
            "reg      | test     |  0.47507 |  0.32023 |  0.59920 \n",
            "reg      | train    |  0.39594 |  0.25752 |  0.57363 \n",
            "-----------------------------------------------------\n",
            "lasso    | test     |  0.50358 |  0.36417 |  0.54420 \n",
            "lasso    | train    |  0.42015 |  0.29135 |  0.51761 \n",
            "-----------------------------------------------------\n",
            "ridge    | test     |  0.47184 |  0.31489 |  0.60589 \n",
            "ridge    | train    |  0.39456 |  0.25780 |  0.57316 \n",
            "-----------------------------------------------------\n",
            "elastic  | test     |  0.50325 |  0.36359 |  0.54493 \n",
            "elastic  | train    |  0.42022 |  0.29064 |  0.51879 \n"
          ]
        }
      ],
      "source": [
        "names = {\n",
        "    lin_reg: 'reg',\n",
        "    lasso: 'lasso',\n",
        "    ridge: 'ridge', \n",
        "    el_net: 'elastic'\n",
        "}\n",
        "print(\"{:8s} | {:8s} | {:8s} | {:8s}  | {:8s} \".format('name', 'dataset', 'mae', 'mse', 'r2'))\n",
        "\n",
        "for mod in [lin_reg, lasso, ridge, el_net]:\n",
        "    print(\"-\" * 53)\n",
        "    print(\"{:8s} | {:8s} | {:8.5f} | {:8.5f} | {:8.5f} \".format(\n",
        "        names[mod], \n",
        "        'test', \n",
        "        mae(y_test, mod.predict(X_test)), \n",
        "        mse(y_test, mod.predict(X_test)), \n",
        "        r2(y_test, mod.predict(X_test))))\n",
        "    print(\"{:8s} | {:8s} | {:8.5f} | {:8.5f} | {:8.5f} \".format(\n",
        "      names[mod], \n",
        "        'train', \n",
        "        mae(y_train, mod.predict(X_train)), \n",
        "        mse(y_train, mod.predict(X_train)), \n",
        "        r2(y_train, mod.predict(X_train))))"
      ]
    },
    {
      "cell_type": "markdown",
      "id": "608544fa",
      "metadata": {
        "id": "608544fa"
      },
      "source": [
        "# 9 Выбрать наилучшую модель, написать её ошибку MAE, MSE и R2 на тестовом наборе"
      ]
    },
    {
      "cell_type": "markdown",
      "id": "5cdf9b87",
      "metadata": {
        "id": "5cdf9b87"
      },
      "source": [
        "Все результаты вышли примерно одинаковыми, но мы можем видеть, что у Ridge значение R2 наиболее близко к единице, поэтому данная модель наилучшая."
      ]
    },
    {
      "cell_type": "code",
      "execution_count": null,
      "id": "f9070cb4",
      "metadata": {
        "id": "f9070cb4"
      },
      "outputs": [],
      "source": [
        "best_reg = ridge"
      ]
    },
    {
      "cell_type": "code",
      "execution_count": null,
      "id": "a5de82ae",
      "metadata": {
        "id": "a5de82ae",
        "outputId": "c19ad094-39e3-449c-d734-2678801d41c5"
      },
      "outputs": [
        {
          "name": "stdout",
          "output_type": "stream",
          "text": [
            "-------------test-------------\n",
            "|MAE: | 0.5035770134932578\n",
            "|MSE: | 0.3641731557066184\n",
            "|R2:  | 0.5442032304179989\n",
            "------------------------------\n"
          ]
        }
      ],
      "source": [
        "print('-------------test-------------')\n",
        "print('|MAE: |', mae(y_test, best_reg.predict(X_test)))\n",
        "print('|MSE: |', mse(y_test, best_reg.predict(X_test)))\n",
        "print('|R2:  |', r2(y_test, best_reg.predict(X_test)))\n",
        "print('------------------------------')"
      ]
    },
    {
      "cell_type": "markdown",
      "id": "554c76a8",
      "metadata": {
        "id": "554c76a8"
      },
      "source": [
        "### 10 Возвращаем категориальные / бинарные признаки на место в датасет, категориальные признаки преобразуем в набор бинарных"
      ]
    },
    {
      "cell_type": "markdown",
      "id": "9a90c7c7",
      "metadata": {
        "id": "9a90c7c7"
      },
      "source": [
        "Данные изначально не содержат категориальных колонок, поэтому ради научного интереса посмотрим, как изменится результат после применения StandartScaler"
      ]
    },
    {
      "cell_type": "markdown",
      "id": "2f6285fd",
      "metadata": {
        "id": "2f6285fd"
      },
      "source": [
        "### 11  Смотрим насколько изменились метрики MAE и MSE на тестовом наборе, отображаем их"
      ]
    },
    {
      "cell_type": "code",
      "execution_count": null,
      "id": "8cf37b77",
      "metadata": {
        "id": "8cf37b77",
        "outputId": "090cb9b0-e766-4fa3-9d41-c79ef80bd465"
      },
      "outputs": [
        {
          "data": {
            "text/plain": [
              "Ridge()"
            ]
          },
          "execution_count": 67,
          "metadata": {},
          "output_type": "execute_result"
        }
      ],
      "source": [
        "ridge.fit(X_train, y_train)"
      ]
    },
    {
      "cell_type": "code",
      "execution_count": null,
      "id": "7a318d70",
      "metadata": {
        "id": "7a318d70",
        "outputId": "c768c2f2-2d3a-47a7-9817-3ee522b7302c"
      },
      "outputs": [
        {
          "name": "stdout",
          "output_type": "stream",
          "text": [
            "--------------test------------\n",
            "|MAE: | 0.4718416024866051\n",
            "|MSE: | 0.3148861608386861\n",
            "|R2:  | 0.6058905148627265\n",
            "------------------------------\n"
          ]
        }
      ],
      "source": [
        "print('--------------test------------')\n",
        "print('|MAE: |', mae(y_test, ridge.predict(X_test)))\n",
        "print('|MSE: |', mse(y_test, ridge.predict(X_test)))\n",
        "print('|R2:  |', r2(y_test, ridge.predict(X_test)))\n",
        "print('------------------------------')"
      ]
    },
    {
      "cell_type": "markdown",
      "id": "83e37243",
      "metadata": {
        "id": "83e37243"
      },
      "source": [
        "### 12 Прогоняем наш датасет, который уже обогащён бинарными признаками, через StandardScaler, обучаем найденную на предыдущих шагах лучшую модель новыми данными, пишем получивнуюся ошибку MAE, MSE и R2 на тестовом наборе, вывести метрики и сделать выводы.\n",
        "\n"
      ]
    },
    {
      "cell_type": "code",
      "execution_count": null,
      "id": "ec71cc94",
      "metadata": {
        "id": "ec71cc94",
        "outputId": "9badb4f2-b773-479a-c48f-36bc77e11dd6"
      },
      "outputs": [
        {
          "data": {
            "text/plain": [
              "Ridge()"
            ]
          },
          "execution_count": 76,
          "metadata": {},
          "output_type": "execute_result"
        }
      ],
      "source": [
        "scaler = StandardScaler()\n",
        "scaler.fit(X)\n",
        "X_1 = scaler.transform(X)\n",
        "\n",
        "X_train, X_test, y_train, y_test = train_test_split(X_1, y, test_size=0.25, random_state=42)\n",
        "\n",
        "\n",
        "ridge.fit(X_train, y_train)"
      ]
    },
    {
      "cell_type": "code",
      "execution_count": null,
      "id": "7572b6c4",
      "metadata": {
        "id": "7572b6c4",
        "outputId": "86f9a826-0dd2-49d9-deb8-985467b90092"
      },
      "outputs": [
        {
          "name": "stdout",
          "output_type": "stream",
          "text": [
            "--------------test------------\n",
            "|MAE: | 0.37823625708198755\n",
            "|MSE: | 0.19537317724487163\n",
            "|R2:  | 0.652708049209046\n",
            "------------------------------\n"
          ]
        }
      ],
      "source": [
        "print('--------------test------------')\n",
        "print('|MAE: |', mae(y_test, ridge.predict(X_test)))\n",
        "print('|MSE: |', mse(y_test, ridge.predict(X_test)))\n",
        "print('|R2:  |', r2(y_test, ridge.predict(X_test)))\n",
        "print('------------------------------')"
      ]
    },
    {
      "cell_type": "markdown",
      "id": "c4f45de4",
      "metadata": {
        "id": "c4f45de4"
      },
      "source": [
        "13 Построить график (barh) с важностью коэфициентов при соответствующих признаках для задания 12"
      ]
    },
    {
      "cell_type": "code",
      "execution_count": null,
      "id": "b41a1559",
      "metadata": {
        "id": "b41a1559",
        "outputId": "84403efd-0384-4ff4-d759-2dc2be97ed5b"
      },
      "outputs": [
        {
          "data": {
            "text/plain": [
              "Text(0, 0.5, 'feature')"
            ]
          },
          "execution_count": 79,
          "metadata": {},
          "output_type": "execute_result"
        },
        {
          "data": {
            "image/png": "[encoded data removed]",
            "text/plain": [
              "<Figure size 864x576 with 1 Axes>"
            ]
          },
          "metadata": {
            "needs_background": "light"
          },
          "output_type": "display_data"
        }
      ],
      "source": [
        "plt.figure(figsize=(12, 8))\n",
        "importances = pd.DataFrame(ridge.coef_, \n",
        "                           index = X.columns, \n",
        "                           columns=['importance']).sort_values('importance', ascending=False)\n",
        "\n",
        "importances = importances.sort_values('importance', ascending=True)\n",
        "plt.barh(range(len(X.columns)), importances['importance'])\n",
        "plt.yticks(range(len(X.columns)), importances.index)\n",
        "plt.xlabel(\"importances\")\n",
        "plt.ylabel(\"feature\")"
      ]
    },
    {
      "cell_type": "markdown",
      "id": "e046a454",
      "metadata": {
        "id": "e046a454"
      },
      "source": [
        "**Вывод:** Как мы можем видеть, применение StandardScaler к исходным данным, даже при том, что они содержат только вещественные значения, отлично сказывается на результате, таким образом мы приблизили R2 на 0.05 к единице"
      ]
    }
  ],
  "metadata": {
    "kernelspec": {
      "display_name": "Python 3",
      "language": "python",
      "name": "python3"
    },
    "language_info": {
      "codemirror_mode": {
        "name": "ipython",
        "version": 3
      },
      "file_extension": ".py",
      "mimetype": "text/x-python",
      "name": "python",
      "nbconvert_exporter": "python",
      "pygments_lexer": "ipython3",
      "version": "3.8.8"
    },
    "colab": {
      "name": "Lab_6_Linear_models_6133_Akhmetov.ipynb",
      "provenance": [],
      "include_colab_link": true
    }
  },
  "nbformat": 4,
  "nbformat_minor": 5
}