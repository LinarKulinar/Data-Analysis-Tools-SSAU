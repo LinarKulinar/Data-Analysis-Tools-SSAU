{
  "cells": [
    {
      "cell_type": "markdown",
      "metadata": {
        "id": "view-in-github",
        "colab_type": "text"
      },
      "source": [
        "<a href=\"https://colab.research.google.com/github/LinarKulinar/Data-Analysis-Tools-SSAU/blob/main/Lab_5_Catboost_6133_Akhmetov.ipynb\" target=\"_parent\"><img src=\"https://colab.research.google.com/assets/colab-badge.svg\" alt=\"Open In Colab\"/></a>"
      ]
    },
    {
      "cell_type": "markdown",
      "source": [
        "# **Лабораторная работа 5**\n",
        "\n",
        "# Градиентный бустинг с Catboost\n",
        "\n",
        "Выполнил: 6133, Ахметов Линар"
      ],
      "metadata": {
        "id": "WDxwIlOMHCT_"
      },
      "id": "WDxwIlOMHCT_"
    },
    {
      "cell_type": "code",
      "execution_count": null,
      "id": "939c76d8",
      "metadata": {
        "id": "939c76d8"
      },
      "outputs": [],
      "source": [
        "import catboost\n",
        "import pandas as pd\n",
        "from sklearn.model_selection import train_test_split\n",
        "from catboost import CatBoostClassifier\n",
        "from catboost import CatBoostRegressor\n",
        "from catboost.utils import get_roc_curve\n",
        "from sklearn.metrics import auc\n",
        "import matplotlib.pyplot as plt\n",
        "import sklearn.metrics\n",
        "from sklearn.metrics import precision_recall_curve, plot_precision_recall_curve\n",
        "from catboost import Pool\n",
        "from sklearn.preprocessing import LabelEncoder\n",
        "from sklearn.feature_extraction import FeatureHasher\n",
        "import seaborn as sns\n"
      ]
    },
    {
      "cell_type": "markdown",
      "source": [
        "Данные представляет размеченый датасет с различными генетическими мутациями.\n",
        "\n",
        "Скачать можно на [kaggle](https://www.kaggle.com/datasets/kevinarvai/clinvar-conflicting)."
      ],
      "metadata": {
        "id": "CxoLDEpdLfan"
      },
      "id": "CxoLDEpdLfan"
    },
    {
      "cell_type": "code",
      "execution_count": null,
      "id": "dc2a11f0",
      "metadata": {
        "id": "dc2a11f0"
      },
      "outputs": [],
      "source": [
        "df = pd.read_csv('clinvar_conflicting.csv', dtype={0: object, 38: str, 40: object})"
      ]
    },
    {
      "cell_type": "code",
      "execution_count": null,
      "id": "5e67d79e",
      "metadata": {
        "id": "5e67d79e",
        "outputId": "930fb35e-4cd6-43b5-8beb-82c7b3f8f485"
      },
      "outputs": [
        {
          "data": {
            "text/html": [
              "<div>\n",
              "<style scoped>\n",
              "    .dataframe tbody tr th:only-of-type {\n",
              "        vertical-align: middle;\n",
              "    }\n",
              "\n",
              "    .dataframe tbody tr th {\n",
              "        vertical-align: top;\n",
              "    }\n",
              "\n",
              "    .dataframe thead th {\n",
              "        text-align: right;\n",
              "    }\n",
              "</style>\n",
              "<table border=\"1\" class=\"dataframe\">\n",
              "  <thead>\n",
              "    <tr style=\"text-align: right;\">\n",
              "      <th></th>\n",
              "      <th>CHROM</th>\n",
              "      <th>POS</th>\n",
              "      <th>REF</th>\n",
              "      <th>ALT</th>\n",
              "      <th>AF_ESP</th>\n",
              "      <th>AF_EXAC</th>\n",
              "      <th>AF_TGP</th>\n",
              "      <th>CLNDISDB</th>\n",
              "      <th>CLNDISDBINCL</th>\n",
              "      <th>CLNDN</th>\n",
              "      <th>...</th>\n",
              "      <th>SIFT</th>\n",
              "      <th>PolyPhen</th>\n",
              "      <th>MOTIF_NAME</th>\n",
              "      <th>MOTIF_POS</th>\n",
              "      <th>HIGH_INF_POS</th>\n",
              "      <th>MOTIF_SCORE_CHANGE</th>\n",
              "      <th>LoFtool</th>\n",
              "      <th>CADD_PHRED</th>\n",
              "      <th>CADD_RAW</th>\n",
              "      <th>BLOSUM62</th>\n",
              "    </tr>\n",
              "  </thead>\n",
              "  <tbody>\n",
              "    <tr>\n",
              "      <th>0</th>\n",
              "      <td>1</td>\n",
              "      <td>1168180</td>\n",
              "      <td>G</td>\n",
              "      <td>C</td>\n",
              "      <td>0.0771</td>\n",
              "      <td>0.10020</td>\n",
              "      <td>0.1066</td>\n",
              "      <td>MedGen:CN169374</td>\n",
              "      <td>NaN</td>\n",
              "      <td>not_specified</td>\n",
              "      <td>...</td>\n",
              "      <td>tolerated</td>\n",
              "      <td>benign</td>\n",
              "      <td>NaN</td>\n",
              "      <td>NaN</td>\n",
              "      <td>NaN</td>\n",
              "      <td>NaN</td>\n",
              "      <td>NaN</td>\n",
              "      <td>1.053</td>\n",
              "      <td>-0.208682</td>\n",
              "      <td>2.0</td>\n",
              "    </tr>\n",
              "    <tr>\n",
              "      <th>1</th>\n",
              "      <td>1</td>\n",
              "      <td>1470752</td>\n",
              "      <td>G</td>\n",
              "      <td>A</td>\n",
              "      <td>0.0000</td>\n",
              "      <td>0.00000</td>\n",
              "      <td>0.0000</td>\n",
              "      <td>MedGen:C1843891,OMIM:607454,Orphanet:ORPHA9877...</td>\n",
              "      <td>NaN</td>\n",
              "      <td>Spinocerebellar_ataxia_21|not_provided</td>\n",
              "      <td>...</td>\n",
              "      <td>deleterious_low_confidence</td>\n",
              "      <td>benign</td>\n",
              "      <td>NaN</td>\n",
              "      <td>NaN</td>\n",
              "      <td>NaN</td>\n",
              "      <td>NaN</td>\n",
              "      <td>NaN</td>\n",
              "      <td>31.000</td>\n",
              "      <td>6.517838</td>\n",
              "      <td>-3.0</td>\n",
              "    </tr>\n",
              "    <tr>\n",
              "      <th>2</th>\n",
              "      <td>1</td>\n",
              "      <td>1737942</td>\n",
              "      <td>A</td>\n",
              "      <td>G</td>\n",
              "      <td>0.0000</td>\n",
              "      <td>0.00001</td>\n",
              "      <td>0.0000</td>\n",
              "      <td>Human_Phenotype_Ontology:HP:0000486,MedGen:C00...</td>\n",
              "      <td>NaN</td>\n",
              "      <td>Strabismus|Nystagmus|Hypothyroidism|Intellectu...</td>\n",
              "      <td>...</td>\n",
              "      <td>deleterious</td>\n",
              "      <td>probably_damaging</td>\n",
              "      <td>NaN</td>\n",
              "      <td>NaN</td>\n",
              "      <td>NaN</td>\n",
              "      <td>NaN</td>\n",
              "      <td>NaN</td>\n",
              "      <td>28.100</td>\n",
              "      <td>6.061752</td>\n",
              "      <td>-1.0</td>\n",
              "    </tr>\n",
              "    <tr>\n",
              "      <th>3</th>\n",
              "      <td>1</td>\n",
              "      <td>2160305</td>\n",
              "      <td>G</td>\n",
              "      <td>A</td>\n",
              "      <td>0.0000</td>\n",
              "      <td>0.00000</td>\n",
              "      <td>0.0000</td>\n",
              "      <td>MedGen:C1321551,OMIM:182212,SNOMED_CT:83092002...</td>\n",
              "      <td>NaN</td>\n",
              "      <td>Shprintzen-Goldberg_syndrome|not_provided</td>\n",
              "      <td>...</td>\n",
              "      <td>NaN</td>\n",
              "      <td>NaN</td>\n",
              "      <td>NaN</td>\n",
              "      <td>NaN</td>\n",
              "      <td>NaN</td>\n",
              "      <td>NaN</td>\n",
              "      <td>NaN</td>\n",
              "      <td>22.500</td>\n",
              "      <td>3.114491</td>\n",
              "      <td>NaN</td>\n",
              "    </tr>\n",
              "    <tr>\n",
              "      <th>4</th>\n",
              "      <td>1</td>\n",
              "      <td>2160305</td>\n",
              "      <td>G</td>\n",
              "      <td>T</td>\n",
              "      <td>0.0000</td>\n",
              "      <td>0.00000</td>\n",
              "      <td>0.0000</td>\n",
              "      <td>MedGen:C1321551,OMIM:182212,SNOMED_CT:83092002</td>\n",
              "      <td>NaN</td>\n",
              "      <td>Shprintzen-Goldberg_syndrome</td>\n",
              "      <td>...</td>\n",
              "      <td>NaN</td>\n",
              "      <td>NaN</td>\n",
              "      <td>NaN</td>\n",
              "      <td>NaN</td>\n",
              "      <td>NaN</td>\n",
              "      <td>NaN</td>\n",
              "      <td>NaN</td>\n",
              "      <td>24.700</td>\n",
              "      <td>4.766224</td>\n",
              "      <td>-3.0</td>\n",
              "    </tr>\n",
              "  </tbody>\n",
              "</table>\n",
              "<p>5 rows × 46 columns</p>\n",
              "</div>"
            ],
            "text/plain": [
              "  CHROM      POS REF ALT  AF_ESP  AF_EXAC  AF_TGP  \\\n",
              "0     1  1168180   G   C  0.0771  0.10020  0.1066   \n",
              "1     1  1470752   G   A  0.0000  0.00000  0.0000   \n",
              "2     1  1737942   A   G  0.0000  0.00001  0.0000   \n",
              "3     1  2160305   G   A  0.0000  0.00000  0.0000   \n",
              "4     1  2160305   G   T  0.0000  0.00000  0.0000   \n",
              "\n",
              "                                            CLNDISDB CLNDISDBINCL  \\\n",
              "0                                    MedGen:CN169374          NaN   \n",
              "1  MedGen:C1843891,OMIM:607454,Orphanet:ORPHA9877...          NaN   \n",
              "2  Human_Phenotype_Ontology:HP:0000486,MedGen:C00...          NaN   \n",
              "3  MedGen:C1321551,OMIM:182212,SNOMED_CT:83092002...          NaN   \n",
              "4     MedGen:C1321551,OMIM:182212,SNOMED_CT:83092002          NaN   \n",
              "\n",
              "                                               CLNDN  ...  \\\n",
              "0                                      not_specified  ...   \n",
              "1             Spinocerebellar_ataxia_21|not_provided  ...   \n",
              "2  Strabismus|Nystagmus|Hypothyroidism|Intellectu...  ...   \n",
              "3          Shprintzen-Goldberg_syndrome|not_provided  ...   \n",
              "4                       Shprintzen-Goldberg_syndrome  ...   \n",
              "\n",
              "                         SIFT           PolyPhen MOTIF_NAME MOTIF_POS  \\\n",
              "0                   tolerated             benign        NaN       NaN   \n",
              "1  deleterious_low_confidence             benign        NaN       NaN   \n",
              "2                 deleterious  probably_damaging        NaN       NaN   \n",
              "3                         NaN                NaN        NaN       NaN   \n",
              "4                         NaN                NaN        NaN       NaN   \n",
              "\n",
              "  HIGH_INF_POS MOTIF_SCORE_CHANGE  LoFtool  CADD_PHRED  CADD_RAW BLOSUM62  \n",
              "0          NaN                NaN      NaN       1.053 -0.208682      2.0  \n",
              "1          NaN                NaN      NaN      31.000  6.517838     -3.0  \n",
              "2          NaN                NaN      NaN      28.100  6.061752     -1.0  \n",
              "3          NaN                NaN      NaN      22.500  3.114491      NaN  \n",
              "4          NaN                NaN      NaN      24.700  4.766224     -3.0  \n",
              "\n",
              "[5 rows x 46 columns]"
            ]
          },
          "execution_count": 109,
          "metadata": {},
          "output_type": "execute_result"
        }
      ],
      "source": [
        "df.head()"
      ]
    },
    {
      "cell_type": "code",
      "execution_count": null,
      "id": "fd269677",
      "metadata": {
        "id": "fd269677",
        "outputId": "fd01e168-ba70-4bcf-a0d0-e663ae2fabe7"
      },
      "outputs": [
        {
          "name": "stdout",
          "output_type": "stream",
          "text": [
            "['single_nucleotide_variant' 'Deletion' 'Duplication' 'Indel' 'Inversion'\n",
            " 'Insertion' 'Microsatellite']\n",
            "['MODERATE' 'MODIFIER' 'LOW' 'HIGH']\n",
            "['benign' 'probably_damaging' nan 'possibly_damaging' 'unknown']\n",
            "['tolerated' 'deleterious_low_confidence' 'deleterious' nan\n",
            " 'tolerated_low_confidence']\n",
            "['protein_coding' 'misc_RNA' nan]\n"
          ]
        }
      ],
      "source": [
        "print(df.CLNVC.unique())\n",
        "print(df.IMPACT.unique())\n",
        "print(df.PolyPhen.unique())\n",
        "print(df.SIFT.unique())\n",
        "print(df.BIOTYPE.unique())"
      ]
    },
    {
      "cell_type": "code",
      "execution_count": null,
      "id": "239247f7",
      "metadata": {
        "id": "239247f7"
      },
      "outputs": [],
      "source": [
        "df = df.drop([\"CLNDN\",'CLNDISDBINCL','MOTIF_NAME','MOTIF_POS','HIGH_INF_POS','MOTIF_SCORE_CHANGE','DISTANCE','CLNHGVS','CLNDISDB',\"CLNDNINCL\",'CLNSIGINCL','SSR','INTRON','Codons','MC','CLNVI','SYMBOL','Amino_acids','Protein_position','CDS_position','EXON','cDNA_position','Feature', 'Feature_type','BAM_EDIT'], axis=1)\n",
        "df.BIOTYPE = df.BIOTYPE.fillna('0')\n",
        "\n",
        "fh = FeatureHasher(n_features=10, input_type='string')\n",
        "hashed_alt = pd.DataFrame(fh.fit_transform(df['ALT']).toarray()).rename(columns={0:'ALT_1',\n",
        "                                                                                 1:'ALT_2',\n",
        "                                                                                 2:'ALT_3',\n",
        "                                                                                 3:'ALT_4', \n",
        "                                                                                 4:'ALT_5', \n",
        "                                                                                 5:'ALT_6', \n",
        "                                                                                 6:'ALT_7', \n",
        "                                                                                 7:'ALT_8', \n",
        "                                                                                 8:'ALT_9',\n",
        "                                                                                 9:'ALT_10'})\n",
        "df = df.drop(columns=['ALT'])\n",
        "df = pd.concat([df, hashed_alt], axis=1)\n",
        "fh = FeatureHasher(n_features=10, input_type='string')\n",
        "hashed_ref = pd.DataFrame(fh.fit_transform(df['REF']).toarray()).rename(columns={0:'REF_1',\n",
        "                                                                                 1:'REF_2',\n",
        "                                                                                 2:'REF_3',\n",
        "                                                                                 3:'REF_4', \n",
        "                                                                                 4:'REF_5', \n",
        "                                                                                 5:'REF_6', \n",
        "                                                                                 6:'REF_7', \n",
        "                                                                                 7:'REF_8', \n",
        "                                                                                 8:'REF_9',\n",
        "                                                                                 9:'REF_10'})\n",
        "\n",
        "df = df.drop(columns=['REF'])\n",
        "\n",
        "df = pd.concat([df, hashed_ref], axis=1)\n",
        "hashed_chrom = pd.DataFrame(fh.fit_transform(df['CHROM']).toarray()).rename(columns={0:'CHROM_1',\n",
        "                                                                                     1:'CHROM_2',\n",
        "                                                                                     2:'CHROM_3',\n",
        "                                                                                     3:'CHROM_4', \n",
        "                                                                                     4:'CHROM_5', \n",
        "                                                                                     5:'CHROM_6',\n",
        "                                                                                     6:'CHROM_7',\n",
        "                                                                                     7:'CHROM_8',\n",
        "                                                                                     8:'CHROM_9',\n",
        "                                                                                     9:'CHROM_10'})\n",
        "\n",
        "df = df.drop(columns=['CHROM'])\n",
        "\n",
        "df = pd.concat([df,hashed_chrom], axis=1)\n",
        "hashed_allele = pd.DataFrame(fh.fit_transform(df['Allele']).toarray()).rename(columns={0:'Allele_1',\n",
        "                                                                                       1:'Allele_2',\n",
        "                                                                                       2:'Allele_3',\n",
        "                                                                                       3:'Allele_4', \n",
        "                                                                                       4:'Allele_5',\n",
        "                                                                                       5:'Allele_6', \n",
        "                                                                                       6:'Allele_7', \n",
        "                                                                                       7:'Allele_8', \n",
        "                                                                                       8:'Allele_9', \n",
        "                                                                                       9:'Allele_10'})\n",
        "\n",
        "df = df.drop(columns=['Allele'])\n",
        "\n",
        "df = pd.concat([df, hashed_allele], axis=1)\n",
        "hashed_consequence = pd.DataFrame(fh.fit_transform(df['Consequence']).toarray()).rename(columns={0:'Consequence_1',\n",
        "                                                                                                 1:'Consequence_2',\n",
        "                                                                                                 2:'Consequence_3',\n",
        "                                                                                                 3:'Consequence_4',\n",
        "                                                                                                 4:'Consequence_5',\n",
        "                                                                                                 5:'Consequence_6',\n",
        "                                                                                                 6:'Consequence_7',\n",
        "                                                                                                 7:'Consequence_8',\n",
        "                                                                                                 8:'Consequence_9',\n",
        "                                                                                                 9:'Consequence_10'})\n",
        "\n",
        "df = df.drop(columns=['Consequence'])\n",
        "\n",
        "df = pd.concat([df, hashed_consequence], axis=1)\n",
        "df = df.fillna(0)"
      ]
    },
    {
      "cell_type": "code",
      "execution_count": null,
      "id": "f49591be",
      "metadata": {
        "id": "f49591be"
      },
      "outputs": [],
      "source": [
        "cat_columns = ['CLNVC', 'IMPACT', 'PolyPhen', 'SIFT', 'BIOTYPE']\n",
        "for column in cat_columns:\n",
        "    code, unique = pd.factorize(df[column])\n",
        "    df[column] = pd.Series(code)"
      ]
    },
    {
      "cell_type": "code",
      "execution_count": null,
      "id": "947c3d9a",
      "metadata": {
        "id": "947c3d9a"
      },
      "outputs": [],
      "source": [
        "X = df.drop(columns=['CLASS'])\n",
        "y = df.CLASS"
      ]
    },
    {
      "cell_type": "code",
      "execution_count": null,
      "id": "6d8d952d",
      "metadata": {
        "id": "6d8d952d"
      },
      "outputs": [],
      "source": [
        "X_train, X_test, y_train, y_test = train_test_split(X, y, test_size = 0.25, random_state=42)"
      ]
    },
    {
      "cell_type": "markdown",
      "id": "e15ac6a0",
      "metadata": {
        "id": "e15ac6a0"
      },
      "source": [
        "# 1. CatBoostClassifier\n",
        "*Применить классификатор CatBoostClassifier к вашему набору данных. Обратите внимание, что catboost умеет работать с категориальными признаками (параметр cat_features - список индексов категориальных признаков), поэтому использование pd.factorize / pd.get_dummies здесь лишнее.*"
      ]
    },
    {
      "cell_type": "code",
      "execution_count": null,
      "id": "73e185bf",
      "metadata": {
        "id": "73e185bf",
        "outputId": "076c4eec-b68c-4a4a-bcf5-8a3565a3da8b"
      },
      "outputs": [
        {
          "name": "stdout",
          "output_type": "stream",
          "text": [
            "0:\ttest: 0.6845190\tbest: 0.6845190 (0)\ttotal: 24.5ms\tremaining: 24.5s\n",
            "1:\ttest: 0.7138218\tbest: 0.7138218 (1)\ttotal: 46.3ms\tremaining: 23.1s\n",
            "2:\ttest: 0.7176859\tbest: 0.7176859 (2)\ttotal: 67.3ms\tremaining: 22.4s\n",
            "3:\ttest: 0.7219076\tbest: 0.7219076 (3)\ttotal: 92.1ms\tremaining: 22.9s\n",
            "4:\ttest: 0.7251248\tbest: 0.7251248 (4)\ttotal: 114ms\tremaining: 22.7s\n",
            "5:\ttest: 0.7245404\tbest: 0.7251248 (4)\ttotal: 134ms\tremaining: 22.2s\n",
            "6:\ttest: 0.7276409\tbest: 0.7276409 (6)\ttotal: 155ms\tremaining: 21.9s\n",
            "7:\ttest: 0.7284048\tbest: 0.7284048 (7)\ttotal: 178ms\tremaining: 22.1s\n",
            "8:\ttest: 0.7288130\tbest: 0.7288130 (8)\ttotal: 202ms\tremaining: 22.3s\n",
            "9:\ttest: 0.7312199\tbest: 0.7312199 (9)\ttotal: 224ms\tremaining: 22.2s\n",
            "10:\ttest: 0.7334233\tbest: 0.7334233 (10)\ttotal: 248ms\tremaining: 22.3s\n",
            "11:\ttest: 0.7344414\tbest: 0.7344414 (11)\ttotal: 270ms\tremaining: 22.3s\n",
            "12:\ttest: 0.7348716\tbest: 0.7348716 (12)\ttotal: 295ms\tremaining: 22.4s\n",
            "13:\ttest: 0.7349369\tbest: 0.7349369 (13)\ttotal: 316ms\tremaining: 22.3s\n",
            "14:\ttest: 0.7355107\tbest: 0.7355107 (14)\ttotal: 338ms\tremaining: 22.2s\n",
            "15:\ttest: 0.7353981\tbest: 0.7355107 (14)\ttotal: 358ms\tremaining: 22s\n",
            "16:\ttest: 0.7375437\tbest: 0.7375437 (16)\ttotal: 377ms\tremaining: 21.8s\n",
            "17:\ttest: 0.7398500\tbest: 0.7398500 (17)\ttotal: 400ms\tremaining: 21.8s\n",
            "18:\ttest: 0.7407438\tbest: 0.7407438 (18)\ttotal: 419ms\tremaining: 21.7s\n",
            "19:\ttest: 0.7407766\tbest: 0.7407766 (19)\ttotal: 441ms\tremaining: 21.6s\n",
            "20:\ttest: 0.7420356\tbest: 0.7420356 (20)\ttotal: 461ms\tremaining: 21.5s\n",
            "21:\ttest: 0.7428975\tbest: 0.7428975 (21)\ttotal: 484ms\tremaining: 21.5s\n",
            "22:\ttest: 0.7436281\tbest: 0.7436281 (22)\ttotal: 507ms\tremaining: 21.5s\n",
            "23:\ttest: 0.7437646\tbest: 0.7437646 (23)\ttotal: 529ms\tremaining: 21.5s\n",
            "24:\ttest: 0.7441015\tbest: 0.7441015 (24)\ttotal: 552ms\tremaining: 21.5s\n",
            "25:\ttest: 0.7443729\tbest: 0.7443729 (25)\ttotal: 577ms\tremaining: 21.6s\n",
            "26:\ttest: 0.7443209\tbest: 0.7443729 (25)\ttotal: 599ms\tremaining: 21.6s\n",
            "27:\ttest: 0.7443579\tbest: 0.7443729 (25)\ttotal: 619ms\tremaining: 21.5s\n",
            "28:\ttest: 0.7447401\tbest: 0.7447401 (28)\ttotal: 643ms\tremaining: 21.5s\n",
            "29:\ttest: 0.7448314\tbest: 0.7448314 (29)\ttotal: 674ms\tremaining: 21.8s\n",
            "30:\ttest: 0.7455703\tbest: 0.7455703 (30)\ttotal: 699ms\tremaining: 21.9s\n",
            "31:\ttest: 0.7459386\tbest: 0.7459386 (31)\ttotal: 730ms\tremaining: 22.1s\n",
            "32:\ttest: 0.7465268\tbest: 0.7465268 (32)\ttotal: 759ms\tremaining: 22.2s\n",
            "33:\ttest: 0.7471811\tbest: 0.7471811 (33)\ttotal: 781ms\tremaining: 22.2s\n",
            "34:\ttest: 0.7473793\tbest: 0.7473793 (34)\ttotal: 804ms\tremaining: 22.2s\n",
            "35:\ttest: 0.7475005\tbest: 0.7475005 (35)\ttotal: 826ms\tremaining: 22.1s\n",
            "36:\ttest: 0.7478686\tbest: 0.7478686 (36)\ttotal: 851ms\tremaining: 22.1s\n",
            "37:\ttest: 0.7481698\tbest: 0.7481698 (37)\ttotal: 876ms\tremaining: 22.2s\n",
            "38:\ttest: 0.7487150\tbest: 0.7487150 (38)\ttotal: 900ms\tremaining: 22.2s\n",
            "39:\ttest: 0.7489289\tbest: 0.7489289 (39)\ttotal: 921ms\tremaining: 22.1s\n",
            "40:\ttest: 0.7489744\tbest: 0.7489744 (40)\ttotal: 943ms\tremaining: 22.1s\n",
            "41:\ttest: 0.7490883\tbest: 0.7490883 (41)\ttotal: 969ms\tremaining: 22.1s\n",
            "42:\ttest: 0.7496249\tbest: 0.7496249 (42)\ttotal: 991ms\tremaining: 22.1s\n",
            "43:\ttest: 0.7498773\tbest: 0.7498773 (43)\ttotal: 1.02s\tremaining: 22.1s\n",
            "44:\ttest: 0.7501713\tbest: 0.7501713 (44)\ttotal: 1.05s\tremaining: 22.3s\n",
            "45:\ttest: 0.7504570\tbest: 0.7504570 (45)\ttotal: 1.08s\tremaining: 22.4s\n",
            "46:\ttest: 0.7508168\tbest: 0.7508168 (46)\ttotal: 1.11s\tremaining: 22.5s\n",
            "47:\ttest: 0.7510312\tbest: 0.7510312 (47)\ttotal: 1.15s\tremaining: 22.8s\n",
            "48:\ttest: 0.7514074\tbest: 0.7514074 (48)\ttotal: 1.19s\tremaining: 23.1s\n",
            "49:\ttest: 0.7519420\tbest: 0.7519420 (49)\ttotal: 1.21s\tremaining: 23s\n",
            "50:\ttest: 0.7522734\tbest: 0.7522734 (50)\ttotal: 1.23s\tremaining: 23s\n",
            "51:\ttest: 0.7524965\tbest: 0.7524965 (51)\ttotal: 1.25s\tremaining: 22.9s\n",
            "52:\ttest: 0.7526962\tbest: 0.7526962 (52)\ttotal: 1.28s\tremaining: 22.9s\n",
            "53:\ttest: 0.7532662\tbest: 0.7532662 (53)\ttotal: 1.3s\tremaining: 22.8s\n",
            "54:\ttest: 0.7534367\tbest: 0.7534367 (54)\ttotal: 1.32s\tremaining: 22.8s\n",
            "55:\ttest: 0.7536119\tbest: 0.7536119 (55)\ttotal: 1.34s\tremaining: 22.7s\n",
            "56:\ttest: 0.7540117\tbest: 0.7540117 (56)\ttotal: 1.36s\tremaining: 22.6s\n",
            "57:\ttest: 0.7541283\tbest: 0.7541283 (57)\ttotal: 1.38s\tremaining: 22.5s\n",
            "58:\ttest: 0.7543671\tbest: 0.7543671 (58)\ttotal: 1.41s\tremaining: 22.4s\n",
            "59:\ttest: 0.7544417\tbest: 0.7544417 (59)\ttotal: 1.43s\tremaining: 22.3s\n",
            "60:\ttest: 0.7545143\tbest: 0.7545143 (60)\ttotal: 1.44s\tremaining: 22.2s\n",
            "61:\ttest: 0.7550248\tbest: 0.7550248 (61)\ttotal: 1.47s\tremaining: 22.2s\n",
            "62:\ttest: 0.7550686\tbest: 0.7550686 (62)\ttotal: 1.5s\tremaining: 22.2s\n",
            "63:\ttest: 0.7550794\tbest: 0.7550794 (63)\ttotal: 1.52s\tremaining: 22.3s\n",
            "64:\ttest: 0.7552811\tbest: 0.7552811 (64)\ttotal: 1.55s\tremaining: 22.3s\n",
            "65:\ttest: 0.7557414\tbest: 0.7557414 (65)\ttotal: 1.57s\tremaining: 22.2s\n",
            "66:\ttest: 0.7559062\tbest: 0.7559062 (66)\ttotal: 1.6s\tremaining: 22.2s\n",
            "67:\ttest: 0.7560726\tbest: 0.7560726 (67)\ttotal: 1.62s\tremaining: 22.2s\n",
            "68:\ttest: 0.7562200\tbest: 0.7562200 (68)\ttotal: 1.64s\tremaining: 22.2s\n",
            "69:\ttest: 0.7562922\tbest: 0.7562922 (69)\ttotal: 1.67s\tremaining: 22.2s\n",
            "70:\ttest: 0.7564116\tbest: 0.7564116 (70)\ttotal: 1.69s\tremaining: 22.2s\n",
            "71:\ttest: 0.7569822\tbest: 0.7569822 (71)\ttotal: 1.72s\tremaining: 22.2s\n",
            "72:\ttest: 0.7571204\tbest: 0.7571204 (72)\ttotal: 1.74s\tremaining: 22.1s\n",
            "73:\ttest: 0.7573755\tbest: 0.7573755 (73)\ttotal: 1.76s\tremaining: 22s\n",
            "74:\ttest: 0.7576195\tbest: 0.7576195 (74)\ttotal: 1.78s\tremaining: 22s\n",
            "75:\ttest: 0.7576691\tbest: 0.7576691 (75)\ttotal: 1.8s\tremaining: 21.9s\n",
            "76:\ttest: 0.7578404\tbest: 0.7578404 (76)\ttotal: 1.82s\tremaining: 21.8s\n",
            "77:\ttest: 0.7579736\tbest: 0.7579736 (77)\ttotal: 1.84s\tremaining: 21.8s\n",
            "78:\ttest: 0.7582321\tbest: 0.7582321 (78)\ttotal: 1.87s\tremaining: 21.8s\n",
            "79:\ttest: 0.7584527\tbest: 0.7584527 (79)\ttotal: 1.89s\tremaining: 21.7s\n",
            "80:\ttest: 0.7585588\tbest: 0.7585588 (80)\ttotal: 1.91s\tremaining: 21.7s\n",
            "81:\ttest: 0.7585246\tbest: 0.7585588 (80)\ttotal: 1.93s\tremaining: 21.6s\n",
            "82:\ttest: 0.7585575\tbest: 0.7585588 (80)\ttotal: 1.95s\tremaining: 21.5s\n",
            "83:\ttest: 0.7587973\tbest: 0.7587973 (83)\ttotal: 1.97s\tremaining: 21.5s\n",
            "84:\ttest: 0.7589418\tbest: 0.7589418 (84)\ttotal: 1.99s\tremaining: 21.5s\n",
            "85:\ttest: 0.7590141\tbest: 0.7590141 (85)\ttotal: 2.01s\tremaining: 21.4s\n",
            "86:\ttest: 0.7594517\tbest: 0.7594517 (86)\ttotal: 2.04s\tremaining: 21.4s\n",
            "87:\ttest: 0.7596497\tbest: 0.7596497 (87)\ttotal: 2.06s\tremaining: 21.3s\n",
            "88:\ttest: 0.7597229\tbest: 0.7597229 (88)\ttotal: 2.08s\tremaining: 21.3s\n",
            "89:\ttest: 0.7597415\tbest: 0.7597415 (89)\ttotal: 2.1s\tremaining: 21.3s\n",
            "90:\ttest: 0.7598749\tbest: 0.7598749 (90)\ttotal: 2.13s\tremaining: 21.2s\n",
            "91:\ttest: 0.7599063\tbest: 0.7599063 (91)\ttotal: 2.15s\tremaining: 21.2s\n",
            "92:\ttest: 0.7599648\tbest: 0.7599648 (92)\ttotal: 2.17s\tremaining: 21.2s\n",
            "93:\ttest: 0.7600188\tbest: 0.7600188 (93)\ttotal: 2.19s\tremaining: 21.1s\n",
            "94:\ttest: 0.7600931\tbest: 0.7600931 (94)\ttotal: 2.21s\tremaining: 21.1s\n",
            "95:\ttest: 0.7602542\tbest: 0.7602542 (95)\ttotal: 2.24s\tremaining: 21.1s\n",
            "96:\ttest: 0.7602740\tbest: 0.7602740 (96)\ttotal: 2.26s\tremaining: 21s\n",
            "97:\ttest: 0.7604893\tbest: 0.7604893 (97)\ttotal: 2.28s\tremaining: 21s\n",
            "98:\ttest: 0.7605419\tbest: 0.7605419 (98)\ttotal: 2.3s\tremaining: 20.9s\n",
            "99:\ttest: 0.7605971\tbest: 0.7605971 (99)\ttotal: 2.32s\tremaining: 20.9s\n",
            "100:\ttest: 0.7607487\tbest: 0.7607487 (100)\ttotal: 2.35s\tremaining: 20.9s\n",
            "101:\ttest: 0.7609073\tbest: 0.7609073 (101)\ttotal: 2.37s\tremaining: 20.9s\n",
            "102:\ttest: 0.7610563\tbest: 0.7610563 (102)\ttotal: 2.39s\tremaining: 20.8s\n",
            "103:\ttest: 0.7610783\tbest: 0.7610783 (103)\ttotal: 2.42s\tremaining: 20.8s\n",
            "104:\ttest: 0.7612315\tbest: 0.7612315 (104)\ttotal: 2.44s\tremaining: 20.8s\n",
            "105:\ttest: 0.7613165\tbest: 0.7613165 (105)\ttotal: 2.46s\tremaining: 20.8s\n",
            "106:\ttest: 0.7613245\tbest: 0.7613245 (106)\ttotal: 2.48s\tremaining: 20.7s\n",
            "107:\ttest: 0.7615002\tbest: 0.7615002 (107)\ttotal: 2.51s\tremaining: 20.7s\n",
            "108:\ttest: 0.7617000\tbest: 0.7617000 (108)\ttotal: 2.53s\tremaining: 20.7s\n",
            "109:\ttest: 0.7617114\tbest: 0.7617114 (109)\ttotal: 2.55s\tremaining: 20.6s\n",
            "110:\ttest: 0.7618845\tbest: 0.7618845 (110)\ttotal: 2.58s\tremaining: 20.6s\n",
            "111:\ttest: 0.7618995\tbest: 0.7618995 (111)\ttotal: 2.6s\tremaining: 20.6s\n",
            "112:\ttest: 0.7619291\tbest: 0.7619291 (112)\ttotal: 2.62s\tremaining: 20.6s\n",
            "113:\ttest: 0.7619672\tbest: 0.7619672 (113)\ttotal: 2.64s\tremaining: 20.5s\n",
            "114:\ttest: 0.7619848\tbest: 0.7619848 (114)\ttotal: 2.66s\tremaining: 20.5s\n",
            "115:\ttest: 0.7620885\tbest: 0.7620885 (115)\ttotal: 2.69s\tremaining: 20.5s\n",
            "116:\ttest: 0.7623879\tbest: 0.7623879 (116)\ttotal: 2.72s\tremaining: 20.5s\n"
          ]
        },
        {
          "name": "stdout",
          "output_type": "stream",
          "text": [
            "117:\ttest: 0.7625232\tbest: 0.7625232 (117)\ttotal: 2.75s\tremaining: 20.5s\n",
            "118:\ttest: 0.7625461\tbest: 0.7625461 (118)\ttotal: 2.77s\tremaining: 20.6s\n",
            "119:\ttest: 0.7628335\tbest: 0.7628335 (119)\ttotal: 2.8s\tremaining: 20.5s\n",
            "120:\ttest: 0.7628712\tbest: 0.7628712 (120)\ttotal: 2.82s\tremaining: 20.5s\n",
            "121:\ttest: 0.7630951\tbest: 0.7630951 (121)\ttotal: 2.85s\tremaining: 20.5s\n",
            "122:\ttest: 0.7632239\tbest: 0.7632239 (122)\ttotal: 2.87s\tremaining: 20.4s\n",
            "123:\ttest: 0.7634493\tbest: 0.7634493 (123)\ttotal: 2.89s\tremaining: 20.4s\n",
            "124:\ttest: 0.7635676\tbest: 0.7635676 (124)\ttotal: 2.91s\tremaining: 20.4s\n",
            "125:\ttest: 0.7636781\tbest: 0.7636781 (125)\ttotal: 2.93s\tremaining: 20.3s\n",
            "126:\ttest: 0.7637608\tbest: 0.7637608 (126)\ttotal: 2.96s\tremaining: 20.3s\n",
            "127:\ttest: 0.7638293\tbest: 0.7638293 (127)\ttotal: 2.97s\tremaining: 20.3s\n",
            "128:\ttest: 0.7638224\tbest: 0.7638293 (127)\ttotal: 2.99s\tremaining: 20.2s\n",
            "129:\ttest: 0.7639101\tbest: 0.7639101 (129)\ttotal: 3.01s\tremaining: 20.2s\n",
            "130:\ttest: 0.7639130\tbest: 0.7639130 (130)\ttotal: 3.03s\tremaining: 20.1s\n",
            "131:\ttest: 0.7641111\tbest: 0.7641111 (131)\ttotal: 3.06s\tremaining: 20.1s\n",
            "132:\ttest: 0.7641009\tbest: 0.7641111 (131)\ttotal: 3.09s\tremaining: 20.1s\n",
            "133:\ttest: 0.7641163\tbest: 0.7641163 (133)\ttotal: 3.11s\tremaining: 20.1s\n",
            "134:\ttest: 0.7641030\tbest: 0.7641163 (133)\ttotal: 3.13s\tremaining: 20s\n",
            "135:\ttest: 0.7641021\tbest: 0.7641163 (133)\ttotal: 3.14s\tremaining: 20s\n",
            "136:\ttest: 0.7641807\tbest: 0.7641807 (136)\ttotal: 3.17s\tremaining: 19.9s\n",
            "137:\ttest: 0.7641548\tbest: 0.7641807 (136)\ttotal: 3.18s\tremaining: 19.9s\n",
            "138:\ttest: 0.7642811\tbest: 0.7642811 (138)\ttotal: 3.2s\tremaining: 19.8s\n",
            "139:\ttest: 0.7643537\tbest: 0.7643537 (139)\ttotal: 3.23s\tremaining: 19.9s\n",
            "140:\ttest: 0.7644050\tbest: 0.7644050 (140)\ttotal: 3.26s\tremaining: 19.8s\n",
            "141:\ttest: 0.7644195\tbest: 0.7644195 (141)\ttotal: 3.28s\tremaining: 19.8s\n",
            "142:\ttest: 0.7645039\tbest: 0.7645039 (142)\ttotal: 3.3s\tremaining: 19.8s\n",
            "143:\ttest: 0.7645283\tbest: 0.7645283 (143)\ttotal: 3.32s\tremaining: 19.7s\n",
            "144:\ttest: 0.7646053\tbest: 0.7646053 (144)\ttotal: 3.34s\tremaining: 19.7s\n",
            "145:\ttest: 0.7647042\tbest: 0.7647042 (145)\ttotal: 3.37s\tremaining: 19.7s\n",
            "146:\ttest: 0.7647044\tbest: 0.7647044 (146)\ttotal: 3.39s\tremaining: 19.7s\n",
            "147:\ttest: 0.7647103\tbest: 0.7647103 (147)\ttotal: 3.42s\tremaining: 19.7s\n",
            "148:\ttest: 0.7648978\tbest: 0.7648978 (148)\ttotal: 3.44s\tremaining: 19.7s\n",
            "149:\ttest: 0.7649498\tbest: 0.7649498 (149)\ttotal: 3.47s\tremaining: 19.7s\n",
            "150:\ttest: 0.7649401\tbest: 0.7649498 (149)\ttotal: 3.5s\tremaining: 19.7s\n",
            "151:\ttest: 0.7649831\tbest: 0.7649831 (151)\ttotal: 3.53s\tremaining: 19.7s\n",
            "152:\ttest: 0.7650088\tbest: 0.7650088 (152)\ttotal: 3.55s\tremaining: 19.6s\n",
            "153:\ttest: 0.7651331\tbest: 0.7651331 (153)\ttotal: 3.58s\tremaining: 19.7s\n",
            "154:\ttest: 0.7651288\tbest: 0.7651331 (153)\ttotal: 3.6s\tremaining: 19.6s\n",
            "155:\ttest: 0.7651725\tbest: 0.7651725 (155)\ttotal: 3.63s\tremaining: 19.6s\n",
            "156:\ttest: 0.7651908\tbest: 0.7651908 (156)\ttotal: 3.65s\tremaining: 19.6s\n",
            "157:\ttest: 0.7652121\tbest: 0.7652121 (157)\ttotal: 3.67s\tremaining: 19.6s\n",
            "158:\ttest: 0.7653748\tbest: 0.7653748 (158)\ttotal: 3.69s\tremaining: 19.5s\n",
            "159:\ttest: 0.7654084\tbest: 0.7654084 (159)\ttotal: 3.71s\tremaining: 19.5s\n",
            "160:\ttest: 0.7654052\tbest: 0.7654084 (159)\ttotal: 3.74s\tremaining: 19.5s\n",
            "161:\ttest: 0.7654057\tbest: 0.7654084 (159)\ttotal: 3.76s\tremaining: 19.4s\n",
            "162:\ttest: 0.7654094\tbest: 0.7654094 (162)\ttotal: 3.78s\tremaining: 19.4s\n",
            "163:\ttest: 0.7654636\tbest: 0.7654636 (163)\ttotal: 3.81s\tremaining: 19.4s\n",
            "164:\ttest: 0.7655343\tbest: 0.7655343 (164)\ttotal: 3.83s\tremaining: 19.4s\n",
            "165:\ttest: 0.7655517\tbest: 0.7655517 (165)\ttotal: 3.85s\tremaining: 19.4s\n",
            "166:\ttest: 0.7656361\tbest: 0.7656361 (166)\ttotal: 3.88s\tremaining: 19.3s\n",
            "167:\ttest: 0.7656204\tbest: 0.7656361 (166)\ttotal: 3.9s\tremaining: 19.3s\n",
            "168:\ttest: 0.7656316\tbest: 0.7656361 (166)\ttotal: 3.92s\tremaining: 19.3s\n",
            "169:\ttest: 0.7656336\tbest: 0.7656361 (166)\ttotal: 3.93s\tremaining: 19.2s\n",
            "170:\ttest: 0.7656260\tbest: 0.7656361 (166)\ttotal: 3.95s\tremaining: 19.1s\n",
            "171:\ttest: 0.7656429\tbest: 0.7656429 (171)\ttotal: 3.97s\tremaining: 19.1s\n",
            "172:\ttest: 0.7657507\tbest: 0.7657507 (172)\ttotal: 4s\tremaining: 19.1s\n",
            "173:\ttest: 0.7659662\tbest: 0.7659662 (173)\ttotal: 4.02s\tremaining: 19.1s\n",
            "174:\ttest: 0.7659346\tbest: 0.7659662 (173)\ttotal: 4.04s\tremaining: 19s\n",
            "175:\ttest: 0.7660415\tbest: 0.7660415 (175)\ttotal: 4.06s\tremaining: 19s\n",
            "176:\ttest: 0.7660689\tbest: 0.7660689 (176)\ttotal: 4.08s\tremaining: 19s\n",
            "177:\ttest: 0.7661490\tbest: 0.7661490 (177)\ttotal: 4.1s\tremaining: 18.9s\n",
            "178:\ttest: 0.7661634\tbest: 0.7661634 (178)\ttotal: 4.12s\tremaining: 18.9s\n",
            "179:\ttest: 0.7662463\tbest: 0.7662463 (179)\ttotal: 4.15s\tremaining: 18.9s\n",
            "180:\ttest: 0.7662908\tbest: 0.7662908 (180)\ttotal: 4.17s\tremaining: 18.9s\n",
            "181:\ttest: 0.7662842\tbest: 0.7662908 (180)\ttotal: 4.19s\tremaining: 18.8s\n",
            "182:\ttest: 0.7663406\tbest: 0.7663406 (182)\ttotal: 4.21s\tremaining: 18.8s\n",
            "183:\ttest: 0.7663408\tbest: 0.7663408 (183)\ttotal: 4.23s\tremaining: 18.7s\n",
            "184:\ttest: 0.7663633\tbest: 0.7663633 (184)\ttotal: 4.25s\tremaining: 18.7s\n",
            "185:\ttest: 0.7663990\tbest: 0.7663990 (185)\ttotal: 4.27s\tremaining: 18.7s\n",
            "186:\ttest: 0.7664310\tbest: 0.7664310 (186)\ttotal: 4.29s\tremaining: 18.6s\n",
            "187:\ttest: 0.7664476\tbest: 0.7664476 (187)\ttotal: 4.31s\tremaining: 18.6s\n",
            "188:\ttest: 0.7665558\tbest: 0.7665558 (188)\ttotal: 4.33s\tremaining: 18.6s\n",
            "189:\ttest: 0.7665553\tbest: 0.7665558 (188)\ttotal: 4.35s\tremaining: 18.6s\n",
            "190:\ttest: 0.7666634\tbest: 0.7666634 (190)\ttotal: 4.38s\tremaining: 18.5s\n",
            "191:\ttest: 0.7667273\tbest: 0.7667273 (191)\ttotal: 4.4s\tremaining: 18.5s\n",
            "192:\ttest: 0.7667922\tbest: 0.7667922 (192)\ttotal: 4.42s\tremaining: 18.5s\n",
            "193:\ttest: 0.7669284\tbest: 0.7669284 (193)\ttotal: 4.45s\tremaining: 18.5s\n",
            "194:\ttest: 0.7670869\tbest: 0.7670869 (194)\ttotal: 4.48s\tremaining: 18.5s\n",
            "195:\ttest: 0.7672029\tbest: 0.7672029 (195)\ttotal: 4.51s\tremaining: 18.5s\n",
            "196:\ttest: 0.7672273\tbest: 0.7672273 (196)\ttotal: 4.54s\tremaining: 18.5s\n",
            "197:\ttest: 0.7672695\tbest: 0.7672695 (197)\ttotal: 4.56s\tremaining: 18.5s\n",
            "198:\ttest: 0.7672760\tbest: 0.7672760 (198)\ttotal: 4.58s\tremaining: 18.4s\n",
            "199:\ttest: 0.7673294\tbest: 0.7673294 (199)\ttotal: 4.6s\tremaining: 18.4s\n",
            "200:\ttest: 0.7674892\tbest: 0.7674892 (200)\ttotal: 4.62s\tremaining: 18.4s\n",
            "201:\ttest: 0.7675681\tbest: 0.7675681 (201)\ttotal: 4.64s\tremaining: 18.3s\n",
            "202:\ttest: 0.7675666\tbest: 0.7675681 (201)\ttotal: 4.65s\tremaining: 18.3s\n",
            "203:\ttest: 0.7675976\tbest: 0.7675976 (203)\ttotal: 4.67s\tremaining: 18.2s\n",
            "204:\ttest: 0.7676681\tbest: 0.7676681 (204)\ttotal: 4.7s\tremaining: 18.2s\n",
            "205:\ttest: 0.7676750\tbest: 0.7676750 (205)\ttotal: 4.71s\tremaining: 18.2s\n",
            "206:\ttest: 0.7676740\tbest: 0.7676750 (205)\ttotal: 4.72s\tremaining: 18.1s\n",
            "207:\ttest: 0.7676948\tbest: 0.7676948 (207)\ttotal: 4.75s\tremaining: 18.1s\n",
            "208:\ttest: 0.7678060\tbest: 0.7678060 (208)\ttotal: 4.77s\tremaining: 18s\n",
            "209:\ttest: 0.7680100\tbest: 0.7680100 (209)\ttotal: 4.79s\tremaining: 18s\n",
            "210:\ttest: 0.7680182\tbest: 0.7680182 (210)\ttotal: 4.81s\tremaining: 18s\n",
            "211:\ttest: 0.7680345\tbest: 0.7680345 (211)\ttotal: 4.83s\tremaining: 17.9s\n",
            "212:\ttest: 0.7681096\tbest: 0.7681096 (212)\ttotal: 4.84s\tremaining: 17.9s\n",
            "213:\ttest: 0.7680962\tbest: 0.7681096 (212)\ttotal: 4.87s\tremaining: 17.9s\n",
            "214:\ttest: 0.7681698\tbest: 0.7681698 (214)\ttotal: 4.89s\tremaining: 17.8s\n",
            "215:\ttest: 0.7681984\tbest: 0.7681984 (215)\ttotal: 4.91s\tremaining: 17.8s\n",
            "216:\ttest: 0.7681933\tbest: 0.7681984 (215)\ttotal: 4.93s\tremaining: 17.8s\n",
            "217:\ttest: 0.7682455\tbest: 0.7682455 (217)\ttotal: 4.95s\tremaining: 17.8s\n",
            "218:\ttest: 0.7682623\tbest: 0.7682623 (218)\ttotal: 4.97s\tremaining: 17.7s\n",
            "219:\ttest: 0.7682835\tbest: 0.7682835 (219)\ttotal: 4.99s\tremaining: 17.7s\n",
            "220:\ttest: 0.7683573\tbest: 0.7683573 (220)\ttotal: 5.01s\tremaining: 17.7s\n",
            "221:\ttest: 0.7685111\tbest: 0.7685111 (221)\ttotal: 5.03s\tremaining: 17.6s\n",
            "222:\ttest: 0.7686139\tbest: 0.7686139 (222)\ttotal: 5.06s\tremaining: 17.6s\n",
            "223:\ttest: 0.7686779\tbest: 0.7686779 (223)\ttotal: 5.08s\tremaining: 17.6s\n",
            "224:\ttest: 0.7686637\tbest: 0.7686779 (223)\ttotal: 5.1s\tremaining: 17.6s\n",
            "225:\ttest: 0.7687024\tbest: 0.7687024 (225)\ttotal: 5.12s\tremaining: 17.5s\n",
            "226:\ttest: 0.7689224\tbest: 0.7689224 (226)\ttotal: 5.14s\tremaining: 17.5s\n",
            "227:\ttest: 0.7690812\tbest: 0.7690812 (227)\ttotal: 5.17s\tremaining: 17.5s\n",
            "228:\ttest: 0.7692113\tbest: 0.7692113 (228)\ttotal: 5.19s\tremaining: 17.5s\n",
            "229:\ttest: 0.7692764\tbest: 0.7692764 (229)\ttotal: 5.21s\tremaining: 17.4s\n",
            "230:\ttest: 0.7694090\tbest: 0.7694090 (230)\ttotal: 5.23s\tremaining: 17.4s\n",
            "231:\ttest: 0.7695936\tbest: 0.7695936 (231)\ttotal: 5.25s\tremaining: 17.4s\n",
            "232:\ttest: 0.7696322\tbest: 0.7696322 (232)\ttotal: 5.27s\tremaining: 17.4s\n"
          ]
        },
        {
          "name": "stdout",
          "output_type": "stream",
          "text": [
            "233:\ttest: 0.7697013\tbest: 0.7697013 (233)\ttotal: 5.3s\tremaining: 17.3s\n",
            "234:\ttest: 0.7697536\tbest: 0.7697536 (234)\ttotal: 5.32s\tremaining: 17.3s\n",
            "235:\ttest: 0.7697706\tbest: 0.7697706 (235)\ttotal: 5.34s\tremaining: 17.3s\n",
            "236:\ttest: 0.7697722\tbest: 0.7697722 (236)\ttotal: 5.37s\tremaining: 17.3s\n",
            "237:\ttest: 0.7697748\tbest: 0.7697748 (237)\ttotal: 5.39s\tremaining: 17.2s\n",
            "238:\ttest: 0.7698485\tbest: 0.7698485 (238)\ttotal: 5.41s\tremaining: 17.2s\n",
            "239:\ttest: 0.7698607\tbest: 0.7698607 (239)\ttotal: 5.43s\tremaining: 17.2s\n",
            "240:\ttest: 0.7698544\tbest: 0.7698607 (239)\ttotal: 5.45s\tremaining: 17.2s\n",
            "241:\ttest: 0.7698797\tbest: 0.7698797 (241)\ttotal: 5.47s\tremaining: 17.1s\n",
            "242:\ttest: 0.7699742\tbest: 0.7699742 (242)\ttotal: 5.49s\tremaining: 17.1s\n",
            "243:\ttest: 0.7700209\tbest: 0.7700209 (243)\ttotal: 5.51s\tremaining: 17.1s\n",
            "244:\ttest: 0.7700151\tbest: 0.7700209 (243)\ttotal: 5.53s\tremaining: 17.1s\n",
            "245:\ttest: 0.7699740\tbest: 0.7700209 (243)\ttotal: 5.56s\tremaining: 17s\n",
            "246:\ttest: 0.7700366\tbest: 0.7700366 (246)\ttotal: 5.58s\tremaining: 17s\n",
            "247:\ttest: 0.7701825\tbest: 0.7701825 (247)\ttotal: 5.6s\tremaining: 17s\n",
            "248:\ttest: 0.7701993\tbest: 0.7701993 (248)\ttotal: 5.62s\tremaining: 16.9s\n",
            "249:\ttest: 0.7702054\tbest: 0.7702054 (249)\ttotal: 5.63s\tremaining: 16.9s\n",
            "250:\ttest: 0.7702343\tbest: 0.7702343 (250)\ttotal: 5.65s\tremaining: 16.9s\n",
            "251:\ttest: 0.7702989\tbest: 0.7702989 (251)\ttotal: 5.68s\tremaining: 16.9s\n",
            "252:\ttest: 0.7703075\tbest: 0.7703075 (252)\ttotal: 5.7s\tremaining: 16.8s\n",
            "253:\ttest: 0.7703159\tbest: 0.7703159 (253)\ttotal: 5.72s\tremaining: 16.8s\n",
            "254:\ttest: 0.7703282\tbest: 0.7703282 (254)\ttotal: 5.74s\tremaining: 16.8s\n",
            "255:\ttest: 0.7705160\tbest: 0.7705160 (255)\ttotal: 5.77s\tremaining: 16.8s\n",
            "256:\ttest: 0.7705055\tbest: 0.7705160 (255)\ttotal: 5.79s\tremaining: 16.7s\n",
            "257:\ttest: 0.7706249\tbest: 0.7706249 (257)\ttotal: 5.82s\tremaining: 16.7s\n",
            "258:\ttest: 0.7706600\tbest: 0.7706600 (258)\ttotal: 5.84s\tremaining: 16.7s\n",
            "259:\ttest: 0.7706905\tbest: 0.7706905 (259)\ttotal: 5.88s\tremaining: 16.7s\n",
            "260:\ttest: 0.7707920\tbest: 0.7707920 (260)\ttotal: 5.9s\tremaining: 16.7s\n",
            "261:\ttest: 0.7708530\tbest: 0.7708530 (261)\ttotal: 5.93s\tremaining: 16.7s\n",
            "262:\ttest: 0.7709328\tbest: 0.7709328 (262)\ttotal: 5.95s\tremaining: 16.7s\n",
            "263:\ttest: 0.7709462\tbest: 0.7709462 (263)\ttotal: 5.97s\tremaining: 16.7s\n",
            "264:\ttest: 0.7709389\tbest: 0.7709462 (263)\ttotal: 6s\tremaining: 16.6s\n",
            "265:\ttest: 0.7709728\tbest: 0.7709728 (265)\ttotal: 6.02s\tremaining: 16.6s\n",
            "266:\ttest: 0.7709822\tbest: 0.7709822 (266)\ttotal: 6.04s\tremaining: 16.6s\n",
            "267:\ttest: 0.7710124\tbest: 0.7710124 (267)\ttotal: 6.07s\tremaining: 16.6s\n",
            "268:\ttest: 0.7710877\tbest: 0.7710877 (268)\ttotal: 6.08s\tremaining: 16.5s\n",
            "269:\ttest: 0.7710808\tbest: 0.7710877 (268)\ttotal: 6.11s\tremaining: 16.5s\n",
            "270:\ttest: 0.7710767\tbest: 0.7710877 (268)\ttotal: 6.13s\tremaining: 16.5s\n",
            "271:\ttest: 0.7711201\tbest: 0.7711201 (271)\ttotal: 6.15s\tremaining: 16.5s\n",
            "272:\ttest: 0.7711669\tbest: 0.7711669 (272)\ttotal: 6.17s\tremaining: 16.4s\n",
            "273:\ttest: 0.7713480\tbest: 0.7713480 (273)\ttotal: 6.2s\tremaining: 16.4s\n",
            "274:\ttest: 0.7713764\tbest: 0.7713764 (274)\ttotal: 6.22s\tremaining: 16.4s\n",
            "275:\ttest: 0.7714671\tbest: 0.7714671 (275)\ttotal: 6.24s\tremaining: 16.4s\n",
            "276:\ttest: 0.7716613\tbest: 0.7716613 (276)\ttotal: 6.26s\tremaining: 16.3s\n",
            "277:\ttest: 0.7717011\tbest: 0.7717011 (277)\ttotal: 6.28s\tremaining: 16.3s\n",
            "278:\ttest: 0.7717431\tbest: 0.7717431 (278)\ttotal: 6.3s\tremaining: 16.3s\n",
            "279:\ttest: 0.7717379\tbest: 0.7717431 (278)\ttotal: 6.32s\tremaining: 16.3s\n",
            "280:\ttest: 0.7717639\tbest: 0.7717639 (280)\ttotal: 6.34s\tremaining: 16.2s\n",
            "281:\ttest: 0.7718336\tbest: 0.7718336 (281)\ttotal: 6.37s\tremaining: 16.2s\n",
            "282:\ttest: 0.7718892\tbest: 0.7718892 (282)\ttotal: 6.39s\tremaining: 16.2s\n",
            "283:\ttest: 0.7718949\tbest: 0.7718949 (283)\ttotal: 6.41s\tremaining: 16.2s\n",
            "284:\ttest: 0.7719210\tbest: 0.7719210 (284)\ttotal: 6.43s\tremaining: 16.1s\n",
            "285:\ttest: 0.7719994\tbest: 0.7719994 (285)\ttotal: 6.45s\tremaining: 16.1s\n",
            "286:\ttest: 0.7720699\tbest: 0.7720699 (286)\ttotal: 6.47s\tremaining: 16.1s\n",
            "287:\ttest: 0.7721915\tbest: 0.7721915 (287)\ttotal: 6.5s\tremaining: 16.1s\n",
            "288:\ttest: 0.7722470\tbest: 0.7722470 (288)\ttotal: 6.52s\tremaining: 16s\n",
            "289:\ttest: 0.7722452\tbest: 0.7722470 (288)\ttotal: 6.54s\tremaining: 16s\n",
            "290:\ttest: 0.7722728\tbest: 0.7722728 (290)\ttotal: 6.56s\tremaining: 16s\n",
            "291:\ttest: 0.7722564\tbest: 0.7722728 (290)\ttotal: 6.59s\tremaining: 16s\n",
            "292:\ttest: 0.7722848\tbest: 0.7722848 (292)\ttotal: 6.61s\tremaining: 15.9s\n",
            "293:\ttest: 0.7723232\tbest: 0.7723232 (293)\ttotal: 6.63s\tremaining: 15.9s\n",
            "294:\ttest: 0.7723211\tbest: 0.7723232 (293)\ttotal: 6.65s\tremaining: 15.9s\n",
            "295:\ttest: 0.7723473\tbest: 0.7723473 (295)\ttotal: 6.67s\tremaining: 15.9s\n",
            "296:\ttest: 0.7723552\tbest: 0.7723552 (296)\ttotal: 6.69s\tremaining: 15.8s\n",
            "297:\ttest: 0.7723568\tbest: 0.7723568 (297)\ttotal: 6.71s\tremaining: 15.8s\n",
            "298:\ttest: 0.7723743\tbest: 0.7723743 (298)\ttotal: 6.73s\tremaining: 15.8s\n",
            "299:\ttest: 0.7723985\tbest: 0.7723985 (299)\ttotal: 6.76s\tremaining: 15.8s\n",
            "300:\ttest: 0.7724331\tbest: 0.7724331 (300)\ttotal: 6.78s\tremaining: 15.7s\n",
            "301:\ttest: 0.7724187\tbest: 0.7724331 (300)\ttotal: 6.8s\tremaining: 15.7s\n",
            "302:\ttest: 0.7724552\tbest: 0.7724552 (302)\ttotal: 6.82s\tremaining: 15.7s\n",
            "303:\ttest: 0.7725224\tbest: 0.7725224 (303)\ttotal: 6.84s\tremaining: 15.7s\n",
            "304:\ttest: 0.7725236\tbest: 0.7725236 (304)\ttotal: 6.86s\tremaining: 15.6s\n",
            "305:\ttest: 0.7725114\tbest: 0.7725236 (304)\ttotal: 6.89s\tremaining: 15.6s\n",
            "306:\ttest: 0.7725689\tbest: 0.7725689 (306)\ttotal: 6.91s\tremaining: 15.6s\n",
            "307:\ttest: 0.7725895\tbest: 0.7725895 (307)\ttotal: 6.93s\tremaining: 15.6s\n",
            "308:\ttest: 0.7726033\tbest: 0.7726033 (308)\ttotal: 6.95s\tremaining: 15.6s\n",
            "309:\ttest: 0.7726420\tbest: 0.7726420 (309)\ttotal: 6.97s\tremaining: 15.5s\n",
            "310:\ttest: 0.7726572\tbest: 0.7726572 (310)\ttotal: 7s\tremaining: 15.5s\n",
            "311:\ttest: 0.7727172\tbest: 0.7727172 (311)\ttotal: 7.03s\tremaining: 15.5s\n",
            "312:\ttest: 0.7728061\tbest: 0.7728061 (312)\ttotal: 7.05s\tremaining: 15.5s\n",
            "313:\ttest: 0.7728573\tbest: 0.7728573 (313)\ttotal: 7.08s\tremaining: 15.5s\n",
            "314:\ttest: 0.7730158\tbest: 0.7730158 (314)\ttotal: 7.1s\tremaining: 15.4s\n",
            "315:\ttest: 0.7730786\tbest: 0.7730786 (315)\ttotal: 7.12s\tremaining: 15.4s\n",
            "316:\ttest: 0.7731528\tbest: 0.7731528 (316)\ttotal: 7.14s\tremaining: 15.4s\n",
            "317:\ttest: 0.7731786\tbest: 0.7731786 (317)\ttotal: 7.16s\tremaining: 15.4s\n",
            "318:\ttest: 0.7731676\tbest: 0.7731786 (317)\ttotal: 7.18s\tremaining: 15.3s\n",
            "319:\ttest: 0.7732058\tbest: 0.7732058 (319)\ttotal: 7.21s\tremaining: 15.3s\n",
            "320:\ttest: 0.7732611\tbest: 0.7732611 (320)\ttotal: 7.23s\tremaining: 15.3s\n",
            "321:\ttest: 0.7732786\tbest: 0.7732786 (321)\ttotal: 7.25s\tremaining: 15.3s\n",
            "322:\ttest: 0.7733467\tbest: 0.7733467 (322)\ttotal: 7.27s\tremaining: 15.2s\n",
            "323:\ttest: 0.7733345\tbest: 0.7733467 (322)\ttotal: 7.3s\tremaining: 15.2s\n",
            "324:\ttest: 0.7733497\tbest: 0.7733497 (324)\ttotal: 7.32s\tremaining: 15.2s\n",
            "325:\ttest: 0.7734172\tbest: 0.7734172 (325)\ttotal: 7.34s\tremaining: 15.2s\n",
            "326:\ttest: 0.7735008\tbest: 0.7735008 (326)\ttotal: 7.36s\tremaining: 15.2s\n",
            "327:\ttest: 0.7736467\tbest: 0.7736467 (327)\ttotal: 7.39s\tremaining: 15.1s\n",
            "328:\ttest: 0.7736520\tbest: 0.7736520 (328)\ttotal: 7.41s\tremaining: 15.1s\n",
            "329:\ttest: 0.7736838\tbest: 0.7736838 (329)\ttotal: 7.43s\tremaining: 15.1s\n",
            "330:\ttest: 0.7736865\tbest: 0.7736865 (330)\ttotal: 7.45s\tremaining: 15.1s\n",
            "331:\ttest: 0.7736954\tbest: 0.7736954 (331)\ttotal: 7.47s\tremaining: 15s\n",
            "332:\ttest: 0.7736940\tbest: 0.7736954 (331)\ttotal: 7.5s\tremaining: 15s\n",
            "333:\ttest: 0.7736919\tbest: 0.7736954 (331)\ttotal: 7.52s\tremaining: 15s\n",
            "334:\ttest: 0.7737083\tbest: 0.7737083 (334)\ttotal: 7.54s\tremaining: 15s\n",
            "335:\ttest: 0.7737365\tbest: 0.7737365 (335)\ttotal: 7.57s\tremaining: 15s\n",
            "336:\ttest: 0.7737609\tbest: 0.7737609 (336)\ttotal: 7.59s\tremaining: 14.9s\n",
            "337:\ttest: 0.7738148\tbest: 0.7738148 (337)\ttotal: 7.61s\tremaining: 14.9s\n",
            "338:\ttest: 0.7738352\tbest: 0.7738352 (338)\ttotal: 7.63s\tremaining: 14.9s\n",
            "339:\ttest: 0.7738331\tbest: 0.7738352 (338)\ttotal: 7.66s\tremaining: 14.9s\n",
            "340:\ttest: 0.7738979\tbest: 0.7738979 (340)\ttotal: 7.68s\tremaining: 14.8s\n",
            "341:\ttest: 0.7739861\tbest: 0.7739861 (341)\ttotal: 7.7s\tremaining: 14.8s\n",
            "342:\ttest: 0.7740636\tbest: 0.7740636 (342)\ttotal: 7.72s\tremaining: 14.8s\n",
            "343:\ttest: 0.7740881\tbest: 0.7740881 (343)\ttotal: 7.74s\tremaining: 14.8s\n",
            "344:\ttest: 0.7741498\tbest: 0.7741498 (344)\ttotal: 7.76s\tremaining: 14.7s\n",
            "345:\ttest: 0.7741490\tbest: 0.7741498 (344)\ttotal: 7.78s\tremaining: 14.7s\n",
            "346:\ttest: 0.7741329\tbest: 0.7741498 (344)\ttotal: 7.79s\tremaining: 14.7s\n"
          ]
        },
        {
          "name": "stdout",
          "output_type": "stream",
          "text": [
            "347:\ttest: 0.7741357\tbest: 0.7741498 (344)\ttotal: 7.81s\tremaining: 14.6s\n",
            "348:\ttest: 0.7741677\tbest: 0.7741677 (348)\ttotal: 7.83s\tremaining: 14.6s\n",
            "349:\ttest: 0.7741589\tbest: 0.7741677 (348)\ttotal: 7.86s\tremaining: 14.6s\n",
            "350:\ttest: 0.7742398\tbest: 0.7742398 (350)\ttotal: 7.88s\tremaining: 14.6s\n",
            "351:\ttest: 0.7742413\tbest: 0.7742413 (351)\ttotal: 7.9s\tremaining: 14.5s\n",
            "352:\ttest: 0.7742664\tbest: 0.7742664 (352)\ttotal: 7.92s\tremaining: 14.5s\n",
            "353:\ttest: 0.7743043\tbest: 0.7743043 (353)\ttotal: 7.93s\tremaining: 14.5s\n",
            "354:\ttest: 0.7743651\tbest: 0.7743651 (354)\ttotal: 7.95s\tremaining: 14.5s\n",
            "355:\ttest: 0.7744440\tbest: 0.7744440 (355)\ttotal: 7.97s\tremaining: 14.4s\n",
            "356:\ttest: 0.7744581\tbest: 0.7744581 (356)\ttotal: 7.99s\tremaining: 14.4s\n",
            "357:\ttest: 0.7744979\tbest: 0.7744979 (357)\ttotal: 8.02s\tremaining: 14.4s\n",
            "358:\ttest: 0.7745561\tbest: 0.7745561 (358)\ttotal: 8.04s\tremaining: 14.4s\n",
            "359:\ttest: 0.7745742\tbest: 0.7745742 (359)\ttotal: 8.06s\tremaining: 14.3s\n",
            "360:\ttest: 0.7746048\tbest: 0.7746048 (360)\ttotal: 8.09s\tremaining: 14.3s\n",
            "361:\ttest: 0.7746343\tbest: 0.7746343 (361)\ttotal: 8.12s\tremaining: 14.3s\n",
            "362:\ttest: 0.7746382\tbest: 0.7746382 (362)\ttotal: 8.14s\tremaining: 14.3s\n",
            "363:\ttest: 0.7746228\tbest: 0.7746382 (362)\ttotal: 8.17s\tremaining: 14.3s\n",
            "364:\ttest: 0.7746230\tbest: 0.7746382 (362)\ttotal: 8.19s\tremaining: 14.2s\n",
            "365:\ttest: 0.7746522\tbest: 0.7746522 (365)\ttotal: 8.21s\tremaining: 14.2s\n",
            "366:\ttest: 0.7747575\tbest: 0.7747575 (366)\ttotal: 8.23s\tremaining: 14.2s\n",
            "367:\ttest: 0.7747650\tbest: 0.7747650 (367)\ttotal: 8.25s\tremaining: 14.2s\n",
            "368:\ttest: 0.7747514\tbest: 0.7747650 (367)\ttotal: 8.27s\tremaining: 14.1s\n",
            "369:\ttest: 0.7747607\tbest: 0.7747650 (367)\ttotal: 8.29s\tremaining: 14.1s\n",
            "370:\ttest: 0.7747889\tbest: 0.7747889 (370)\ttotal: 8.31s\tremaining: 14.1s\n",
            "371:\ttest: 0.7747914\tbest: 0.7747914 (371)\ttotal: 8.33s\tremaining: 14.1s\n",
            "372:\ttest: 0.7747702\tbest: 0.7747914 (371)\ttotal: 8.35s\tremaining: 14s\n",
            "373:\ttest: 0.7748317\tbest: 0.7748317 (373)\ttotal: 8.37s\tremaining: 14s\n",
            "374:\ttest: 0.7748300\tbest: 0.7748317 (373)\ttotal: 8.39s\tremaining: 14s\n",
            "375:\ttest: 0.7748159\tbest: 0.7748317 (373)\ttotal: 8.41s\tremaining: 14s\n",
            "376:\ttest: 0.7748343\tbest: 0.7748343 (376)\ttotal: 8.43s\tremaining: 13.9s\n",
            "377:\ttest: 0.7749200\tbest: 0.7749200 (377)\ttotal: 8.46s\tremaining: 13.9s\n",
            "378:\ttest: 0.7749044\tbest: 0.7749200 (377)\ttotal: 8.48s\tremaining: 13.9s\n",
            "379:\ttest: 0.7749035\tbest: 0.7749200 (377)\ttotal: 8.5s\tremaining: 13.9s\n",
            "380:\ttest: 0.7749835\tbest: 0.7749835 (380)\ttotal: 8.52s\tremaining: 13.8s\n",
            "381:\ttest: 0.7749507\tbest: 0.7749835 (380)\ttotal: 8.54s\tremaining: 13.8s\n",
            "382:\ttest: 0.7750600\tbest: 0.7750600 (382)\ttotal: 8.56s\tremaining: 13.8s\n",
            "383:\ttest: 0.7750457\tbest: 0.7750600 (382)\ttotal: 8.58s\tremaining: 13.8s\n",
            "384:\ttest: 0.7750553\tbest: 0.7750600 (382)\ttotal: 8.6s\tremaining: 13.7s\n",
            "385:\ttest: 0.7750697\tbest: 0.7750697 (385)\ttotal: 8.62s\tremaining: 13.7s\n",
            "386:\ttest: 0.7750736\tbest: 0.7750736 (386)\ttotal: 8.64s\tremaining: 13.7s\n",
            "387:\ttest: 0.7751097\tbest: 0.7751097 (387)\ttotal: 8.66s\tremaining: 13.7s\n",
            "388:\ttest: 0.7751400\tbest: 0.7751400 (388)\ttotal: 8.68s\tremaining: 13.6s\n",
            "389:\ttest: 0.7751576\tbest: 0.7751576 (389)\ttotal: 8.7s\tremaining: 13.6s\n",
            "390:\ttest: 0.7751571\tbest: 0.7751576 (389)\ttotal: 8.71s\tremaining: 13.6s\n",
            "391:\ttest: 0.7752141\tbest: 0.7752141 (391)\ttotal: 8.73s\tremaining: 13.5s\n",
            "392:\ttest: 0.7753358\tbest: 0.7753358 (392)\ttotal: 8.75s\tremaining: 13.5s\n",
            "393:\ttest: 0.7753815\tbest: 0.7753815 (393)\ttotal: 8.77s\tremaining: 13.5s\n",
            "394:\ttest: 0.7753800\tbest: 0.7753815 (393)\ttotal: 8.79s\tremaining: 13.5s\n",
            "395:\ttest: 0.7754279\tbest: 0.7754279 (395)\ttotal: 8.81s\tremaining: 13.4s\n",
            "396:\ttest: 0.7753971\tbest: 0.7754279 (395)\ttotal: 8.83s\tremaining: 13.4s\n",
            "397:\ttest: 0.7754040\tbest: 0.7754279 (395)\ttotal: 8.85s\tremaining: 13.4s\n",
            "398:\ttest: 0.7754403\tbest: 0.7754403 (398)\ttotal: 8.87s\tremaining: 13.4s\n",
            "399:\ttest: 0.7754358\tbest: 0.7754403 (398)\ttotal: 8.89s\tremaining: 13.3s\n",
            "400:\ttest: 0.7754363\tbest: 0.7754403 (398)\ttotal: 8.91s\tremaining: 13.3s\n",
            "401:\ttest: 0.7754468\tbest: 0.7754468 (401)\ttotal: 8.93s\tremaining: 13.3s\n",
            "402:\ttest: 0.7754457\tbest: 0.7754468 (401)\ttotal: 8.95s\tremaining: 13.3s\n",
            "403:\ttest: 0.7755006\tbest: 0.7755006 (403)\ttotal: 8.97s\tremaining: 13.2s\n",
            "404:\ttest: 0.7755062\tbest: 0.7755062 (404)\ttotal: 8.99s\tremaining: 13.2s\n",
            "405:\ttest: 0.7755585\tbest: 0.7755585 (405)\ttotal: 9.01s\tremaining: 13.2s\n",
            "406:\ttest: 0.7755695\tbest: 0.7755695 (406)\ttotal: 9.03s\tremaining: 13.2s\n",
            "407:\ttest: 0.7755739\tbest: 0.7755739 (407)\ttotal: 9.05s\tremaining: 13.1s\n",
            "408:\ttest: 0.7755875\tbest: 0.7755875 (408)\ttotal: 9.07s\tremaining: 13.1s\n",
            "409:\ttest: 0.7755823\tbest: 0.7755875 (408)\ttotal: 9.09s\tremaining: 13.1s\n",
            "410:\ttest: 0.7756429\tbest: 0.7756429 (410)\ttotal: 9.11s\tremaining: 13.1s\n",
            "411:\ttest: 0.7756797\tbest: 0.7756797 (411)\ttotal: 9.13s\tremaining: 13s\n",
            "412:\ttest: 0.7756827\tbest: 0.7756827 (412)\ttotal: 9.15s\tremaining: 13s\n",
            "413:\ttest: 0.7757073\tbest: 0.7757073 (413)\ttotal: 9.16s\tremaining: 13s\n",
            "414:\ttest: 0.7757582\tbest: 0.7757582 (414)\ttotal: 9.19s\tremaining: 12.9s\n",
            "415:\ttest: 0.7757925\tbest: 0.7757925 (415)\ttotal: 9.21s\tremaining: 12.9s\n",
            "416:\ttest: 0.7757785\tbest: 0.7757925 (415)\ttotal: 9.23s\tremaining: 12.9s\n",
            "417:\ttest: 0.7757884\tbest: 0.7757925 (415)\ttotal: 9.25s\tremaining: 12.9s\n",
            "418:\ttest: 0.7757872\tbest: 0.7757925 (415)\ttotal: 9.27s\tremaining: 12.8s\n",
            "419:\ttest: 0.7757892\tbest: 0.7757925 (415)\ttotal: 9.29s\tremaining: 12.8s\n",
            "420:\ttest: 0.7758431\tbest: 0.7758431 (420)\ttotal: 9.3s\tremaining: 12.8s\n",
            "421:\ttest: 0.7759756\tbest: 0.7759756 (421)\ttotal: 9.33s\tremaining: 12.8s\n",
            "422:\ttest: 0.7760104\tbest: 0.7760104 (422)\ttotal: 9.35s\tremaining: 12.8s\n",
            "423:\ttest: 0.7760230\tbest: 0.7760230 (423)\ttotal: 9.37s\tremaining: 12.7s\n",
            "424:\ttest: 0.7760920\tbest: 0.7760920 (424)\ttotal: 9.39s\tremaining: 12.7s\n",
            "425:\ttest: 0.7761114\tbest: 0.7761114 (425)\ttotal: 9.41s\tremaining: 12.7s\n",
            "426:\ttest: 0.7761315\tbest: 0.7761315 (426)\ttotal: 9.43s\tremaining: 12.7s\n",
            "427:\ttest: 0.7761815\tbest: 0.7761815 (427)\ttotal: 9.45s\tremaining: 12.6s\n",
            "428:\ttest: 0.7761828\tbest: 0.7761828 (428)\ttotal: 9.47s\tremaining: 12.6s\n",
            "429:\ttest: 0.7762029\tbest: 0.7762029 (429)\ttotal: 9.49s\tremaining: 12.6s\n",
            "430:\ttest: 0.7762847\tbest: 0.7762847 (430)\ttotal: 9.51s\tremaining: 12.6s\n",
            "431:\ttest: 0.7762929\tbest: 0.7762929 (431)\ttotal: 9.53s\tremaining: 12.5s\n",
            "432:\ttest: 0.7762971\tbest: 0.7762971 (432)\ttotal: 9.54s\tremaining: 12.5s\n",
            "433:\ttest: 0.7763333\tbest: 0.7763333 (433)\ttotal: 9.57s\tremaining: 12.5s\n",
            "434:\ttest: 0.7763594\tbest: 0.7763594 (434)\ttotal: 9.59s\tremaining: 12.5s\n",
            "435:\ttest: 0.7763584\tbest: 0.7763594 (434)\ttotal: 9.61s\tremaining: 12.4s\n",
            "436:\ttest: 0.7764013\tbest: 0.7764013 (436)\ttotal: 9.63s\tremaining: 12.4s\n",
            "437:\ttest: 0.7764414\tbest: 0.7764414 (437)\ttotal: 9.65s\tremaining: 12.4s\n",
            "438:\ttest: 0.7764635\tbest: 0.7764635 (438)\ttotal: 9.68s\tremaining: 12.4s\n",
            "439:\ttest: 0.7764812\tbest: 0.7764812 (439)\ttotal: 9.7s\tremaining: 12.3s\n",
            "440:\ttest: 0.7765152\tbest: 0.7765152 (440)\ttotal: 9.72s\tremaining: 12.3s\n",
            "441:\ttest: 0.7764824\tbest: 0.7765152 (440)\ttotal: 9.74s\tremaining: 12.3s\n",
            "442:\ttest: 0.7764814\tbest: 0.7765152 (440)\ttotal: 9.76s\tremaining: 12.3s\n",
            "443:\ttest: 0.7765001\tbest: 0.7765152 (440)\ttotal: 9.78s\tremaining: 12.2s\n",
            "444:\ttest: 0.7765303\tbest: 0.7765303 (444)\ttotal: 9.8s\tremaining: 12.2s\n",
            "445:\ttest: 0.7764946\tbest: 0.7765303 (444)\ttotal: 9.82s\tremaining: 12.2s\n",
            "446:\ttest: 0.7765011\tbest: 0.7765303 (444)\ttotal: 9.84s\tremaining: 12.2s\n",
            "447:\ttest: 0.7765226\tbest: 0.7765303 (444)\ttotal: 9.86s\tremaining: 12.2s\n",
            "448:\ttest: 0.7765116\tbest: 0.7765303 (444)\ttotal: 9.89s\tremaining: 12.1s\n",
            "449:\ttest: 0.7765343\tbest: 0.7765343 (449)\ttotal: 9.91s\tremaining: 12.1s\n",
            "450:\ttest: 0.7765306\tbest: 0.7765343 (449)\ttotal: 9.93s\tremaining: 12.1s\n",
            "451:\ttest: 0.7765901\tbest: 0.7765901 (451)\ttotal: 9.95s\tremaining: 12.1s\n",
            "452:\ttest: 0.7766026\tbest: 0.7766026 (452)\ttotal: 9.97s\tremaining: 12s\n",
            "453:\ttest: 0.7766059\tbest: 0.7766059 (453)\ttotal: 9.99s\tremaining: 12s\n",
            "454:\ttest: 0.7766470\tbest: 0.7766470 (454)\ttotal: 10s\tremaining: 12s\n",
            "455:\ttest: 0.7766440\tbest: 0.7766470 (454)\ttotal: 10s\tremaining: 12s\n",
            "456:\ttest: 0.7766904\tbest: 0.7766904 (456)\ttotal: 10.1s\tremaining: 11.9s\n",
            "457:\ttest: 0.7767238\tbest: 0.7767238 (457)\ttotal: 10.1s\tremaining: 11.9s\n",
            "458:\ttest: 0.7767580\tbest: 0.7767580 (458)\ttotal: 10.1s\tremaining: 11.9s\n",
            "459:\ttest: 0.7767754\tbest: 0.7767754 (459)\ttotal: 10.1s\tremaining: 11.9s\n",
            "460:\ttest: 0.7767713\tbest: 0.7767754 (459)\ttotal: 10.1s\tremaining: 11.8s\n",
            "461:\ttest: 0.7768171\tbest: 0.7768171 (461)\ttotal: 10.2s\tremaining: 11.8s\n",
            "462:\ttest: 0.7768374\tbest: 0.7768374 (462)\ttotal: 10.2s\tremaining: 11.8s\n",
            "463:\ttest: 0.7768305\tbest: 0.7768374 (462)\ttotal: 10.2s\tremaining: 11.8s\n",
            "464:\ttest: 0.7768294\tbest: 0.7768374 (462)\ttotal: 10.2s\tremaining: 11.8s\n",
            "465:\ttest: 0.7768374\tbest: 0.7768374 (462)\ttotal: 10.2s\tremaining: 11.7s\n",
            "466:\ttest: 0.7768036\tbest: 0.7768374 (462)\ttotal: 10.3s\tremaining: 11.7s\n",
            "467:\ttest: 0.7768407\tbest: 0.7768407 (467)\ttotal: 10.3s\tremaining: 11.7s\n"
          ]
        },
        {
          "name": "stdout",
          "output_type": "stream",
          "text": [
            "468:\ttest: 0.7768392\tbest: 0.7768407 (467)\ttotal: 10.3s\tremaining: 11.7s\n",
            "469:\ttest: 0.7769037\tbest: 0.7769037 (469)\ttotal: 10.3s\tremaining: 11.6s\n",
            "470:\ttest: 0.7768962\tbest: 0.7769037 (469)\ttotal: 10.3s\tremaining: 11.6s\n",
            "471:\ttest: 0.7769488\tbest: 0.7769488 (471)\ttotal: 10.4s\tremaining: 11.6s\n",
            "472:\ttest: 0.7769909\tbest: 0.7769909 (472)\ttotal: 10.4s\tremaining: 11.6s\n",
            "473:\ttest: 0.7769966\tbest: 0.7769966 (473)\ttotal: 10.4s\tremaining: 11.6s\n",
            "474:\ttest: 0.7770761\tbest: 0.7770761 (474)\ttotal: 10.4s\tremaining: 11.5s\n",
            "475:\ttest: 0.7771034\tbest: 0.7771034 (475)\ttotal: 10.5s\tremaining: 11.5s\n",
            "476:\ttest: 0.7771101\tbest: 0.7771101 (476)\ttotal: 10.5s\tremaining: 11.5s\n",
            "477:\ttest: 0.7771104\tbest: 0.7771104 (477)\ttotal: 10.5s\tremaining: 11.5s\n",
            "478:\ttest: 0.7771195\tbest: 0.7771195 (478)\ttotal: 10.5s\tremaining: 11.4s\n",
            "479:\ttest: 0.7771173\tbest: 0.7771195 (478)\ttotal: 10.5s\tremaining: 11.4s\n",
            "480:\ttest: 0.7770437\tbest: 0.7771195 (478)\ttotal: 10.6s\tremaining: 11.4s\n",
            "481:\ttest: 0.7770875\tbest: 0.7771195 (478)\ttotal: 10.6s\tremaining: 11.4s\n",
            "482:\ttest: 0.7771026\tbest: 0.7771195 (478)\ttotal: 10.6s\tremaining: 11.3s\n",
            "483:\ttest: 0.7770938\tbest: 0.7771195 (478)\ttotal: 10.6s\tremaining: 11.3s\n",
            "Stopped by overfitting detector  (5 iterations wait)\n",
            "\n",
            "bestTest = 0.7771194715\n",
            "bestIteration = 478\n",
            "\n",
            "Shrink model to first 479 iterations.\n"
          ]
        },
        {
          "data": {
            "text/plain": [
              "<catboost.core.CatBoostClassifier at 0x7fcdd50b2f10>"
            ]
          },
          "execution_count": 115,
          "metadata": {},
          "output_type": "execute_result"
        }
      ],
      "source": [
        "clf = CatBoostClassifier(iterations=1000,\n",
        "                         learning_rate=0.05,  \n",
        "                         eval_metric='AUC',\n",
        "                         custom_loss=['AUC', 'Accuracy', 'Precision', 'Recall'],\n",
        "                         cat_features=cat_columns,\n",
        "                         early_stopping_rounds=5)\n",
        "clf.fit(\n",
        "    X_train, y_train,\n",
        "    cat_features=cat_columns,\n",
        "    eval_set=(X_test, y_test)\n",
        ")"
      ]
    },
    {
      "cell_type": "markdown",
      "id": "b9175cb4",
      "metadata": {
        "id": "b9175cb4"
      },
      "source": [
        "### Вывести итерацию с наилучшим значением AUC"
      ]
    },
    {
      "cell_type": "code",
      "execution_count": null,
      "id": "d79dcaf1",
      "metadata": {
        "id": "d79dcaf1",
        "outputId": "14bea39c-a162-45b2-e882-f09da7c93c69"
      },
      "outputs": [
        {
          "data": {
            "text/plain": [
              "479"
            ]
          },
          "execution_count": 116,
          "metadata": {},
          "output_type": "execute_result"
        }
      ],
      "source": [
        "clf.tree_count_"
      ]
    },
    {
      "cell_type": "markdown",
      "id": "89c84a2a",
      "metadata": {
        "id": "89c84a2a"
      },
      "source": [
        "### Вывести значения метрик качества классификации на тестовых данных (accuracy и precision / recall / AUC, если применимо)"
      ]
    },
    {
      "cell_type": "code",
      "execution_count": null,
      "id": "8004254c",
      "metadata": {
        "id": "8004254c",
        "outputId": "71bf6d54-dacd-4e82-ad9a-1e1f11497c49"
      },
      "outputs": [
        {
          "data": {
            "text/plain": [
              "{'Recall': 0.27392900856793145,\n",
              " 'Accuracy': 0.7651715039577837,\n",
              " 'Logloss': 0.46766296681837377,\n",
              " 'Precision': 1.0,\n",
              " 'AUC': 0.7771194715473393}"
            ]
          },
          "execution_count": 117,
          "metadata": {},
          "output_type": "execute_result"
        }
      ],
      "source": [
        "clf.best_score_['validation']"
      ]
    },
    {
      "cell_type": "markdown",
      "id": "83f6d9e8",
      "metadata": {
        "id": "83f6d9e8"
      },
      "source": [
        "# 3. Для бинарного классификатора на основе CatBoostClassifier построить кривые PRC и ROC. Вычислить значения PRC-AUC и ROC-AUC."
      ]
    },
    {
      "cell_type": "code",
      "execution_count": null,
      "id": "75f9b3fb",
      "metadata": {
        "id": "75f9b3fb",
        "outputId": "f67c72eb-d7d6-418c-bb30-4a3522a7c597"
      },
      "outputs": [
        {
          "data": {
            "image/png": "[encoded data removed]",
            "text/plain": [
              "<Figure size 1152x576 with 1 Axes>"
            ]
          },
          "metadata": {
            "needs_background": "light"
          },
          "output_type": "display_data"
        },
        {
          "name": "stdout",
          "output_type": "stream",
          "text": [
            "ROC_AUC: 0.7771194715473394\n"
          ]
        }
      ],
      "source": [
        "eval_pool = Pool(X_test, y_test, cat_features=cat_columns)\n",
        "fpr, tpr, thresholds = get_roc_curve(clf, eval_pool)\n",
        "roc_auc = auc(fpr, tpr)\n",
        "plt.figure(figsize=(16, 8))\n",
        "lw = 2\n",
        "\n",
        "plt.plot(fpr, tpr, color='darkorange', lw=lw, label='ROC curve (area = %0.2f)' % roc_auc, alpha=0.5)\n",
        "\n",
        "plt.plot([0, 1], [0, 1], color='navy', lw=lw, linestyle='--', alpha=0.5)\n",
        "\n",
        "plt.xlim([0.0, 1.0])\n",
        "plt.ylim([0.0, 1.05])\n",
        "plt.xticks(fontsize=16)\n",
        "plt.yticks(fontsize=16)\n",
        "plt.grid(True)\n",
        "plt.xlabel('False Positive Rate', fontsize=16)\n",
        "plt.ylabel('True Positive Rate', fontsize=16)\n",
        "plt.title('Receiver operating characteristic', fontsize=20)\n",
        "plt.legend(loc=\"lower right\", fontsize=16)\n",
        "plt.show()\n",
        "print(\"ROC_AUC:\", roc_auc)"
      ]
    },
    {
      "cell_type": "code",
      "execution_count": null,
      "id": "ca8ac399",
      "metadata": {
        "id": "ca8ac399",
        "outputId": "cc82d975-7b9a-43fb-b11b-67611a1fceda"
      },
      "outputs": [
        {
          "data": {
            "text/plain": [
              "Text(0.5, 1.0, 'PRC curve')"
            ]
          },
          "execution_count": 119,
          "metadata": {},
          "output_type": "execute_result"
        },
        {
          "data": {
            "image/png": "[encoded data removed]",
            "text/plain": [
              "<Figure size 432x288 with 1 Axes>"
            ]
          },
          "metadata": {
            "needs_background": "light"
          },
          "output_type": "display_data"
        }
      ],
      "source": [
        "disp = plot_precision_recall_curve(clf, X_test, y_test)\n",
        "disp.ax_.set_title('PRC curve')"
      ]
    },
    {
      "cell_type": "code",
      "execution_count": null,
      "id": "29d70fe4",
      "metadata": {
        "id": "29d70fe4",
        "outputId": "a0055bb6-fe5a-4df5-d210-e0669b57192f"
      },
      "outputs": [
        {
          "name": "stdout",
          "output_type": "stream",
          "text": [
            "PRC_AUC: 0.5035333096736386\n"
          ]
        }
      ],
      "source": [
        "precision, recall, thresholds = precision_recall_curve(y_test, clf.predict_proba(X_test)[:, 1])\n",
        "\n",
        "PRC_AUC = auc(recall, precision)\n",
        "print(\"PRC_AUC:\", PRC_AUC)"
      ]
    },
    {
      "cell_type": "markdown",
      "id": "7391c9d1",
      "metadata": {
        "id": "7391c9d1"
      },
      "source": [
        "# 2. CatBoostRegressor\n",
        "*Применить регрессию CatBoostRegressor к набору данных для регрессии. Вывести номер итерации и значения метрик (MAE и MSE) для наилучшей итерации. Обратите внимание, что в задаче восстановления регрессии целевая переменная имеет непрерывные значения.*"
      ]
    },
    {
      "cell_type": "code",
      "execution_count": null,
      "id": "80f9278e",
      "metadata": {
        "id": "80f9278e",
        "outputId": "79076753-6c0d-49af-e4eb-f72e7330e8a8"
      },
      "outputs": [
        {
          "data": {
            "text/html": [
              "<div>\n",
              "<style scoped>\n",
              "    .dataframe tbody tr th:only-of-type {\n",
              "        vertical-align: middle;\n",
              "    }\n",
              "\n",
              "    .dataframe tbody tr th {\n",
              "        vertical-align: top;\n",
              "    }\n",
              "\n",
              "    .dataframe thead th {\n",
              "        text-align: right;\n",
              "    }\n",
              "</style>\n",
              "<table border=\"1\" class=\"dataframe\">\n",
              "  <thead>\n",
              "    <tr style=\"text-align: right;\">\n",
              "      <th></th>\n",
              "      <th>species</th>\n",
              "      <th>island</th>\n",
              "      <th>bill_length_mm</th>\n",
              "      <th>bill_depth_mm</th>\n",
              "      <th>flipper_length_mm</th>\n",
              "      <th>body_mass_g</th>\n",
              "      <th>sex</th>\n",
              "    </tr>\n",
              "  </thead>\n",
              "  <tbody>\n",
              "    <tr>\n",
              "      <th>0</th>\n",
              "      <td>Adelie</td>\n",
              "      <td>Torgersen</td>\n",
              "      <td>39.1</td>\n",
              "      <td>18.7</td>\n",
              "      <td>181.0</td>\n",
              "      <td>3750.0</td>\n",
              "      <td>Male</td>\n",
              "    </tr>\n",
              "    <tr>\n",
              "      <th>1</th>\n",
              "      <td>Adelie</td>\n",
              "      <td>Torgersen</td>\n",
              "      <td>39.5</td>\n",
              "      <td>17.4</td>\n",
              "      <td>186.0</td>\n",
              "      <td>3800.0</td>\n",
              "      <td>Female</td>\n",
              "    </tr>\n",
              "    <tr>\n",
              "      <th>2</th>\n",
              "      <td>Adelie</td>\n",
              "      <td>Torgersen</td>\n",
              "      <td>40.3</td>\n",
              "      <td>18.0</td>\n",
              "      <td>195.0</td>\n",
              "      <td>3250.0</td>\n",
              "      <td>Female</td>\n",
              "    </tr>\n",
              "    <tr>\n",
              "      <th>4</th>\n",
              "      <td>Adelie</td>\n",
              "      <td>Torgersen</td>\n",
              "      <td>36.7</td>\n",
              "      <td>19.3</td>\n",
              "      <td>193.0</td>\n",
              "      <td>3450.0</td>\n",
              "      <td>Female</td>\n",
              "    </tr>\n",
              "    <tr>\n",
              "      <th>5</th>\n",
              "      <td>Adelie</td>\n",
              "      <td>Torgersen</td>\n",
              "      <td>39.3</td>\n",
              "      <td>20.6</td>\n",
              "      <td>190.0</td>\n",
              "      <td>3650.0</td>\n",
              "      <td>Male</td>\n",
              "    </tr>\n",
              "  </tbody>\n",
              "</table>\n",
              "</div>"
            ],
            "text/plain": [
              "  species     island  bill_length_mm  bill_depth_mm  flipper_length_mm  \\\n",
              "0  Adelie  Torgersen            39.1           18.7              181.0   \n",
              "1  Adelie  Torgersen            39.5           17.4              186.0   \n",
              "2  Adelie  Torgersen            40.3           18.0              195.0   \n",
              "4  Adelie  Torgersen            36.7           19.3              193.0   \n",
              "5  Adelie  Torgersen            39.3           20.6              190.0   \n",
              "\n",
              "   body_mass_g     sex  \n",
              "0       3750.0    Male  \n",
              "1       3800.0  Female  \n",
              "2       3250.0  Female  \n",
              "4       3450.0  Female  \n",
              "5       3650.0    Male  "
            ]
          },
          "execution_count": 101,
          "metadata": {},
          "output_type": "execute_result"
        }
      ],
      "source": [
        "penguins = sns.load_dataset('penguins')\n",
        "penguins = penguins.dropna()\n",
        "penguins.head()"
      ]
    },
    {
      "cell_type": "code",
      "execution_count": null,
      "id": "91376242",
      "metadata": {
        "id": "91376242"
      },
      "outputs": [],
      "source": [
        "cat_columns = ['species', 'island', 'sex']\n",
        "for column in cat_columns:\n",
        "    code, unique = pd.factorize(penguins[column])\n",
        "    penguins[column] = pd.Series(code)\n",
        "    \n",
        "penguins = penguins.dropna()\n",
        "penguins = penguins.astype('int64')"
      ]
    },
    {
      "cell_type": "code",
      "execution_count": null,
      "id": "2afc5d7c",
      "metadata": {
        "id": "2afc5d7c"
      },
      "outputs": [],
      "source": [
        "y = penguins['body_mass_g']\n",
        "X = penguins.drop('body_mass_g', axis=1)"
      ]
    },
    {
      "cell_type": "code",
      "execution_count": null,
      "id": "4efbb003",
      "metadata": {
        "id": "4efbb003"
      },
      "outputs": [],
      "source": [
        "X_train, X_test, y_train, y_test = train_test_split(X, y, random_state=42)"
      ]
    },
    {
      "cell_type": "code",
      "execution_count": null,
      "id": "32f14e5e",
      "metadata": {
        "id": "32f14e5e",
        "outputId": "60e3d097-ceb9-490f-c67a-9f1c210007cd"
      },
      "outputs": [
        {
          "name": "stdout",
          "output_type": "stream",
          "text": [
            "0:\tlearn: 665.9559840\ttest: 567.8071243\tbest: 567.8071243 (0)\ttotal: 1.05ms\tremaining: 104ms\n",
            "1:\tlearn: 641.6117076\ttest: 547.6891025\tbest: 547.6891025 (1)\ttotal: 2.14ms\tremaining: 105ms\n",
            "2:\tlearn: 619.3335514\ttest: 528.3668253\tbest: 528.3668253 (2)\ttotal: 3.43ms\tremaining: 111ms\n",
            "3:\tlearn: 597.1459583\ttest: 507.2547094\tbest: 507.2547094 (3)\ttotal: 4.21ms\tremaining: 101ms\n",
            "4:\tlearn: 576.9965204\ttest: 489.5082491\tbest: 489.5082491 (4)\ttotal: 5.08ms\tremaining: 96.5ms\n",
            "5:\tlearn: 557.7241261\ttest: 473.6246984\tbest: 473.6246984 (5)\ttotal: 6.06ms\tremaining: 94.9ms\n",
            "6:\tlearn: 538.6168657\ttest: 455.8999572\tbest: 455.8999572 (6)\ttotal: 6.88ms\tremaining: 91.4ms\n",
            "7:\tlearn: 521.1747690\ttest: 439.2740430\tbest: 439.2740430 (7)\ttotal: 7.76ms\tremaining: 89.2ms\n",
            "8:\tlearn: 504.0045428\ttest: 425.9342242\tbest: 425.9342242 (8)\ttotal: 8.63ms\tremaining: 87.3ms\n",
            "9:\tlearn: 489.2510653\ttest: 412.7719829\tbest: 412.7719829 (9)\ttotal: 9.39ms\tremaining: 84.5ms\n",
            "10:\tlearn: 475.3739997\ttest: 399.8795194\tbest: 399.8795194 (10)\ttotal: 10.3ms\tremaining: 83.1ms\n",
            "11:\tlearn: 462.7065989\ttest: 389.1100672\tbest: 389.1100672 (11)\ttotal: 11.4ms\tremaining: 83.7ms\n",
            "12:\tlearn: 449.8616018\ttest: 377.8100479\tbest: 377.8100479 (12)\ttotal: 12.1ms\tremaining: 80.8ms\n",
            "13:\tlearn: 436.8208740\ttest: 366.8022254\tbest: 366.8022254 (13)\ttotal: 13ms\tremaining: 79.8ms\n",
            "14:\tlearn: 424.4522224\ttest: 356.1773310\tbest: 356.1773310 (14)\ttotal: 13.7ms\tremaining: 77.7ms\n",
            "15:\tlearn: 412.8679316\ttest: 347.3843376\tbest: 347.3843376 (15)\ttotal: 14.6ms\tremaining: 76.7ms\n",
            "16:\tlearn: 402.9480474\ttest: 340.2362540\tbest: 340.2362540 (16)\ttotal: 15.5ms\tremaining: 75.7ms\n",
            "17:\tlearn: 392.9117386\ttest: 331.2227670\tbest: 331.2227670 (17)\ttotal: 16.2ms\tremaining: 73.8ms\n",
            "18:\tlearn: 383.6970547\ttest: 323.4836178\tbest: 323.4836178 (18)\ttotal: 17ms\tremaining: 72.6ms\n",
            "19:\tlearn: 374.9434810\ttest: 315.9342923\tbest: 315.9342923 (19)\ttotal: 17.8ms\tremaining: 71.2ms\n",
            "20:\tlearn: 367.5808735\ttest: 309.9611136\tbest: 309.9611136 (20)\ttotal: 18.7ms\tremaining: 70.5ms\n",
            "21:\tlearn: 359.7457890\ttest: 303.1248421\tbest: 303.1248421 (21)\ttotal: 19.8ms\tremaining: 70.2ms\n",
            "22:\tlearn: 352.7908739\ttest: 297.5471540\tbest: 297.5471540 (22)\ttotal: 20.8ms\tremaining: 69.8ms\n",
            "23:\tlearn: 347.4732880\ttest: 293.5908680\tbest: 293.5908680 (23)\ttotal: 21.7ms\tremaining: 68.8ms\n",
            "24:\tlearn: 341.4973375\ttest: 288.9245564\tbest: 288.9245564 (24)\ttotal: 22.8ms\tremaining: 68.4ms\n",
            "25:\tlearn: 336.2008117\ttest: 284.5529520\tbest: 284.5529520 (25)\ttotal: 23.9ms\tremaining: 68ms\n",
            "26:\tlearn: 330.7814938\ttest: 280.3892088\tbest: 280.3892088 (26)\ttotal: 24.7ms\tremaining: 66.9ms\n",
            "27:\tlearn: 326.3288124\ttest: 276.3205852\tbest: 276.3205852 (27)\ttotal: 25.5ms\tremaining: 65.6ms\n",
            "28:\tlearn: 321.0022376\ttest: 271.1734682\tbest: 271.1734682 (28)\ttotal: 26.3ms\tremaining: 64.4ms\n",
            "29:\tlearn: 315.6604245\ttest: 266.6993557\tbest: 266.6993557 (29)\ttotal: 27.1ms\tremaining: 63.3ms\n",
            "30:\tlearn: 310.9994274\ttest: 264.6332155\tbest: 264.6332155 (30)\ttotal: 27.8ms\tremaining: 61.8ms\n",
            "31:\tlearn: 307.0949779\ttest: 262.1812631\tbest: 262.1812631 (31)\ttotal: 28.5ms\tremaining: 60.6ms\n",
            "32:\tlearn: 303.9161769\ttest: 260.3200823\tbest: 260.3200823 (32)\ttotal: 29.3ms\tremaining: 59.4ms\n",
            "33:\tlearn: 299.9744351\ttest: 258.6056050\tbest: 258.6056050 (33)\ttotal: 30.1ms\tremaining: 58.5ms\n",
            "34:\tlearn: 296.2864630\ttest: 257.4459849\tbest: 257.4459849 (34)\ttotal: 30.9ms\tremaining: 57.3ms\n",
            "35:\tlearn: 293.1176780\ttest: 255.5938911\tbest: 255.5938911 (35)\ttotal: 31.7ms\tremaining: 56.3ms\n",
            "36:\tlearn: 291.4777492\ttest: 254.5917221\tbest: 254.5917221 (36)\ttotal: 32.1ms\tremaining: 54.6ms\n",
            "37:\tlearn: 289.0273096\ttest: 253.5006657\tbest: 253.5006657 (37)\ttotal: 32.7ms\tremaining: 53.4ms\n",
            "38:\tlearn: 286.5160907\ttest: 253.3306501\tbest: 253.3306501 (38)\ttotal: 33.5ms\tremaining: 52.4ms\n",
            "39:\tlearn: 284.3412873\ttest: 251.4555370\tbest: 251.4555370 (39)\ttotal: 34.2ms\tremaining: 51.3ms\n",
            "40:\tlearn: 282.2971354\ttest: 249.9853776\tbest: 249.9853776 (40)\ttotal: 35ms\tremaining: 50.3ms\n",
            "41:\tlearn: 280.3849369\ttest: 249.0102908\tbest: 249.0102908 (41)\ttotal: 35.7ms\tremaining: 49.3ms\n",
            "42:\tlearn: 277.8676072\ttest: 247.8092937\tbest: 247.8092937 (42)\ttotal: 36.5ms\tremaining: 48.4ms\n",
            "43:\tlearn: 276.0149482\ttest: 247.0613277\tbest: 247.0613277 (43)\ttotal: 37.2ms\tremaining: 47.3ms\n",
            "44:\tlearn: 273.8813271\ttest: 246.6855962\tbest: 246.6855962 (44)\ttotal: 37.6ms\tremaining: 46ms\n",
            "45:\tlearn: 271.9377527\ttest: 246.7927310\tbest: 246.6855962 (44)\ttotal: 38.4ms\tremaining: 45.1ms\n",
            "46:\tlearn: 270.2595143\ttest: 246.3097823\tbest: 246.3097823 (46)\ttotal: 39.1ms\tremaining: 44.1ms\n",
            "47:\tlearn: 268.6146850\ttest: 245.5060992\tbest: 245.5060992 (47)\ttotal: 39.8ms\tremaining: 43.1ms\n",
            "48:\tlearn: 267.1734888\ttest: 245.2633993\tbest: 245.2633993 (48)\ttotal: 40.5ms\tremaining: 42.1ms\n",
            "49:\tlearn: 265.5420633\ttest: 244.8987346\tbest: 244.8987346 (49)\ttotal: 41.3ms\tremaining: 41.3ms\n",
            "50:\tlearn: 264.5279567\ttest: 244.8229104\tbest: 244.8229104 (50)\ttotal: 41.7ms\tremaining: 40.1ms\n",
            "51:\tlearn: 263.2343973\ttest: 244.2088195\tbest: 244.2088195 (51)\ttotal: 42.5ms\tremaining: 39.3ms\n",
            "52:\tlearn: 261.6539629\ttest: 243.3560067\tbest: 243.3560067 (52)\ttotal: 43.4ms\tremaining: 38.5ms\n",
            "53:\tlearn: 260.1664392\ttest: 243.4416534\tbest: 243.3560067 (52)\ttotal: 44.1ms\tremaining: 37.6ms\n",
            "54:\tlearn: 258.6287227\ttest: 242.7511132\tbest: 242.7511132 (54)\ttotal: 44.9ms\tremaining: 36.7ms\n",
            "55:\tlearn: 257.0628283\ttest: 242.7718222\tbest: 242.7511132 (54)\ttotal: 45.6ms\tremaining: 35.8ms\n",
            "56:\tlearn: 255.9681142\ttest: 242.6795768\tbest: 242.6795768 (56)\ttotal: 46.2ms\tremaining: 34.9ms\n",
            "57:\tlearn: 254.6236132\ttest: 241.7358062\tbest: 241.7358062 (57)\ttotal: 46.9ms\tremaining: 34ms\n",
            "58:\tlearn: 253.8098336\ttest: 241.3207358\tbest: 241.3207358 (58)\ttotal: 47.3ms\tremaining: 32.9ms\n",
            "59:\tlearn: 252.7700208\ttest: 240.7204260\tbest: 240.7204260 (59)\ttotal: 47.9ms\tremaining: 31.9ms\n",
            "60:\tlearn: 251.4824601\ttest: 240.9192467\tbest: 240.7204260 (59)\ttotal: 48.5ms\tremaining: 31ms\n",
            "61:\tlearn: 250.5950941\ttest: 240.5771264\tbest: 240.5771264 (61)\ttotal: 49.2ms\tremaining: 30.2ms\n",
            "62:\tlearn: 249.7325231\ttest: 240.8258536\tbest: 240.5771264 (61)\ttotal: 49.6ms\tremaining: 29.1ms\n",
            "63:\tlearn: 248.7123273\ttest: 240.5203714\tbest: 240.5203714 (63)\ttotal: 50.3ms\tremaining: 28.3ms\n",
            "64:\tlearn: 247.8520067\ttest: 240.2876232\tbest: 240.2876232 (64)\ttotal: 50.9ms\tremaining: 27.4ms\n",
            "65:\tlearn: 247.2502706\ttest: 240.0027002\tbest: 240.0027002 (65)\ttotal: 51.6ms\tremaining: 26.6ms\n",
            "66:\tlearn: 246.0750491\ttest: 240.1021914\tbest: 240.0027002 (65)\ttotal: 52.2ms\tremaining: 25.7ms\n",
            "67:\tlearn: 244.6475524\ttest: 239.4274404\tbest: 239.4274404 (67)\ttotal: 52.8ms\tremaining: 24.8ms\n",
            "68:\tlearn: 243.3365182\ttest: 239.5261866\tbest: 239.4274404 (67)\ttotal: 53.4ms\tremaining: 24ms\n",
            "69:\tlearn: 242.3891624\ttest: 239.9912828\tbest: 239.4274404 (67)\ttotal: 54ms\tremaining: 23.2ms\n",
            "70:\tlearn: 241.2816001\ttest: 240.3767276\tbest: 239.4274404 (67)\ttotal: 54.6ms\tremaining: 22.3ms\n",
            "71:\tlearn: 239.9899741\ttest: 240.3801504\tbest: 239.4274404 (67)\ttotal: 55.3ms\tremaining: 21.5ms\n",
            "72:\tlearn: 238.9334411\ttest: 240.5217919\tbest: 239.4274404 (67)\ttotal: 55.8ms\tremaining: 20.7ms\n",
            "Stopped by overfitting detector  (5 iterations wait)\n",
            "\n",
            "bestTest = 239.4274404\n",
            "bestIteration = 67\n",
            "\n",
            "Shrink model to first 68 iterations.\n"
          ]
        },
        {
          "data": {
            "text/plain": [
              "<catboost.core.CatBoostRegressor at 0x7fcdd50957c0>"
            ]
          },
          "execution_count": 106,
          "metadata": {},
          "output_type": "execute_result"
        }
      ],
      "source": [
        "reg = CatBoostRegressor(iterations=100,\n",
        "                        learning_rate=0.05,  \n",
        "                        eval_metric='MAE',\n",
        "                        loss_function='RMSE',\n",
        "                        early_stopping_rounds=5,\n",
        "                        cat_features=cat_columns)\n",
        "\n",
        "reg.fit(X_train, y_train,\n",
        "             cat_features=cat_columns,\n",
        "             eval_set = (X_test, y_test)\n",
        ")"
      ]
    },
    {
      "cell_type": "markdown",
      "id": "e1c08cce",
      "metadata": {
        "id": "e1c08cce"
      },
      "source": [
        "### Вывести номер итерации с значения метрик (MAE и MSE) для наилучшей итерации. "
      ]
    },
    {
      "cell_type": "code",
      "execution_count": null,
      "id": "099ed903",
      "metadata": {
        "id": "099ed903",
        "outputId": "676d4d1d-8d84-46dc-b23d-575737298e2e"
      },
      "outputs": [
        {
          "data": {
            "text/plain": [
              "{'learn': {'MAE': 238.93344113035147, 'RMSE': 297.37474414375265},\n",
              " 'validation': {'MAE': 239.42744042144176, 'RMSE': 321.59586630512274}}"
            ]
          },
          "execution_count": 107,
          "metadata": {},
          "output_type": "execute_result"
        }
      ],
      "source": [
        "reg.best_score_"
      ]
    },
    {
      "cell_type": "markdown",
      "source": [
        "# Вывод\n",
        "Для бинарной классификации было проведено сравнение по параметру accuracy с результатом прошлой лабораторной. Было получено, что CatBoostClassifier показывает практически такой же результат, что и RandomForest с параметрами: кол-во деревьев – 8, максимальная глубина дерева – 16"
      ],
      "metadata": {
        "id": "Ju25pHBDI1YI"
      },
      "id": "Ju25pHBDI1YI"
    }
  ],
  "metadata": {
    "kernelspec": {
      "display_name": "Python 3",
      "language": "python",
      "name": "python3"
    },
    "language_info": {
      "codemirror_mode": {
        "name": "ipython",
        "version": 3
      },
      "file_extension": ".py",
      "mimetype": "text/x-python",
      "name": "python",
      "nbconvert_exporter": "python",
      "pygments_lexer": "ipython3",
      "version": "3.8.8"
    },
    "colab": {
      "name": "Lab_5_Catboost_6133_Akhmetov.ipynb",
      "provenance": [],
      "include_colab_link": true
    }
  },
  "nbformat": 4,
  "nbformat_minor": 5
}