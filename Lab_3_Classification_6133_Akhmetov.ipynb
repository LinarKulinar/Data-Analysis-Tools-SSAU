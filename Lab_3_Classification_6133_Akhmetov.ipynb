{
  "cells": [
    {
      "cell_type": "markdown",
      "metadata": {
        "id": "view-in-github",
        "colab_type": "text"
      },
      "source": [
        "<a href=\"https://colab.research.google.com/github/LinarKulinar/Data-Analysis-Tools-SSAU/blob/main/Lab_3_Classification_6133_Akhmetov.ipynb\" target=\"_parent\"><img src=\"https://colab.research.google.com/assets/colab-badge.svg\" alt=\"Open In Colab\"/></a>"
      ]
    },
    {
      "cell_type": "markdown",
      "metadata": {
        "collapsed": true,
        "pycharm": {
          "name": "#%% md\n"
        },
        "id": "vXl2imJrr1Vh"
      },
      "source": [
        "# Лабораторная работа 3\n",
        "Классификация в sklearn. Метрики классификации\n",
        "\n",
        "Выполнил: 6133, Ахметов Линар"
      ]
    },
    {
      "cell_type": "markdown",
      "source": [
        "0.  Выберите наборы данных, подходящие для многоклассовой и бинарной классификации. Опишите данные, что обозначает каждый столбец, какого типа (категориальный, вещественный, целочисленный, бинарный) данный столбец, при необходимости для категориальных в том числе бинарных признаков привести расшифровку их значений. В общем, проведите \"визуальный\" анализ ваших данных."
      ],
      "metadata": {
        "collapsed": false,
        "pycharm": {
          "name": "#%% md\n"
        },
        "id": "P7O9Xv_Nr1Vk"
      }
    },
    {
      "cell_type": "markdown",
      "source": [
        "**1. Многоклассовая классификация:**"
      ],
      "metadata": {
        "collapsed": false,
        "id": "H800EqKAr1Vl"
      }
    },
    {
      "cell_type": "markdown",
      "source": [
        "1.1 На любом датасете продемонстрировать многоклассовую классификацию с помощью ЛЮБОГО алгоритма. Оценить accuracy.\n",
        "\n",
        "1.2. То же самое с использованием кросс-валидации\n",
        "\n",
        "1.3. Поиграться с гиперпараметром, связанным со сложностью модели (в случае kNN — k_neighbours) и построить график accuracy для train set и test_set для разных значений гиперпараметра (в лекции есть пример построения подобного графика для kNN и датасета cancer, но можно строить как угодно такой график)\n",
        "\n",
        "1.4. Построить confusion matrix (это вроде матрицы TN / TP/ FN/ FP, только расширенной для многоклассовой классификации, чтобы понять в какие стороны чаще ошибается классификатор). ([пример](https://scikit-learn.org/stable/auto_examples/model_selection/plot_confusion_matrix.html)):"
      ],
      "metadata": {
        "collapsed": false,
        "pycharm": {
          "name": "#%% md\n"
        },
        "id": "akxUbHHur1Vm"
      }
    },
    {
      "cell_type": "code",
      "execution_count": null,
      "outputs": [
        {
          "data": {
            "text/plain": "'confusion_scores = sklearn.metrics.confusion_matrix( y_test, y_pred )\\nconfusion_df = pd.DataFrame( confusion_scores, columns = iris.target_names, index = iris.target_names )\\nsns.heatmap( confusion_df, annot = True  )'"
          },
          "execution_count": 3,
          "metadata": {},
          "output_type": "execute_result"
        }
      ],
      "source": [
        "\"\"\"confusion_scores = sklearn.metrics.confusion_matrix( y_test, y_pred )\n",
        "confusion_df = pd.DataFrame( confusion_scores, columns = iris.target_names, index = iris.target_names )\n",
        "sns.heatmap( confusion_df, annot = True  )\"\"\""
      ],
      "metadata": {
        "pycharm": {
          "name": "#%%\n"
        },
        "id": "XdgRfj8-r1Vm",
        "outputId": "e46a69c5-5e16-4e90-e8c1-a62ede6b36ba"
      }
    },
    {
      "cell_type": "markdown",
      "source": [
        ""
      ],
      "metadata": {
        "collapsed": false,
        "id": "GCBIRxUJr1Vp"
      }
    },
    {
      "cell_type": "code",
      "execution_count": null,
      "outputs": [],
      "source": [
        ""
      ],
      "metadata": {
        "pycharm": {
          "name": "#%%\n"
        },
        "id": "4Re6Yf3Sr1Vp"
      }
    },
    {
      "cell_type": "markdown",
      "source": [
        "**2. Бинарная классификация.**"
      ],
      "metadata": {
        "collapsed": false,
        "pycharm": {
          "name": "#%% md\n"
        },
        "id": "IGxx5NpTr1Vp"
      }
    },
    {
      "cell_type": "markdown",
      "source": [
        "На любом (но уже другом, бинарном) датасете продемонстрировать бинарную классификацию (можно использовать любой алгоритм), посчитать метрики: accuracy, precision, recall, f-measure, а также составить `classification_report`\n"
      ],
      "metadata": {
        "collapsed": false,
        "pycharm": {
          "name": "#%% md\n"
        },
        "id": "ladelBJDr1Vq"
      }
    },
    {
      "cell_type": "markdown",
      "source": [
        "\n",
        "**3. Использование нормализации признаков**\n",
        "В обоих задачах (бинарной и многоклассовой классификации) попробовать также вариант с предварительной нормализацией признаков (`StandardScaler`или `MinMaxScaler`). Оценить метрики качества в случае с нормализованными признаками и ненормализованными."
      ],
      "metadata": {
        "collapsed": false,
        "pycharm": {
          "name": "#%% md\n"
        },
        "id": "vYJNj41ar1Vq"
      }
    },
    {
      "cell_type": "code",
      "execution_count": null,
      "outputs": [],
      "source": [
        ""
      ],
      "metadata": {
        "pycharm": {
          "name": "#%%\n"
        },
        "id": "4iblwJCRr1Vr"
      }
    }
  ],
  "metadata": {
    "kernelspec": {
      "display_name": "Python 3",
      "language": "python",
      "name": "python3"
    },
    "language_info": {
      "codemirror_mode": {
        "name": "ipython",
        "version": 2
      },
      "file_extension": ".py",
      "mimetype": "text/x-python",
      "name": "python",
      "nbconvert_exporter": "python",
      "pygments_lexer": "ipython2",
      "version": "2.7.6"
    },
    "colab": {
      "name": "Lab_3_Classification_6133_Akhmetov.ipynb",
      "provenance": [],
      "include_colab_link": true
    }
  },
  "nbformat": 4,
  "nbformat_minor": 0
}