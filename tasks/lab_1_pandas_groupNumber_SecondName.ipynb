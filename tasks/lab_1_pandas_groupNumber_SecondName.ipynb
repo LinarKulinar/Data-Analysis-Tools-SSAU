{
  "cells": [
    {
      "cell_type": "markdown",
      "metadata": {
        "id": "view-in-github",
        "colab_type": "text"
      },
      "source": [
        "<a href=\"https://colab.research.google.com/github/LinarKulinar/Data-Analysis-Tools-SSAU/blob/main/tasks/lab_1_pandas_groupNumber_SecondName.ipynb\" target=\"_parent\"><img src=\"https://colab.research.google.com/assets/colab-badge.svg\" alt=\"Open In Colab\"/></a>"
      ]
    },
    {
      "cell_type": "markdown",
      "metadata": {
        "collapsed": true,
        "pycharm": {
          "name": "#%% md\n"
        },
        "id": "7irVUbAne-5L"
      },
      "source": [
        "# Лабораторная работа 1\n",
        "Pandas\n",
        "\n",
        "Выполнил: номер группы, фио (добавить в имя файла)"
      ]
    },
    {
      "cell_type": "markdown",
      "source": [
        "1 Считать в pandas DataFrame любой источник данных:  CSV, JSON, Excel-файл, HTML-таблицу, встроенный датасет sklearn. Опишите ваши данные, что обозначает каждый столбец, какого типа (категориальный, вещественный, целочисленный, бинарный) данный столбец, при необходимости для категориальных в том числе бинарных признаков привести расшифровку их значений. В общем, проведите \"визуальный\" анализ ваших данных.\n"
      ],
      "metadata": {
        "collapsed": false,
        "pycharm": {
          "name": "#%% md\n"
        },
        "id": "1zNqbb7_e-5P"
      }
    },
    {
      "cell_type": "code",
      "execution_count": null,
      "outputs": [],
      "source": [
        ""
      ],
      "metadata": {
        "pycharm": {
          "name": "#%%\n"
        },
        "id": "93RbGYdye-5R"
      }
    },
    {
      "cell_type": "markdown",
      "source": [
        "2 Выполните с датафреймом следующие операции (многие операции можно совершить не одним способом, используйте все известные вам способы, поищите/придумайте новые способы) :\n"
      ],
      "metadata": {
        "collapsed": false,
        "pycharm": {
          "name": "#%% md\n"
        },
        "id": "O8RK2mife-5S"
      }
    },
    {
      "cell_type": "markdown",
      "source": [
        "2.1 вывод таблицы\n",
        "\n",
        "2.2 вывод первых n элементов таблицы\n",
        "\n",
        "2.3 вывод последних n элементов таблицы\n",
        "\n",
        "2.4 .describe()\n",
        "\n",
        "2.5 считывание значения конкретной ячейки (с конкретным индексом из конкретной колонки)  всеми известными вам способами\n",
        "\n",
        "2.6 фильтрация строк по диапазону индекса\n",
        "\n",
        "2.7 фильтрация набора данных по какому-либо условию\n",
        "\n",
        "2.8. работа с пропущенными значениями (если они есть): удаление строк с пропущенными значениями, заполнение пропущенных значений средним значением по колонке. Если пропущенных значений нет — намеренно их \"генерируете\", прибивая какие-то куски данных в np.nan\n",
        "\n",
        "2.9. создание нового поля вычисленного на основе значений других полей:\n",
        "\n",
        "2.9.1 через выражение на базе имеющихся колонок,\n",
        "\n",
        "2.9.2 через DataFrame.apply\n",
        "\n",
        "2.9.3 через Series.apply\n",
        "\n",
        "2.10 сортировка по какому-либо из полей\n",
        "\n",
        "2.11 вычислить несколько статистик по колонкам (используйте встроенные агрегатные функции — любые на выбор)\n",
        "\n",
        "2.12 .value_counts()\n",
        "\n",
        "2.13 Вывод уникальных значений колонки через .unique()\n",
        "\n",
        "2.14 Удалите текущий индекс и создайте новый индекс на базе новой колонки, которая для этого лучше всего подходит\n"
      ],
      "metadata": {
        "collapsed": false,
        "pycharm": {
          "name": "#%% md\n"
        },
        "id": "ZS-e-qQqe-5T"
      }
    },
    {
      "cell_type": "code",
      "execution_count": null,
      "outputs": [],
      "source": [
        ""
      ],
      "metadata": {
        "pycharm": {
          "name": "#%%\n"
        },
        "id": "MLwKE_cXe-5U"
      }
    },
    {
      "cell_type": "markdown",
      "source": [
        "3 Продемонстрировать работу .groupby, на основе группировок в groupby вычисляете агрегатные функции по одной или нескольким колонкам. Какую информацию о данных вы получили, выполнив данную операцию? Запишите ответ в комментариях.\n",
        "\n"
      ],
      "metadata": {
        "collapsed": false,
        "pycharm": {
          "name": "#%% md\n"
        },
        "id": "6nyL6wz9e-5V"
      }
    },
    {
      "cell_type": "code",
      "execution_count": null,
      "outputs": [],
      "source": [
        ""
      ],
      "metadata": {
        "pycharm": {
          "name": "#%%\n"
        },
        "id": "bYR0H8Sbe-5V"
      }
    },
    {
      "cell_type": "markdown",
      "source": [
        "4 Решейпинг данных 1Dto2D с помощью .pivot (можно подать на вход результаты агрегатов, полученных ранее через .groupby (сгруппировать по двум полям), либо прекрасно заходит сюда данные из SQL сгруппированные предварительно по 2-м полям). Какую информацию о данных вы получили, выполнив данную операцию? Запишите ответ в комментариях.\n"
      ],
      "metadata": {
        "collapsed": false,
        "pycharm": {
          "name": "#%% md\n"
        },
        "id": "GH06myuye-5W"
      }
    },
    {
      "cell_type": "code",
      "execution_count": null,
      "outputs": [],
      "source": [
        ""
      ],
      "metadata": {
        "pycharm": {
          "name": "#%%\n"
        },
        "id": "P0cV_5Zue-5W"
      }
    },
    {
      "cell_type": "code",
      "execution_count": null,
      "outputs": [],
      "source": [
        ""
      ],
      "metadata": {
        "pycharm": {
          "name": "#%%\n"
        },
        "id": "FHkhu0X1e-5X"
      }
    },
    {
      "cell_type": "markdown",
      "source": [
        "5 Решейпинг 1Dto2D данных соединённый с группировкой / агрегацией (одним словом — сводная таблица): .pivot_table. Группируем только по категориальным полям или числовым, если уверены, что значений немного! Если значений много, можете вначале из загрубить (см. (2.9.) либо (7)).\n",
        "Перед тем как выполнять задание сформулируйте вопрос, на который собираетесь получить ответ с помощью сводной таблицы. Запишите этот вопрос в комментариях. Какую информацию о данных вы в результате получили?\n",
        "https://pbpython.com/pandas-pivot-table-explained.html\n"
      ],
      "metadata": {
        "collapsed": false,
        "pycharm": {
          "name": "#%% md\n"
        },
        "id": "7ag-4AS2e-5X"
      }
    },
    {
      "cell_type": "code",
      "execution_count": null,
      "outputs": [],
      "source": [
        ""
      ],
      "metadata": {
        "pycharm": {
          "name": "#%%\n"
        },
        "id": "Eii2Ceq5e-5Y"
      }
    },
    {
      "cell_type": "code",
      "execution_count": null,
      "outputs": [],
      "source": [
        ""
      ],
      "metadata": {
        "pycharm": {
          "name": "#%%\n"
        },
        "id": "H1XldVFje-5Z"
      }
    },
    {
      "cell_type": "markdown",
      "source": [
        "6 Посчитать квантили распределения какого-либо вещественного признака (с помощью numpy.quantile или numpy.percentile)"
      ],
      "metadata": {
        "collapsed": false,
        "pycharm": {
          "name": "#%% md\n"
        },
        "id": "XYyEBIRfe-5Z"
      }
    },
    {
      "cell_type": "code",
      "execution_count": null,
      "outputs": [],
      "source": [
        ""
      ],
      "metadata": {
        "pycharm": {
          "name": "#%%\n"
        },
        "id": "-UxiK24Je-5Z"
      }
    },
    {
      "cell_type": "markdown",
      "source": [
        "\n",
        "7 Посчитать гистограмму какого-либо вещественного признака (с помощью numpy.histogram). Значения гистограммы можете использовать как вариант в качестве загрубленного числового признака для заданий (4) или (5)."
      ],
      "metadata": {
        "collapsed": false,
        "pycharm": {
          "name": "#%% md\n"
        },
        "id": "_M4_NR65e-5a"
      }
    },
    {
      "cell_type": "code",
      "execution_count": null,
      "outputs": [],
      "source": [
        ""
      ],
      "metadata": {
        "pycharm": {
          "name": "#%%\n"
        },
        "id": "N_pp7sZle-5a"
      }
    },
    {
      "cell_type": "code",
      "execution_count": null,
      "outputs": [],
      "source": [
        ""
      ],
      "metadata": {
        "pycharm": {
          "name": "#%%\n"
        },
        "id": "3LAfi2M-e-5a"
      }
    },
    {
      "cell_type": "markdown",
      "source": [
        "\n",
        "8 Получить DataFrame с MultiIndex любым способом: через конструктор (в документации увидите множество видов конструкторов для создания MultiIndex с нуля), через read_sql / read_csv / read_excel, read_*, через pivot_table, через groupby или иными способами.\n"
      ],
      "metadata": {
        "collapsed": false,
        "pycharm": {
          "name": "#%% md\n"
        },
        "id": "b6jiuoe3e-5b"
      }
    },
    {
      "cell_type": "code",
      "execution_count": null,
      "outputs": [],
      "source": [
        ""
      ],
      "metadata": {
        "pycharm": {
          "name": "#%%\n"
        },
        "id": "puEy1orae-5b"
      }
    },
    {
      "cell_type": "code",
      "execution_count": null,
      "outputs": [],
      "source": [
        ""
      ],
      "metadata": {
        "pycharm": {
          "name": "#%%\n"
        },
        "id": "IKNXa3nKe-5b"
      }
    },
    {
      "cell_type": "markdown",
      "source": [
        "9 Переставить местами уровни индекса\n"
      ],
      "metadata": {
        "collapsed": false,
        "pycharm": {
          "name": "#%% md\n"
        },
        "id": "_3-PygCwe-5c"
      }
    },
    {
      "cell_type": "code",
      "execution_count": null,
      "outputs": [],
      "source": [
        ""
      ],
      "metadata": {
        "pycharm": {
          "name": "#%%\n"
        },
        "id": "XOSs0lhne-5c"
      }
    },
    {
      "cell_type": "markdown",
      "source": [
        "10 Транспонировать таблицу (или создать новую другую) с MultiIndex"
      ],
      "metadata": {
        "collapsed": false,
        "pycharm": {
          "name": "#%% md\n"
        },
        "id": "vWKFYz4be-5c"
      }
    },
    {
      "cell_type": "code",
      "execution_count": null,
      "outputs": [],
      "source": [
        ""
      ],
      "metadata": {
        "pycharm": {
          "name": "#%%\n"
        },
        "id": "lxibY6Jre-5d"
      }
    },
    {
      "cell_type": "code",
      "execution_count": null,
      "outputs": [],
      "source": [
        ""
      ],
      "metadata": {
        "pycharm": {
          "name": "#%%\n"
        },
        "id": "za1PSZdye-5d"
      }
    },
    {
      "cell_type": "markdown",
      "source": [
        "11 Удалить один из уровней индекса или добавить новый уровень индекса (можно инициализированный константой)\n"
      ],
      "metadata": {
        "collapsed": false,
        "pycharm": {
          "name": "#%% md\n"
        },
        "id": "LX0s5sPZe-5d"
      }
    },
    {
      "cell_type": "code",
      "execution_count": null,
      "outputs": [],
      "source": [
        ""
      ],
      "metadata": {
        "pycharm": {
          "name": "#%%\n"
        },
        "id": "csKyHVw-e-5d"
      }
    },
    {
      "cell_type": "code",
      "execution_count": null,
      "outputs": [],
      "source": [
        ""
      ],
      "metadata": {
        "pycharm": {
          "name": "#%%\n"
        },
        "id": "J9unT0D6e-5e"
      }
    },
    {
      "cell_type": "markdown",
      "source": [
        "12 Продемонстировать работу .merge"
      ],
      "metadata": {
        "collapsed": false,
        "pycharm": {
          "name": "#%% md\n"
        },
        "id": "rWoKVOPXe-5e"
      }
    },
    {
      "cell_type": "code",
      "execution_count": null,
      "outputs": [],
      "source": [
        ""
      ],
      "metadata": {
        "pycharm": {
          "name": "#%%\n"
        },
        "id": "5w2Kw3Oqe-5e"
      }
    },
    {
      "cell_type": "code",
      "execution_count": null,
      "outputs": [],
      "source": [
        ""
      ],
      "metadata": {
        "pycharm": {
          "name": "#%%\n"
        },
        "id": "VTVknFaue-5f"
      }
    },
    {
      "cell_type": "markdown",
      "source": [
        "\n",
        "13 Продемонстрировать работу с .concat или append"
      ],
      "metadata": {
        "collapsed": false,
        "pycharm": {
          "name": "#%% md\n"
        },
        "id": "76yOEtI8e-5f"
      }
    },
    {
      "cell_type": "code",
      "execution_count": null,
      "outputs": [],
      "source": [
        ""
      ],
      "metadata": {
        "pycharm": {
          "name": "#%%\n"
        },
        "id": "fo3xuVtLe-5g"
      }
    },
    {
      "cell_type": "markdown",
      "source": [
        "14 Проитерировать dataframe построчно .iterrows(). Выполните что-то имеющее смысл внутри цикла"
      ],
      "metadata": {
        "collapsed": false,
        "pycharm": {
          "name": "#%% md\n"
        },
        "id": "oZvRQ394e-5g"
      }
    },
    {
      "cell_type": "code",
      "execution_count": null,
      "outputs": [],
      "source": [
        ""
      ],
      "metadata": {
        "pycharm": {
          "name": "#%%\n"
        },
        "id": "KIfDnjpTe-5h"
      }
    },
    {
      "cell_type": "code",
      "source": [
        ""
      ],
      "metadata": {
        "pycharm": {
          "name": "#%%\n"
        },
        "id": "1VPChNyue-5h"
      },
      "execution_count": null,
      "outputs": []
    },
    {
      "cell_type": "code",
      "execution_count": null,
      "outputs": [],
      "source": [
        ""
      ],
      "metadata": {
        "pycharm": {
          "name": "#%%\n"
        },
        "id": "iAa9ZHO8e-5i"
      }
    }
  ],
  "metadata": {
    "kernelspec": {
      "display_name": "Python 3",
      "language": "python",
      "name": "python3"
    },
    "language_info": {
      "codemirror_mode": {
        "name": "ipython",
        "version": 2
      },
      "file_extension": ".py",
      "mimetype": "text/x-python",
      "name": "python",
      "nbconvert_exporter": "python",
      "pygments_lexer": "ipython2",
      "version": "2.7.6"
    },
    "colab": {
      "name": "lab_1_pandas_groupNumber_SecondName.ipynb",
      "provenance": [],
      "include_colab_link": true
    }
  },
  "nbformat": 4,
  "nbformat_minor": 0
}